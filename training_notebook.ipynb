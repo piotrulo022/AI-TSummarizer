{
 "cells": [
  {
   "cell_type": "code",
   "execution_count": 6,
   "metadata": {},
   "outputs": [],
   "source": [
    "from ds_tokenizer import *\n",
    "from model import *\n",
    "from train import *"
   ]
  },
  {
   "cell_type": "code",
   "execution_count": 7,
   "metadata": {},
   "outputs": [],
   "source": [
    "MAX_SRC_LEN = 150\n",
    "MAX_TGT_LEN = 45\n",
    "\n",
    "train_dataloader, val_dataloader, tokenizer_src, tokenizer_tgt = ds_from_parquet('/home/piotr/STUDIA/AMLM/PROJEKT/datasets/train_ds.parquet',src_seq_len=MAX_SRC_LEN, tgt_seq_len=MAX_TGT_LEN, train_size=0.9, train_batch_size=8)"
   ]
  },
  {
   "cell_type": "code",
   "execution_count": 8,
   "metadata": {},
   "outputs": [],
   "source": [
    "src_vocab_size = tokenizer_src.get_vocab_size()\n",
    "tgt_vocab_size = tokenizer_tgt.get_vocab_size()\n"
   ]
  },
  {
   "cell_type": "code",
   "execution_count": 9,
   "metadata": {},
   "outputs": [],
   "source": [
    "transformer = build_transformer(N = 8, src_vocab_size=src_vocab_size, tgt_vocab_size=tgt_vocab_size, src_seq_len=MAX_SRC_LEN, tgt_seq_len=MAX_TGT_LEN)"
   ]
  },
  {
   "cell_type": "code",
   "execution_count": 10,
   "metadata": {},
   "outputs": [
    {
     "name": "stdout",
     "output_type": "stream",
     "text": [
      "Epoch:  1\n"
     ]
    },
    {
     "name": "stderr",
     "output_type": "stream",
     "text": [
      "Processing epoch: 00:   0%|          | 0/22500 [00:04<?, ?it/s, loss=10.337]stty: 'standard input': Inappropriate ioctl for device\n"
     ]
    },
    {
     "name": "stdout",
     "output_type": "stream",
     "text": [
      "--------------------------------------------------------------------------------\n",
      "    SOURCE: A Pretoria taxi driver charged with the murder of a 16-year-old schoolgirl will know his fate in the Pretoria Regional Court this week, according to a report on the IoL site.\n",
      "    TARGET: A taxi driver will know his fate this week.\n",
      " PREDICTED: \n"
     ]
    },
    {
     "name": "stderr",
     "output_type": "stream",
     "text": [
      "Processing epoch: 00:   0%|          | 1/22500 [00:05<35:46:21,  5.72s/it, loss=10.337]"
     ]
    },
    {
     "name": "stdout",
     "output_type": "stream",
     "text": [
      "--------------------------------------------------------------------------------\n",
      "    SOURCE: Oscar winning actress Penelope Cruz has been named the world's most beautiful woman in a list compiled by fashion expert Sally Allen.\n",
      "    TARGET: Penelope Cruz has been named the world's most beautiful woman.\n",
      " PREDICTED: \n",
      "--------------------------------------------------------------------------------\n"
     ]
    },
    {
     "name": "stderr",
     "output_type": "stream",
     "text": [
      "Processing epoch: 00:   0%|          | 1/22500 [00:10<35:46:21,  5.72s/it, loss=9.946] stty: 'standard input': Inappropriate ioctl for device\n",
      "Processing epoch: 00:   0%|          | 2/22500 [00:11<36:53:59,  5.90s/it, loss=9.946]"
     ]
    },
    {
     "name": "stdout",
     "output_type": "stream",
     "text": [
      "--------------------------------------------------------------------------------\n",
      "    SOURCE: A spokesperson for the Cuyahoga County Coroner's Office tells Fox 8 News that skeletal remains of an unidentified body were found Monday in Cleveland.\n",
      "    TARGET: Skeletal remains were found in Cleveland.\n",
      " PREDICTED: \n",
      "--------------------------------------------------------------------------------\n",
      "    SOURCE: Delta Petroleum Corporation, an independent oil and gas company, today announced the close of the previously approved strategic investment by the Tracinda Corporation.\n",
      "    TARGET: Delta Petroleum Corporation today announced the close of the strategic investment by the Tracinda Corporation.\n",
      " PREDICTED: \n",
      "--------------------------------------------------------------------------------\n"
     ]
    },
    {
     "name": "stderr",
     "output_type": "stream",
     "text": [
      "Processing epoch: 00:   0%|          | 2/22500 [00:16<36:53:59,  5.90s/it, loss=9.683]stty: 'standard input': Inappropriate ioctl for device\n",
      "Processing epoch: 00:   0%|          | 3/22500 [00:17<36:45:55,  5.88s/it, loss=9.683]"
     ]
    },
    {
     "name": "stdout",
     "output_type": "stream",
     "text": [
      "--------------------------------------------------------------------------------\n",
      "    SOURCE: Vijaya Bank has exceeded its business target for 2007-08 with a growth of more than 25 per cent, its Chairman and Managing Director Prakash P Mallya said on Monday.\n",
      "    TARGET: Vijaya Bank has exceeded its business target for 2007 08, said.\n",
      " PREDICTED: \n",
      "--------------------------------------------------------------------------------\n",
      "    SOURCE: Software services firm IBM has launched the largest ever new storage hardware, which would let businesses, governments and other institutions to transform static data into more dynamic information.\n",
      "    TARGET: IBM has launched the new storage hardware.\n",
      " PREDICTED: \n",
      "--------------------------------------------------------------------------------\n"
     ]
    },
    {
     "name": "stderr",
     "output_type": "stream",
     "text": [
      "Processing epoch: 00:   0%|          | 3/22500 [00:22<36:45:55,  5.88s/it, loss=9.148]stty: 'standard input': Inappropriate ioctl for device\n",
      "Processing epoch: 00:   0%|          | 4/22500 [00:23<36:33:43,  5.85s/it, loss=9.148]"
     ]
    },
    {
     "name": "stdout",
     "output_type": "stream",
     "text": [
      "--------------------------------------------------------------------------------\n",
      "    SOURCE: Nottingham Forest manager Alex McLeish has left the club after five weeks in charge citing differences with the owners over development strategy, the twice European champions said in a statement on Tuesday.\n",
      "    TARGET: Manager Alex McLeish has left after five weeks.\n",
      " PREDICTED: \n",
      "--------------------------------------------------------------------------------\n",
      "    SOURCE: British No.1 Andy Murray met Hollywood superstar Kevin Spacey after beating Feliciano Lopez to set up last-16 match with the big hitting Canadian Milos Raonic.\n",
      "    TARGET: Andy Murray met Hollywood superstar Kevin Spacey.\n",
      " PREDICTED: \n",
      "--------------------------------------------------------------------------------\n"
     ]
    },
    {
     "name": "stderr",
     "output_type": "stream",
     "text": [
      "Processing epoch: 00:   0%|          | 4/22500 [00:28<36:33:43,  5.85s/it, loss=9.248]stty: 'standard input': Inappropriate ioctl for device\n",
      "Processing epoch: 00:   0%|          | 5/22500 [00:29<36:55:44,  5.91s/it, loss=9.248]"
     ]
    },
    {
     "name": "stdout",
     "output_type": "stream",
     "text": [
      "--------------------------------------------------------------------------------\n",
      "    SOURCE: Transitional justice in Zimbabwe, which has been described as one of the key factors in rebuilding the country, is being hampered by the lack of any real reform promised by the unity government.\n",
      "    TARGET: Transitional justice is being hampered by the lack of any reform.\n",
      " PREDICTED: \n",
      "--------------------------------------------------------------------------------\n",
      "    SOURCE: While oil and gas producers were busy watching for the evolution of prices and supply and demand fundamentals for their commodities, coal fortunes have been on the rise and are likely to continue so.\n",
      "    TARGET: Coal fortunes have been on the rise.\n",
      " PREDICTED: \n",
      "--------------------------------------------------------------------------------\n"
     ]
    },
    {
     "name": "stderr",
     "output_type": "stream",
     "text": [
      "Processing epoch: 00:   0%|          | 5/22500 [00:33<36:55:44,  5.91s/it, loss=8.705]stty: 'standard input': Inappropriate ioctl for device\n",
      "Processing epoch: 00:   0%|          | 6/22500 [00:34<34:56:20,  5.59s/it, loss=8.705]"
     ]
    },
    {
     "name": "stdout",
     "output_type": "stream",
     "text": [
      "--------------------------------------------------------------------------------\n",
      "    SOURCE: FIFA have threatened to ban Switzerland from the sport if they fail to punish Sion for fielding ineligible players in the Europa League.\n",
      "    TARGET: FIFA have threatened to ban Switzerland.\n",
      " PREDICTED: \n",
      "--------------------------------------------------------------------------------\n",
      "    SOURCE: New Delhi, Mar 21 A 35-year-old BJP worker attempted to commit suicide here this evening apparently due to family problems, police said.\n",
      "    TARGET: New Delhi, A BJP worker attempted to commit suicide.\n",
      " PREDICTED: \n",
      "--------------------------------------------------------------------------------\n"
     ]
    },
    {
     "name": "stderr",
     "output_type": "stream",
     "text": [
      "Processing epoch: 00:   0%|          | 6/22500 [00:39<34:56:20,  5.59s/it, loss=8.582]stty: 'standard input': Inappropriate ioctl for device\n",
      "Processing epoch: 00:   0%|          | 7/22500 [00:40<36:26:48,  5.83s/it, loss=8.582]"
     ]
    },
    {
     "name": "stdout",
     "output_type": "stream",
     "text": [
      "--------------------------------------------------------------------------------\n",
      "    SOURCE: Arizona Sen. John McCain clinched the Republican presidential nomination Tuesday, mustering enough support across the nation to become the party's candidate for the November election.\n",
      "    TARGET: John McCain clinched the Republican presidential nomination.\n",
      " PREDICTED: \n",
      "--------------------------------------------------------------------------------\n",
      "    SOURCE: A child care worker who indecently touched two girls while they were in his care at a Bundaberg daycare centre has had his 14-month suspended sentence successfully appealed by Attorney-General Jarrod Bleijie.\n",
      "    TARGET: A child care worker has had his sentence appealed.\n",
      " PREDICTED: \n",
      "--------------------------------------------------------------------------------\n"
     ]
    },
    {
     "name": "stderr",
     "output_type": "stream",
     "text": [
      "Processing epoch: 00:   0%|          | 7/22500 [00:45<36:26:48,  5.83s/it, loss=8.383]stty: 'standard input': Inappropriate ioctl for device\n",
      "Processing epoch: 00:   0%|          | 8/22500 [00:46<36:14:48,  5.80s/it, loss=8.383]"
     ]
    },
    {
     "name": "stdout",
     "output_type": "stream",
     "text": [
      "--------------------------------------------------------------------------------\n",
      "    SOURCE: Spain midfielder Javi Martinez hurt an ankle in training and may be unavailable for the European champions' quarter-final against Paraguay on Saturday.\n",
      "    TARGET: Spain midfielder Javi Martinez hurt an ankle in training.\n",
      " PREDICTED: \n",
      "--------------------------------------------------------------------------------\n",
      "    SOURCE: Veteran actor and BJP leader Shatrughan Sinha underwent bypass surgery at a city hospital on Monday and would continue to stay there for a few days.\n",
      "    TARGET: Shatrughan Sinha underwent bypass surgery.\n",
      " PREDICTED: \n",
      "--------------------------------------------------------------------------------\n"
     ]
    },
    {
     "name": "stderr",
     "output_type": "stream",
     "text": [
      "Processing epoch: 00:   0%|          | 8/22500 [00:51<36:14:48,  5.80s/it, loss=8.114]stty: 'standard input': Inappropriate ioctl for device\n",
      "Processing epoch: 00:   0%|          | 9/22500 [00:52<36:57:42,  5.92s/it, loss=8.114]"
     ]
    },
    {
     "name": "stdout",
     "output_type": "stream",
     "text": [
      "--------------------------------------------------------------------------------\n",
      "    SOURCE: In a brief statement, publicist Catherine Olim said Nicole Kidman and husband, country singer Keith Urban, are expecting a baby and ``the couple are thrilled.''\n",
      "    TARGET: Nicole Kidman, country singer Keith Urban, are expecting a baby.\n",
      " PREDICTED: \n",
      "--------------------------------------------------------------------------------\n",
      "    SOURCE: Indian based IT companies are now looking forward towards a strong establishment in China, as this could be a tough task.\n",
      "    TARGET: Indian based IT companies are looking forward towards a strong establishment in China.\n",
      " PREDICTED: \n",
      "--------------------------------------------------------------------------------\n"
     ]
    },
    {
     "name": "stderr",
     "output_type": "stream",
     "text": [
      "Processing epoch: 00:   0%|          | 9/22500 [00:56<36:57:42,  5.92s/it, loss=8.334]stty: 'standard input': Inappropriate ioctl for device\n"
     ]
    },
    {
     "name": "stdout",
     "output_type": "stream",
     "text": [
      "--------------------------------------------------------------------------------\n",
      "    SOURCE: Indonesia condemned Thursday the terrorist attacks in Mumbai that killed at least 101 people, calling the attacks 'cruel and inhumane' and expressed hope that the perpetrators will be swiftly arrested and brought to justice.\n",
      "    TARGET: Indonesia condemned the attacks in Mumbai.\n",
      " PREDICTED: \n"
     ]
    },
    {
     "name": "stderr",
     "output_type": "stream",
     "text": [
      "Processing epoch: 00:   0%|          | 10/22500 [00:57<35:23:46,  5.67s/it, loss=8.334]"
     ]
    },
    {
     "name": "stdout",
     "output_type": "stream",
     "text": [
      "--------------------------------------------------------------------------------\n",
      "    SOURCE: A tornado watch was issued in southwestern Ontario on Sunday by Environment Canada, as a hot and humid air mass with the potential to develop into severe thunderstorms moved north from the United States.\n",
      "    TARGET: A tornado watch was issued in southwestern Ontario.\n",
      " PREDICTED: \n",
      "--------------------------------------------------------------------------------\n"
     ]
    },
    {
     "name": "stderr",
     "output_type": "stream",
     "text": [
      "Processing epoch: 00:   0%|          | 10/22500 [01:03<35:23:46,  5.67s/it, loss=7.723]stty: 'standard input': Inappropriate ioctl for device\n",
      "Processing epoch: 00:   0%|          | 11/22500 [01:04<37:42:17,  6.04s/it, loss=7.723]"
     ]
    },
    {
     "name": "stdout",
     "output_type": "stream",
     "text": [
      "--------------------------------------------------------------------------------\n",
      "    SOURCE: Police are investigating a death but say it's too early to determine whether the matter involved foul play or not, or even whether it's suspicious.\n",
      "    TARGET: Police are investigating a death.\n",
      " PREDICTED: \n",
      "--------------------------------------------------------------------------------\n",
      "    SOURCE: A Harris County, Texas, judge denied bond for Johnny Jolly meaning the suspended Green Bay Packers defensive lineman will remain behind bars for the foreseeable future.\n",
      "    TARGET: A judge denied bond for Johnny Jolly.\n",
      " PREDICTED: \n",
      "--------------------------------------------------------------------------------\n"
     ]
    },
    {
     "name": "stderr",
     "output_type": "stream",
     "text": [
      "Processing epoch: 00:   0%|          | 11/22500 [01:09<37:42:17,  6.04s/it, loss=7.889]stty: 'standard input': Inappropriate ioctl for device\n",
      "Processing epoch: 00:   0%|          | 12/22500 [01:10<37:23:16,  5.99s/it, loss=7.889]"
     ]
    },
    {
     "name": "stdout",
     "output_type": "stream",
     "text": [
      "--------------------------------------------------------------------------------\n",
      "    SOURCE: Nearly 16 hours after the polls closed, Democratic gubernatorial candidate Alex Sink conceded the race to Republican challenger Rick Scott.\n",
      "    TARGET: Alex Sink conceded the race.\n",
      " PREDICTED: \n",
      "--------------------------------------------------------------------------------\n",
      "    SOURCE: The Brewers finalized a $36 million, three-year contract with free agent third baseman Aramis Ramirez on Wednesday, adding a much-needed bat to their lineup.\n",
      "    TARGET: The Brewers finalized a, contract with Aramis Ramirez.\n",
      " PREDICTED: \n",
      "--------------------------------------------------------------------------------\n"
     ]
    },
    {
     "name": "stderr",
     "output_type": "stream",
     "text": [
      "Processing epoch: 00:   0%|          | 12/22500 [01:15<37:23:16,  5.99s/it, loss=7.922]stty: 'standard input': Inappropriate ioctl for device\n"
     ]
    },
    {
     "name": "stdout",
     "output_type": "stream",
     "text": [
      "--------------------------------------------------------------------------------\n",
      "    SOURCE: Juniper Networks has extended its Junos Pulse Mobile Security Suite, which is a comprehensive security software suite that protects mobile devices and customers' sensitive information, and includes mobile device management capabilities.\n",
      "    TARGET: Juniper Networks has extended its Junos Pulse Mobile Security Suite, which is a suite.\n",
      " PREDICTED: \n"
     ]
    },
    {
     "name": "stderr",
     "output_type": "stream",
     "text": [
      "Processing epoch: 00:   0%|          | 13/22500 [01:22<48:12:24,  7.72s/it, loss=7.922]"
     ]
    },
    {
     "name": "stdout",
     "output_type": "stream",
     "text": [
      "--------------------------------------------------------------------------------\n",
      "    SOURCE: The 46-year-old cyclist was riding along the A171, near Whitby, North Yorkshire, at about 4pm, on Monday, June 20, when he was hit by a passing coach.\n",
      "    TARGET: The cyclist was hit by a coach.\n",
      " PREDICTED: \n",
      "--------------------------------------------------------------------------------\n"
     ]
    },
    {
     "name": "stderr",
     "output_type": "stream",
     "text": [
      "Processing epoch: 00:   0%|          | 13/22500 [01:26<48:12:24,  7.72s/it, loss=7.981]stty: 'standard input': Inappropriate ioctl for device\n"
     ]
    },
    {
     "name": "stdout",
     "output_type": "stream",
     "text": [
      "--------------------------------------------------------------------------------\n",
      "    SOURCE: The profit after tax of Lotte Pakistan PTA Limited has reduced to Rs 151.111 million in the quarter ended March 31, 2012 as compared to Rs 2,485.552 million earned in the corresponding quarter in 2011.\n",
      "    TARGET: The profit after tax of Lotte Pakistan PTA Limited has reduced to Rs 151.111 million.\n",
      " PREDICTED: \n"
     ]
    },
    {
     "name": "stderr",
     "output_type": "stream",
     "text": [
      "Processing epoch: 00:   0%|          | 14/22500 [01:34<56:44:59,  9.09s/it, loss=7.981]"
     ]
    },
    {
     "name": "stdout",
     "output_type": "stream",
     "text": [
      "--------------------------------------------------------------------------------\n",
      "    SOURCE: Sony fined for cyber-attack data breach Updated: 18:30, Friday January 25, 2013 Electronics giant Sony has been fined by Britain's data watchdog for a breach that compromised the personal information of millions of customers using PlayStation video games consoles.\n",
      "    TARGET: Sony fined for cyber-attack data breach.\n",
      " PREDICTED: \n",
      "--------------------------------------------------------------------------------\n"
     ]
    },
    {
     "name": "stderr",
     "output_type": "stream",
     "text": [
      "Processing epoch: 00:   0%|          | 14/22500 [01:39<56:44:59,  9.09s/it, loss=9.025]stty: 'standard input': Inappropriate ioctl for device\n"
     ]
    },
    {
     "name": "stdout",
     "output_type": "stream",
     "text": [
      "--------------------------------------------------------------------------------\n",
      "    SOURCE: A cab driver was shot in the head early Saturday in northeast Salem, police said.\n",
      "    TARGET: A cab driver was shot in the head in Salem.\n",
      " PREDICTED: \n"
     ]
    },
    {
     "name": "stderr",
     "output_type": "stream",
     "text": [
      "Processing epoch: 00:   0%|          | 15/22500 [01:46<61:58:01,  9.92s/it, loss=9.025]"
     ]
    },
    {
     "name": "stdout",
     "output_type": "stream",
     "text": [
      "--------------------------------------------------------------------------------\n",
      "    SOURCE: Lions DT Ndamukong Suh is being sued for more than $1 million in an Oregon court by a passenger in a one-car accident involving Suh last December, multiple media outlets reported Thursday.\n",
      "    TARGET: Lions Ndamukong Suh is being sued for more than $ 1 million.\n",
      " PREDICTED: \n",
      "--------------------------------------------------------------------------------\n"
     ]
    },
    {
     "name": "stderr",
     "output_type": "stream",
     "text": [
      "Processing epoch: 00:   0%|          | 15/22500 [01:50<61:58:01,  9.92s/it, loss=8.526]stty: 'standard input': Inappropriate ioctl for device\n"
     ]
    },
    {
     "name": "stdout",
     "output_type": "stream",
     "text": [
      "--------------------------------------------------------------------------------\n",
      "    SOURCE: Amazon has officially launched Kindle Singles, a feature that allows writers to submit their work for inclusion in the Kindle e-bookstore.\n",
      "    TARGET: Amazon has launched Kindle Singles.\n",
      " PREDICTED: \n"
     ]
    },
    {
     "name": "stderr",
     "output_type": "stream",
     "text": [
      "Processing epoch: 00:   0%|          | 16/22500 [01:57<65:17:32, 10.45s/it, loss=8.526]"
     ]
    },
    {
     "name": "stdout",
     "output_type": "stream",
     "text": [
      "--------------------------------------------------------------------------------\n",
      "    SOURCE: What's the point of having a single render device, when so many things need different ways of handling?\n",
      "    TARGET: What's the point of having a single render device.\n",
      " PREDICTED: \n",
      "--------------------------------------------------------------------------------\n"
     ]
    },
    {
     "name": "stderr",
     "output_type": "stream",
     "text": [
      "Processing epoch: 00:   0%|          | 16/22500 [02:02<65:17:32, 10.45s/it, loss=8.352]stty: 'standard input': Inappropriate ioctl for device\n"
     ]
    },
    {
     "name": "stdout",
     "output_type": "stream",
     "text": [
      "--------------------------------------------------------------------------------\n",
      "    SOURCE: Just got this quick note in from Namco Bandai that Splatterhouse has gone gold.\n",
      "    TARGET: Splatterhouse has gone gold.\n",
      " PREDICTED: \n"
     ]
    },
    {
     "name": "stderr",
     "output_type": "stream",
     "text": [
      "Processing epoch: 00:   0%|          | 17/22500 [02:09<67:41:49, 10.84s/it, loss=8.352]"
     ]
    },
    {
     "name": "stdout",
     "output_type": "stream",
     "text": [
      "--------------------------------------------------------------------------------\n",
      "    SOURCE: Biotage, a leading supplier of tools and technology for medicinal and analytical chemistry, today announced the eagerly awaited global launch of the Syro Wave™; their new microwave and parallel peptide synthesizer.\n",
      "    TARGET: Biotage today announced the global launch of the Syro Wave ™ ; their microwave and parallel peptide synthesizer.\n",
      " PREDICTED: \n",
      "--------------------------------------------------------------------------------\n"
     ]
    },
    {
     "name": "stderr",
     "output_type": "stream",
     "text": [
      "Processing epoch: 00:   0%|          | 17/22500 [02:14<67:41:49, 10.84s/it, loss=7.624]stty: 'standard input': Inappropriate ioctl for device\n"
     ]
    },
    {
     "name": "stdout",
     "output_type": "stream",
     "text": [
      "--------------------------------------------------------------------------------\n",
      "    SOURCE: In this video clip, Breakfast presenter Paul Henry gets uncontrollable giggles after a story about pet rats, while Pippa Wetzell maintains her composure.\n",
      "    TARGET: Paul Henry gets giggles.\n",
      " PREDICTED: \n"
     ]
    },
    {
     "name": "stderr",
     "output_type": "stream",
     "text": [
      "Processing epoch: 00:   0%|          | 18/22500 [02:23<74:00:54, 11.85s/it, loss=7.624]"
     ]
    },
    {
     "name": "stdout",
     "output_type": "stream",
     "text": [
      "--------------------------------------------------------------------------------\n",
      "    SOURCE: A 41-year-old Muskegon Township man has been charged with second-degree criminal sexual conduct with a girl under the age of 13.\n",
      "    TARGET: A man has been charged with criminal sexual conduct.\n",
      " PREDICTED: \n",
      "--------------------------------------------------------------------------------\n"
     ]
    },
    {
     "name": "stderr",
     "output_type": "stream",
     "text": [
      "Processing epoch: 00:   0%|          | 18/22500 [02:29<74:00:54, 11.85s/it, loss=7.672]stty: 'standard input': Inappropriate ioctl for device\n"
     ]
    },
    {
     "name": "stdout",
     "output_type": "stream",
     "text": [
      "--------------------------------------------------------------------------------\n",
      "    SOURCE: The father of the two-year-old boy, who was clawed by a cougar at Como Zoo, stepped forward about what happened to his son.\n",
      "    TARGET: The father of the boy, who was clawed by a cougar, stepped forward.\n",
      " PREDICTED: \n"
     ]
    },
    {
     "name": "stderr",
     "output_type": "stream",
     "text": [
      "Processing epoch: 00:   0%|          | 19/22500 [02:31<65:28:11, 10.48s/it, loss=7.672]"
     ]
    },
    {
     "name": "stdout",
     "output_type": "stream",
     "text": [
      "--------------------------------------------------------------------------------\n",
      "    SOURCE: THE State Government has warned that dementia sufferers will increasingly be shut out of aged care as private-run homes ``cherry-pick'' low-cost residents.\n",
      "    TARGET: Dementia sufferers will be shut.\n",
      " PREDICTED: \n",
      "--------------------------------------------------------------------------------\n"
     ]
    },
    {
     "name": "stderr",
     "output_type": "stream",
     "text": [
      "Processing epoch: 00:   0%|          | 19/22500 [02:37<65:28:11, 10.48s/it, loss=8.076]stty: 'standard input': Inappropriate ioctl for device\n"
     ]
    },
    {
     "name": "stdout",
     "output_type": "stream",
     "text": [
      "--------------------------------------------------------------------------------\n",
      "    SOURCE: A flea market is not the answer in Long Valley.\n",
      "    TARGET: A flea market is not the answer.\n",
      " PREDICTED: \n"
     ]
    },
    {
     "name": "stderr",
     "output_type": "stream",
     "text": [
      "Processing epoch: 00:   0%|          | 20/22500 [02:38<59:21:32,  9.51s/it, loss=8.076]"
     ]
    },
    {
     "name": "stdout",
     "output_type": "stream",
     "text": [
      "--------------------------------------------------------------------------------\n",
      "    SOURCE: AIR CADETS from Edmonton will be flying successes at an awards ceremony in Edmonton next week.\n",
      "    TARGET: AIR CADETS will be flying successes.\n",
      " PREDICTED: \n",
      "--------------------------------------------------------------------------------\n"
     ]
    },
    {
     "name": "stderr",
     "output_type": "stream",
     "text": [
      "Processing epoch: 00:   0%|          | 20/22500 [02:44<59:21:32,  9.51s/it, loss=7.634]stty: 'standard input': Inappropriate ioctl for device\n"
     ]
    },
    {
     "name": "stdout",
     "output_type": "stream",
     "text": [
      "--------------------------------------------------------------------------------\n",
      "    SOURCE: Spring-Ford Area School District principals have agreed to a pay freeze, but some board members think administrators should go one step further and take a pay cut.\n",
      "    TARGET: Principals have agreed to a pay freeze.\n",
      " PREDICTED: \n"
     ]
    },
    {
     "name": "stderr",
     "output_type": "stream",
     "text": [
      "Processing epoch: 00:   0%|          | 21/22500 [02:46<55:58:08,  8.96s/it, loss=7.634]"
     ]
    },
    {
     "name": "stdout",
     "output_type": "stream",
     "text": [
      "--------------------------------------------------------------------------------\n",
      "    SOURCE: The Obama administration on Thursday announced a $1.25 billion deal with black farmers that could end a years-long stalemate over alleged racial discrimination by the Agriculture Department.\n",
      "    TARGET: The Obama administration announced a $ 1.25 billion deal with black farmers.\n",
      " PREDICTED: \n",
      "--------------------------------------------------------------------------------\n"
     ]
    },
    {
     "name": "stderr",
     "output_type": "stream",
     "text": [
      "Processing epoch: 00:   0%|          | 21/22500 [02:51<55:58:08,  8.96s/it, loss=7.694]stty: 'standard input': Inappropriate ioctl for device\n"
     ]
    },
    {
     "name": "stdout",
     "output_type": "stream",
     "text": [
      "--------------------------------------------------------------------------------\n",
      "    SOURCE: US Secretary of Education Arne Duncan today announced that Colorado will receive nearly $40 million to turn around its persistently lowest achieving schools through the School Improvement Grants program.\n",
      "    TARGET: Colorado will receive nearly $ 40 million to turn around its persistently lowest achieving schools.\n",
      " PREDICTED: \n"
     ]
    },
    {
     "name": "stderr",
     "output_type": "stream",
     "text": [
      "Processing epoch: 00:   0%|          | 22/22500 [02:52<50:50:39,  8.14s/it, loss=7.694]"
     ]
    },
    {
     "name": "stdout",
     "output_type": "stream",
     "text": [
      "--------------------------------------------------------------------------------\n",
      "    SOURCE: Russian President Dmitry Medvedev and Finnish President Tarja Halonen had an informal meeting in Moscow on Monday, November 8.\n",
      "    TARGET: Dmitry Medvedev and Tarja Halonen had an informal meeting.\n",
      " PREDICTED: \n",
      "--------------------------------------------------------------------------------\n"
     ]
    },
    {
     "name": "stderr",
     "output_type": "stream",
     "text": [
      "Processing epoch: 00:   0%|          | 22/22500 [02:57<50:50:39,  8.14s/it, loss=7.339]stty: 'standard input': Inappropriate ioctl for device\n",
      "Processing epoch: 00:   0%|          | 23/22500 [02:58<46:52:13,  7.51s/it, loss=7.339]"
     ]
    },
    {
     "name": "stdout",
     "output_type": "stream",
     "text": [
      "--------------------------------------------------------------------------------\n",
      "    SOURCE: RIA Novosti reported that Gazprom plans to produce 507 billion cubic meters of natural gas in 2010 but could boost output to 600 billion cubic meters if necessary.\n",
      "    TARGET: Gazprom plans to produce 507 billion cubic meters of gas in 2010.\n",
      " PREDICTED: \n",
      "--------------------------------------------------------------------------------\n",
      "    SOURCE: Young LDS women participating in the UVU study reflected on their faith and college.\n",
      "    TARGET: LDS women reflected on their faith and college.\n",
      " PREDICTED: \n",
      "--------------------------------------------------------------------------------\n"
     ]
    },
    {
     "name": "stderr",
     "output_type": "stream",
     "text": [
      "Processing epoch: 00:   0%|          | 23/22500 [03:04<46:52:13,  7.51s/it, loss=7.695]stty: 'standard input': Inappropriate ioctl for device\n"
     ]
    },
    {
     "name": "stdout",
     "output_type": "stream",
     "text": [
      "--------------------------------------------------------------------------------\n",
      "    SOURCE: Gov. Rick Perry has declared a tort reform bill to be emergency legislation, which allows the House and Senate to push the bill to the top of the agenda.\n",
      "    TARGET: Rick Perry has declared a tort reform bill to be emergency legislation.\n",
      " PREDICTED: \n"
     ]
    },
    {
     "name": "stderr",
     "output_type": "stream",
     "text": [
      "Processing epoch: 00:   0%|          | 24/22500 [03:05<46:35:09,  7.46s/it, loss=7.695]"
     ]
    },
    {
     "name": "stdout",
     "output_type": "stream",
     "text": [
      "--------------------------------------------------------------------------------\n",
      "    SOURCE: One of the major disadvantages of running a janitorial business begins with the manner in which a business owner is perceived by their customers.\n",
      "    TARGET: One of the disadvantages of running a janitorial business begins.\n",
      " PREDICTED: \n",
      "--------------------------------------------------------------------------------\n"
     ]
    },
    {
     "name": "stderr",
     "output_type": "stream",
     "text": [
      "Processing epoch: 00:   0%|          | 24/22500 [03:11<46:35:09,  7.46s/it, loss=7.372]stty: 'standard input': Inappropriate ioctl for device\n"
     ]
    },
    {
     "name": "stdout",
     "output_type": "stream",
     "text": [
      "--------------------------------------------------------------------------------\n",
      "    SOURCE: The City Council Monday unanimously approved marketing partnerships in which Toyota will provide nearly three dozen new vehicles to San Diego's lifeguards and Sprint Solutions will provide wireless services.\n",
      "    TARGET: The City Council Monday approved partnerships Toyota will provide.\n",
      " PREDICTED: \n"
     ]
    },
    {
     "name": "stderr",
     "output_type": "stream",
     "text": [
      "Processing epoch: 00:   0%|          | 25/22500 [03:12<45:43:42,  7.32s/it, loss=7.372]"
     ]
    },
    {
     "name": "stdout",
     "output_type": "stream",
     "text": [
      "--------------------------------------------------------------------------------\n",
      "    SOURCE: Rochester police made three unusual arrests around the city Thursday and Friday.\n",
      "    TARGET: Rochester police made three unusual arrests.\n",
      " PREDICTED: \n",
      "--------------------------------------------------------------------------------\n"
     ]
    },
    {
     "name": "stderr",
     "output_type": "stream",
     "text": [
      "Processing epoch: 00:   0%|          | 25/22500 [03:17<45:43:42,  7.32s/it, loss=7.758]stty: 'standard input': Inappropriate ioctl for device\n",
      "Processing epoch: 00:   0%|          | 26/22500 [03:19<44:07:09,  7.07s/it, loss=7.758]"
     ]
    },
    {
     "name": "stdout",
     "output_type": "stream",
     "text": [
      "--------------------------------------------------------------------------------\n",
      "    SOURCE: Day laborers are organizing to set a minimum hourly rate for their work, improve working conditions and fight unscrupulous contractors.\n",
      "    TARGET: Day laborers are organizing to set, improve conditions.\n",
      " PREDICTED: \n",
      "--------------------------------------------------------------------------------\n",
      "    SOURCE: Chicago Bears coach Lovie Smith insists he has ``no complaints'' about Tommie Harris, except in one key area, apparently - his production.\n",
      "    TARGET: Lovie Smith has no complaints about Tommie Harris.\n",
      " PREDICTED: \n",
      "--------------------------------------------------------------------------------\n"
     ]
    },
    {
     "name": "stderr",
     "output_type": "stream",
     "text": [
      "Processing epoch: 00:   0%|          | 26/22500 [03:25<44:07:09,  7.07s/it, loss=7.769]stty: 'standard input': Inappropriate ioctl for device\n"
     ]
    },
    {
     "name": "stdout",
     "output_type": "stream",
     "text": [
      "--------------------------------------------------------------------------------\n",
      "    SOURCE: Next Inning Technology Research, a subscription service focused on semiconductor and technology stocks, announced it has previewed earnings for VMWare , EMC , SanDisk , and Zoran .\n",
      "    TARGET: Next Inning Technology Research announced it has previewed earnings for VMWare, EMC, SanDisk, and Zoran.\n",
      " PREDICTED: \n",
      "--------------------------------------------------------------------------------\n",
      "    SOURCE: Coleen exclusively told OK!: ``What irritates me is that he sleeps with a fan, he has it by his bed and has it on every night.''\n",
      "    TARGET: Coleen exclusively told.\n",
      " PREDICTED: \n",
      "--------------------------------------------------------------------------------\n"
     ]
    },
    {
     "name": "stderr",
     "output_type": "stream",
     "text": [
      "Processing epoch: 00:   0%|          | 27/22500 [03:31<44:14:06,  7.09s/it, loss=7.658]stty: 'standard input': Inappropriate ioctl for device\n",
      "Processing epoch: 00:   0%|          | 28/22500 [03:32<42:49:17,  6.86s/it, loss=7.658]"
     ]
    },
    {
     "name": "stdout",
     "output_type": "stream",
     "text": [
      "--------------------------------------------------------------------------------\n",
      "    SOURCE: The Lexington Public Library is making further budget cuts, anticipating flat revenues and rising expenses that would create a deficit of $838,000 in the next fiscal year.\n",
      "    TARGET: The Lexington Public Library is making further cuts.\n",
      " PREDICTED: \n",
      "--------------------------------------------------------------------------------\n",
      "    SOURCE: BDO United Kingdom - UK 'has one in three' chance of dipping back into recession An economist at Barclays Wealth has warned that there is a one in three chance of a double dip recession in the UK.\n",
      "    TARGET: BDO United Kingdom UK has one in three chance of dipping back into recession has warned.\n",
      " PREDICTED: \n",
      "--------------------------------------------------------------------------------\n"
     ]
    },
    {
     "name": "stderr",
     "output_type": "stream",
     "text": [
      "Processing epoch: 00:   0%|          | 28/22500 [03:37<42:49:17,  6.86s/it, loss=7.828]stty: 'standard input': Inappropriate ioctl for device\n"
     ]
    },
    {
     "name": "stdout",
     "output_type": "stream",
     "text": [
      "--------------------------------------------------------------------------------\n",
      "    SOURCE: Indian shares rebounded from an early slide and ended little changed on Tuesday, propelled by gains in energy giant Reliance Industries and explorer Oil and Natural Gas Corp.\n",
      "    TARGET: Indian shares rebounded from an slide.\n",
      " PREDICTED: \n"
     ]
    },
    {
     "name": "stderr",
     "output_type": "stream",
     "text": [
      "Processing epoch: 00:   0%|          | 29/22500 [03:38<40:51:30,  6.55s/it, loss=7.828]"
     ]
    },
    {
     "name": "stdout",
     "output_type": "stream",
     "text": [
      "--------------------------------------------------------------------------------\n",
      "    SOURCE: Network Rail has revealed a new far-reaching strategy to provide more train seats and services to boost capacity and shorten journey times for Luton commuters.\n",
      "    TARGET: Network Rail has revealed a strategy to provide more train seats.\n",
      " PREDICTED: \n",
      "--------------------------------------------------------------------------------\n"
     ]
    },
    {
     "name": "stderr",
     "output_type": "stream",
     "text": [
      "Processing epoch: 00:   0%|          | 29/22500 [03:42<40:51:30,  6.55s/it, loss=7.978]stty: 'standard input': Inappropriate ioctl for device\n",
      "Processing epoch: 00:   0%|          | 30/22500 [03:43<38:13:53,  6.13s/it, loss=7.978]"
     ]
    },
    {
     "name": "stdout",
     "output_type": "stream",
     "text": [
      "--------------------------------------------------------------------------------\n",
      "    SOURCE: Countrywide hearings on water and sanitation issues will start this week, the SA Human Rights Commission said on Tuesday.\n",
      "    TARGET: Countrywide hearings on water and sanitation issues will start.\n",
      " PREDICTED: \n",
      "--------------------------------------------------------------------------------\n",
      "    SOURCE: A huge cache of arms and ammunition, including 40 hand grenades and 45 kilograms of explosive material, were recovered from a militant hideout in north Kashmir's Baramulla district on Friday.\n",
      "    TARGET: A huge cache of arms were recovered from a militant hideout.\n",
      " PREDICTED: \n",
      "--------------------------------------------------------------------------------\n"
     ]
    },
    {
     "name": "stderr",
     "output_type": "stream",
     "text": [
      "Processing epoch: 00:   0%|          | 30/22500 [03:48<38:13:53,  6.13s/it, loss=7.684]stty: 'standard input': Inappropriate ioctl for device\n"
     ]
    },
    {
     "name": "stdout",
     "output_type": "stream",
     "text": [
      "--------------------------------------------------------------------------------\n",
      "    SOURCE: Zale Corp. said first-quarter loss for the three months ended Oct. 31 widened to $45.35 million, or $1.43 a share, from a loss of $26.7 million, or 58 cents a share in the year-ago period.\n",
      "    TARGET: Zale Corp. said loss widened to $, or $ 1.43 a share.\n",
      " PREDICTED: \n"
     ]
    },
    {
     "name": "stderr",
     "output_type": "stream",
     "text": [
      "Processing epoch: 00:   0%|          | 31/22500 [03:49<37:42:09,  6.04s/it, loss=7.684]"
     ]
    },
    {
     "name": "stdout",
     "output_type": "stream",
     "text": [
      "--------------------------------------------------------------------------------\n",
      "    SOURCE: Malaysia and Algeria have agreed to sign an air services agreement soon, the Ministry of Transport said today.\n",
      "    TARGET: Malaysia and Algeria have agreed to sign an air services agreement.\n",
      " PREDICTED: \n",
      "--------------------------------------------------------------------------------\n"
     ]
    },
    {
     "name": "stderr",
     "output_type": "stream",
     "text": [
      "Processing epoch: 00:   0%|          | 31/22500 [03:54<37:42:09,  6.04s/it, loss=7.896]stty: 'standard input': Inappropriate ioctl for device\n"
     ]
    },
    {
     "name": "stdout",
     "output_type": "stream",
     "text": [
      "--------------------------------------------------------------------------------\n",
      "    SOURCE: Leader of the Islamic Revolution Ayatollah Seyyed Ali Khamenei has endorsed President Mahmoud Ahmadinejad for his second term in office.\n",
      "    TARGET: Leader has endorsed Mahmoud Ahmadinejad.\n",
      " PREDICTED: \n"
     ]
    },
    {
     "name": "stderr",
     "output_type": "stream",
     "text": [
      "Processing epoch: 00:   0%|          | 32/22500 [03:55<38:05:00,  6.10s/it, loss=7.896]"
     ]
    },
    {
     "name": "stdout",
     "output_type": "stream",
     "text": [
      "--------------------------------------------------------------------------------\n",
      "    SOURCE: CarwashTV.com, a new industry video magazine, released its first episode earlier this month, according to a press release.\n",
      "    TARGET: CarwashTV.com released its first episode.\n",
      " PREDICTED: \n",
      "--------------------------------------------------------------------------------\n"
     ]
    },
    {
     "name": "stderr",
     "output_type": "stream",
     "text": [
      "Processing epoch: 00:   0%|          | 32/22500 [04:01<38:05:00,  6.10s/it, loss=7.333]stty: 'standard input': Inappropriate ioctl for device\n",
      "Processing epoch: 00:   0%|          | 33/22500 [04:02<39:49:46,  6.38s/it, loss=7.333]"
     ]
    },
    {
     "name": "stdout",
     "output_type": "stream",
     "text": [
      "--------------------------------------------------------------------------------\n",
      "    SOURCE: With President Pratibha Patil rejecting the mercy petition of two convicts on death row, BJP today raised the pitch for the hanging of Parliament attack convict Afzal Guru and said the government was not bound to go by sequence while dealing with pending pleas.\n",
      "    TARGET: BJP today raised the pitch for the hanging of Afzal Guru.\n",
      " PREDICTED: \n",
      "--------------------------------------------------------------------------------\n",
      "    SOURCE: Tenneco Inc. swung to a first-quarter profit, as a rebound in the auto industry helped the parts maker post surging sales and improved margins and top analyst expectations.\n",
      "    TARGET: Tenneco Inc. swung to a profit.\n",
      " PREDICTED: \n",
      "--------------------------------------------------------------------------------\n"
     ]
    },
    {
     "name": "stderr",
     "output_type": "stream",
     "text": [
      "Processing epoch: 00:   0%|          | 33/22500 [04:07<39:49:46,  6.38s/it, loss=7.674]stty: 'standard input': Inappropriate ioctl for device\n"
     ]
    },
    {
     "name": "stdout",
     "output_type": "stream",
     "text": [
      "--------------------------------------------------------------------------------\n",
      "    SOURCE: In response to criticism that the city does not announce board appointment vacancies, Mayor Bob Dixson and the city council have publicly announced two recent vacancies and have allotted time for interested residents to respond and state their interest in serving.\n",
      "    TARGET: The city does not announce board vacancies.\n",
      " PREDICTED: \n"
     ]
    },
    {
     "name": "stderr",
     "output_type": "stream",
     "text": [
      "Processing epoch: 00:   0%|          | 34/22500 [04:09<39:38:19,  6.35s/it, loss=7.674]"
     ]
    },
    {
     "name": "stdout",
     "output_type": "stream",
     "text": [
      "--------------------------------------------------------------------------------\n",
      "    SOURCE: Project Natal plans leaked, partnership tracks gamers' behaviour, and Sony drives motion control.\n",
      "    TARGET: Project Natal plans leaked.\n",
      " PREDICTED: \n",
      "--------------------------------------------------------------------------------\n"
     ]
    },
    {
     "name": "stderr",
     "output_type": "stream",
     "text": [
      "Processing epoch: 00:   0%|          | 34/22500 [04:14<39:38:19,  6.35s/it, loss=8.277]stty: 'standard input': Inappropriate ioctl for device\n"
     ]
    },
    {
     "name": "stdout",
     "output_type": "stream",
     "text": [
      "--------------------------------------------------------------------------------\n",
      "    SOURCE: Bowlers give Aussies edge Updated: 16:48, Tuesday April 3, 2012 Australia are on top in their tour match with the West Indies Cricket Board President's XI after day one of the three-day clash in Barbados.\n",
      "    TARGET: Bowlers give Aussies edge.\n",
      " PREDICTED: \n"
     ]
    },
    {
     "name": "stderr",
     "output_type": "stream",
     "text": [
      "Processing epoch: 00:   0%|          | 35/22500 [04:16<40:45:16,  6.53s/it, loss=8.277]"
     ]
    },
    {
     "name": "stdout",
     "output_type": "stream",
     "text": [
      "--------------------------------------------------------------------------------\n",
      "    SOURCE: Business owners can claim their free listing in Patch Places to promote their business and inform Patch readers.\n",
      "    TARGET: Business owners can claim their listing in Patch Places.\n",
      " PREDICTED: \n",
      "--------------------------------------------------------------------------------\n"
     ]
    },
    {
     "name": "stderr",
     "output_type": "stream",
     "text": [
      "Processing epoch: 00:   0%|          | 35/22500 [04:22<40:45:16,  6.53s/it, loss=8.125]stty: 'standard input': Inappropriate ioctl for device\n"
     ]
    },
    {
     "name": "stdout",
     "output_type": "stream",
     "text": [
      "--------------------------------------------------------------------------------\n",
      "    SOURCE: Bangladesh Prime Minister Sheikh Hasina has assured better upkeep of Hindu temples and a discussion on amending law pertaining to property belonging to religious minorities.\n",
      "    TARGET: Sheikh Hasina has assured better upkeep of Hindu temples.\n",
      " PREDICTED: \n"
     ]
    },
    {
     "name": "stderr",
     "output_type": "stream",
     "text": [
      "Processing epoch: 00:   0%|          | 36/22500 [04:24<44:51:21,  7.19s/it, loss=8.125]"
     ]
    },
    {
     "name": "stdout",
     "output_type": "stream",
     "text": [
      "--------------------------------------------------------------------------------\n",
      "    SOURCE: Newly released financial disclosure statements show New Jersey Gov. Chris Christie and his wife earned more than $500,000 in the past year.\n",
      "    TARGET: Gov. Chris Christie and his wife earned more than $ 500,000 in the past year.\n",
      " PREDICTED: \n",
      "--------------------------------------------------------------------------------\n"
     ]
    },
    {
     "name": "stderr",
     "output_type": "stream",
     "text": [
      "Processing epoch: 00:   0%|          | 36/22500 [04:32<44:51:21,  7.19s/it, loss=8.352]stty: 'standard input': Inappropriate ioctl for device\n"
     ]
    },
    {
     "name": "stdout",
     "output_type": "stream",
     "text": [
      "--------------------------------------------------------------------------------\n",
      "    SOURCE: How can I access and read messages sent to my Facebook email address?\n",
      "    TARGET: How can I access messages sent to my Facebook email address.\n",
      " PREDICTED: \n"
     ]
    },
    {
     "name": "stderr",
     "output_type": "stream",
     "text": [
      "Processing epoch: 00:   0%|          | 37/22500 [04:35<51:20:17,  8.23s/it, loss=8.352]"
     ]
    },
    {
     "name": "stdout",
     "output_type": "stream",
     "text": [
      "--------------------------------------------------------------------------------\n",
      "    SOURCE: If you're a Dropbox and Windows Mobile user, DroppedBoxx brings your Dropbox files and folder syncing to Windows Mobile.\n",
      "    TARGET: DroppedBoxx brings your Dropbox files to Windows Mobile.\n",
      " PREDICTED: \n",
      "--------------------------------------------------------------------------------\n"
     ]
    },
    {
     "name": "stderr",
     "output_type": "stream",
     "text": [
      "Processing epoch: 00:   0%|          | 37/22500 [04:42<51:20:17,  8.23s/it, loss=7.639]stty: 'standard input': Inappropriate ioctl for device\n"
     ]
    },
    {
     "name": "stdout",
     "output_type": "stream",
     "text": [
      "--------------------------------------------------------------------------------\n",
      "    SOURCE: Timo Glock has admitted it is now likely he will leave Toyota at the end of this season, with the German's future now set to be either with Renault or the new Manor outfit.\n",
      "    TARGET: It is now likely Timo Glock will leave Toyota.\n",
      " PREDICTED: \n"
     ]
    },
    {
     "name": "stderr",
     "output_type": "stream",
     "text": [
      "Processing epoch: 00:   0%|          | 38/22500 [04:44<53:45:20,  8.62s/it, loss=7.639]"
     ]
    },
    {
     "name": "stdout",
     "output_type": "stream",
     "text": [
      "--------------------------------------------------------------------------------\n",
      "    SOURCE: Under the agreement, BMW will supply to Saab a turbocharged four-cylinder 1.6-litre engine, which has been tailored to the Swedish company's requirements.\n",
      "    TARGET: BMW will supply to Saab a engine.\n",
      " PREDICTED: \n",
      "--------------------------------------------------------------------------------\n"
     ]
    },
    {
     "name": "stderr",
     "output_type": "stream",
     "text": [
      "Processing epoch: 00:   0%|          | 38/22500 [04:51<53:45:20,  8.62s/it, loss=7.778]stty: 'standard input': Inappropriate ioctl for device\n"
     ]
    },
    {
     "name": "stdout",
     "output_type": "stream",
     "text": [
      "--------------------------------------------------------------------------------\n",
      "    SOURCE: Brooks, 43, was arrested at a London police station at noon Sunday by appointment.\n",
      "    TARGET: Brooks was arrested at a London station.\n",
      " PREDICTED: \n"
     ]
    },
    {
     "name": "stderr",
     "output_type": "stream",
     "text": [
      "Processing epoch: 00:   0%|          | 39/22500 [04:53<53:06:14,  8.51s/it, loss=7.778]"
     ]
    },
    {
     "name": "stdout",
     "output_type": "stream",
     "text": [
      "--------------------------------------------------------------------------------\n",
      "    SOURCE: Authorities say an injured bobcat bit a woman who stopped to help it along US 301 near Tampa.\n",
      "    TARGET: An bobcat bit a woman.\n",
      " PREDICTED: \n",
      "--------------------------------------------------------------------------------\n"
     ]
    },
    {
     "name": "stderr",
     "output_type": "stream",
     "text": [
      "Processing epoch: 00:   0%|          | 39/22500 [04:59<53:06:14,  8.51s/it, loss=7.722]stty: 'standard input': Inappropriate ioctl for device\n"
     ]
    },
    {
     "name": "stdout",
     "output_type": "stream",
     "text": [
      "--------------------------------------------------------------------------------\n",
      "    SOURCE: An Iraqi television cameraman and his driver were killed in a roadside bombing north of Baghdad, Al-Forat TV reported on Wednesday.\n",
      "    TARGET: An Iraqi television cameraman were killed.\n",
      " PREDICTED: \n"
     ]
    },
    {
     "name": "stderr",
     "output_type": "stream",
     "text": [
      "Processing epoch: 00:   0%|          | 40/22500 [05:01<52:44:20,  8.45s/it, loss=7.722]"
     ]
    },
    {
     "name": "stdout",
     "output_type": "stream",
     "text": [
      "--------------------------------------------------------------------------------\n",
      "    SOURCE: PTI May 21, 2013, 04.55AM IST With an impending comprehensive immigration reform, two leading US business groups have called on lawmakers to support an increase in H-1B visas and providing green cards to entrepreneurs who create jobs so as to keep attracting the ``best and brightest''.\n",
      "    TARGET: Two US business groups have called to support an increase in H-1B visas.\n",
      " PREDICTED: \n",
      "--------------------------------------------------------------------------------\n"
     ]
    },
    {
     "name": "stderr",
     "output_type": "stream",
     "text": [
      "Processing epoch: 00:   0%|          | 40/22500 [05:09<52:44:20,  8.45s/it, loss=7.850]stty: 'standard input': Inappropriate ioctl for device\n"
     ]
    },
    {
     "name": "stdout",
     "output_type": "stream",
     "text": [
      "--------------------------------------------------------------------------------\n",
      "    SOURCE: Husky Energy Inc. has filed a universal short form base shelf prospectus with the Alberta Securities Commission and the US Securities and Exchange Commission,, effective June 13, 2011.\n",
      "    TARGET: Husky Energy Inc. has filed a universal prospectus.\n",
      " PREDICTED: \n"
     ]
    },
    {
     "name": "stderr",
     "output_type": "stream",
     "text": [
      "Processing epoch: 00:   0%|          | 41/22500 [05:10<54:39:53,  8.76s/it, loss=7.850]"
     ]
    },
    {
     "name": "stdout",
     "output_type": "stream",
     "text": [
      "--------------------------------------------------------------------------------\n",
      "    SOURCE: Tour de France and Olympic time trial champion Bradley Wiggins has announced he will compete in next month's Tour of Britain.\n",
      "    TARGET: And Bradley Wiggins will compete in next month's Tour of Britain.\n",
      " PREDICTED: \n",
      "--------------------------------------------------------------------------------\n"
     ]
    },
    {
     "name": "stderr",
     "output_type": "stream",
     "text": [
      "Processing epoch: 00:   0%|          | 41/22500 [05:19<54:39:53,  8.76s/it, loss=8.167]stty: 'standard input': Inappropriate ioctl for device\n"
     ]
    },
    {
     "name": "stdout",
     "output_type": "stream",
     "text": [
      "--------------------------------------------------------------------------------\n",
      "    SOURCE: Britain's National Trust said it has updated its list of ``50 things to do before you are 11 3/4'' using recommendations from children.\n",
      "    TARGET: Britain's National Trust has updated its list of 50 things to do before you are 11 3/4.\n",
      " PREDICTED: \n"
     ]
    },
    {
     "name": "stderr",
     "output_type": "stream",
     "text": [
      "Processing epoch: 00:   0%|          | 42/22500 [05:21<58:06:58,  9.32s/it, loss=8.167]"
     ]
    },
    {
     "name": "stdout",
     "output_type": "stream",
     "text": [
      "--------------------------------------------------------------------------------\n",
      "    SOURCE: A Gig Harbor pilot crashed-landed his plane upside down near Shelton Thursday after losing power.\n",
      "    TARGET: A Gig Harbor pilot crashed - landed his plane upside down near Shelton Thursday.\n",
      " PREDICTED: \n",
      "--------------------------------------------------------------------------------\n"
     ]
    },
    {
     "name": "stderr",
     "output_type": "stream",
     "text": [
      "Processing epoch: 00:   0%|          | 42/22500 [05:28<58:06:58,  9.32s/it, loss=7.548]stty: 'standard input': Inappropriate ioctl for device\n"
     ]
    },
    {
     "name": "stdout",
     "output_type": "stream",
     "text": [
      "--------------------------------------------------------------------------------\n",
      "    SOURCE: For eight years, from the relative calm of the early '60s through the decade's turbulent later years, Andy Griffith - who died today at 86 - sat at or near the top of the ratings with The Andy Griffith Show.\n",
      "    TARGET: Andy Griffith died at 86.\n",
      " PREDICTED: \n"
     ]
    },
    {
     "name": "stderr",
     "output_type": "stream",
     "text": [
      "Processing epoch: 00:   0%|          | 43/22500 [05:30<56:39:30,  9.08s/it, loss=7.548]"
     ]
    },
    {
     "name": "stdout",
     "output_type": "stream",
     "text": [
      "--------------------------------------------------------------------------------\n",
      "    SOURCE: South Korean scientists said Monday they have found the cause of degenerative arthritis and a potential treatment method for it, Yonhap News Agency reported.\n",
      "    TARGET: Scientists said they have found the cause of degenerative arthritis and a potential treatment method.\n",
      " PREDICTED: \n",
      "--------------------------------------------------------------------------------\n"
     ]
    },
    {
     "name": "stderr",
     "output_type": "stream",
     "text": [
      "Processing epoch: 00:   0%|          | 43/22500 [05:35<56:39:30,  9.08s/it, loss=7.889]stty: 'standard input': Inappropriate ioctl for device\n"
     ]
    },
    {
     "name": "stdout",
     "output_type": "stream",
     "text": [
      "--------------------------------------------------------------------------------\n",
      "    SOURCE: Two schools and two colleges in the district have decided to introduce khadi uniforms from next academic year while some others are contemplating the idea.\n",
      "    TARGET: Two schools and two colleges have decided to introduce khadi uniforms from next academic year.\n",
      " PREDICTED: \n"
     ]
    },
    {
     "name": "stderr",
     "output_type": "stream",
     "text": [
      "Processing epoch: 00:   0%|          | 44/22500 [05:36<51:40:24,  8.28s/it, loss=7.889]"
     ]
    },
    {
     "name": "stdout",
     "output_type": "stream",
     "text": [
      "--------------------------------------------------------------------------------\n",
      "    SOURCE: The oil patch has a lot to celebrate during this year's Calgary Stampede, with oil prices and industry profits at all-time highs.\n",
      "    TARGET: The oil patch has a lot to celebrate.\n",
      " PREDICTED: \n",
      "--------------------------------------------------------------------------------\n"
     ]
    },
    {
     "name": "stderr",
     "output_type": "stream",
     "text": [
      "Processing epoch: 00:   0%|          | 44/22500 [05:42<51:40:24,  8.28s/it, loss=7.911]stty: 'standard input': Inappropriate ioctl for device\n"
     ]
    },
    {
     "name": "stdout",
     "output_type": "stream",
     "text": [
      "--------------------------------------------------------------------------------\n",
      "    SOURCE: Saturday, Puerto Rican actress Roselyn Sanchez married actor Eric Winter in front of 250 guests at the San Cristobal fort.\n",
      "    TARGET: Roselyn Sanchez married Eric Winter.\n",
      " PREDICTED: \n"
     ]
    },
    {
     "name": "stderr",
     "output_type": "stream",
     "text": [
      "Processing epoch: 00:   0%|          | 45/22500 [05:44<50:43:26,  8.13s/it, loss=7.911]"
     ]
    },
    {
     "name": "stdout",
     "output_type": "stream",
     "text": [
      "--------------------------------------------------------------------------------\n",
      "    SOURCE: Researchers at Eindhoven University of Technology have developed an active electromagnetic suspension system that can increase the ride quality of cars by 60 percent.\n",
      "    TARGET: Researchers have developed an active electromagnetic suspension system that can increase the ride quality of cars by 60 percent.\n",
      " PREDICTED: \n",
      "--------------------------------------------------------------------------------\n"
     ]
    },
    {
     "name": "stderr",
     "output_type": "stream",
     "text": [
      "Processing epoch: 00:   0%|          | 45/22500 [05:50<50:43:26,  8.13s/it, loss=7.910]stty: 'standard input': Inappropriate ioctl for device\n"
     ]
    },
    {
     "name": "stdout",
     "output_type": "stream",
     "text": [
      "--------------------------------------------------------------------------------\n",
      "    SOURCE: AAA announces the launch of its new senior safety and mobility Web site, www.AAASeniors.com.\n",
      "    TARGET: AAA announces the launch of its new senior safety and mobility Web site.\n",
      " PREDICTED: \n"
     ]
    },
    {
     "name": "stderr",
     "output_type": "stream",
     "text": [
      "Processing epoch: 00:   0%|          | 46/22500 [05:52<50:37:25,  8.12s/it, loss=7.910]"
     ]
    },
    {
     "name": "stdout",
     "output_type": "stream",
     "text": [
      "--------------------------------------------------------------------------------\n",
      "    SOURCE: Metro, the world's fourth-largest retailer, sees first signs of recovery in Eastern European markets, but its chief executive warned of tough times ahead in the retailer's home market of Germany.\n",
      "    TARGET: Metro sees signs of recovery in Eastern European markets.\n",
      " PREDICTED: \n",
      "--------------------------------------------------------------------------------\n"
     ]
    },
    {
     "name": "stderr",
     "output_type": "stream",
     "text": [
      "Processing epoch: 00:   0%|          | 46/22500 [05:58<50:37:25,  8.12s/it, loss=8.077]stty: 'standard input': Inappropriate ioctl for device\n"
     ]
    },
    {
     "name": "stdout",
     "output_type": "stream",
     "text": [
      "--------------------------------------------------------------------------------\n",
      "    SOURCE: Sports broadcaster Tony Veitch has admitted he attacked his former partner, saying it is something he will regret until the end of his days.\n",
      "    TARGET: Tony Veitch has admitted he attacked his former partner.\n",
      " PREDICTED: \n"
     ]
    },
    {
     "name": "stderr",
     "output_type": "stream",
     "text": [
      "Processing epoch: 00:   0%|          | 47/22500 [05:59<49:14:05,  7.89s/it, loss=8.077]"
     ]
    },
    {
     "name": "stdout",
     "output_type": "stream",
     "text": [
      "--------------------------------------------------------------------------------\n",
      "    SOURCE: Water is being diverted from the swollen North Platte River into irrigation canals in west-central Nebraska earlier than usual this year to reduce the risk of flooding, officials said.\n",
      "    TARGET: Water is being diverted from the swollen North Platte River into canals.\n",
      " PREDICTED: \n",
      "--------------------------------------------------------------------------------\n"
     ]
    },
    {
     "name": "stderr",
     "output_type": "stream",
     "text": [
      "Processing epoch: 00:   0%|          | 47/22500 [06:06<49:14:05,  7.89s/it, loss=7.649]stty: 'standard input': Inappropriate ioctl for device\n"
     ]
    },
    {
     "name": "stdout",
     "output_type": "stream",
     "text": [
      "--------------------------------------------------------------------------------\n",
      "    SOURCE: On Sunday night's episode of Keeping Up With the Kardashians, Kim Kardashian learned that she has psoriasis‎ and Bruce Jenner learned that his daughter Kendall is taking birth control pills.\n",
      "    TARGET: Kim Kardashian has psoriasis ‎.\n",
      " PREDICTED: \n"
     ]
    },
    {
     "name": "stderr",
     "output_type": "stream",
     "text": [
      "Processing epoch: 00:   0%|          | 48/22500 [06:07<48:52:34,  7.84s/it, loss=7.649]"
     ]
    },
    {
     "name": "stdout",
     "output_type": "stream",
     "text": [
      "--------------------------------------------------------------------------------\n",
      "    SOURCE: Singer Carrie Underwood shows her wedding ring after performing on NBC's Today Show in New York July 30, 2010.\n",
      "    TARGET: Singer Carrie Underwood shows after performing.\n",
      " PREDICTED: \n",
      "--------------------------------------------------------------------------------\n"
     ]
    },
    {
     "name": "stderr",
     "output_type": "stream",
     "text": [
      "Processing epoch: 00:   0%|          | 48/22500 [06:12<48:52:34,  7.84s/it, loss=7.519]stty: 'standard input': Inappropriate ioctl for device\n"
     ]
    },
    {
     "name": "stdout",
     "output_type": "stream",
     "text": [
      "--------------------------------------------------------------------------------\n",
      "    SOURCE: A strong earthquake shook northeastern Nevada early this morning, possibly damaging some buildings.\n",
      "    TARGET: A earthquake shook northeastern Nevada.\n",
      " PREDICTED: \n"
     ]
    },
    {
     "name": "stderr",
     "output_type": "stream",
     "text": [
      "Processing epoch: 00:   0%|          | 49/22500 [06:13<46:22:02,  7.43s/it, loss=7.519]"
     ]
    },
    {
     "name": "stdout",
     "output_type": "stream",
     "text": [
      "--------------------------------------------------------------------------------\n",
      "    SOURCE: On ABC's The View Thursday O'Reilly, during a heated exchange with the ladies about the proposed Islamic Community Center two blocks from Ground Zero, spewed the sort of ignorant, race-baiting venom that's become all-too familiar among conservatives: ``Muslims killed us on 9/11!''\n",
      "    TARGET: Muslims killed on 9/11.\n",
      " PREDICTED: \n",
      "--------------------------------------------------------------------------------\n"
     ]
    },
    {
     "name": "stderr",
     "output_type": "stream",
     "text": [
      "Processing epoch: 00:   0%|          | 49/22500 [06:20<46:22:02,  7.43s/it, loss=8.022]stty: 'standard input': Inappropriate ioctl for device\n"
     ]
    },
    {
     "name": "stdout",
     "output_type": "stream",
     "text": [
      "--------------------------------------------------------------------------------\n",
      "    SOURCE: Tehran - Iran has denied a WikiLeaks report that Iranian President Mahmoud Ahmadinejad was slapped by the chief of the country's Revolutionary Guards, the Tehran press reported Saturday.\n",
      "    TARGET: Iran has denied a WikiLeaks report Mahmoud Ahmadinejad was slapped.\n",
      " PREDICTED: \n"
     ]
    },
    {
     "name": "stderr",
     "output_type": "stream",
     "text": [
      "Processing epoch: 00:   0%|          | 50/22500 [06:22<49:20:09,  7.91s/it, loss=8.022]"
     ]
    },
    {
     "name": "stdout",
     "output_type": "stream",
     "text": [
      "--------------------------------------------------------------------------------\n",
      "    SOURCE: The Republican Party elected its first African-American chairman on Friday.\n",
      "    TARGET: The Republican Party elected its first African-American chairman.\n",
      " PREDICTED: \n",
      "--------------------------------------------------------------------------------\n"
     ]
    },
    {
     "name": "stderr",
     "output_type": "stream",
     "text": [
      "Processing epoch: 00:   0%|          | 50/22500 [06:29<49:20:09,  7.91s/it, loss=7.782]stty: 'standard input': Inappropriate ioctl for device\n"
     ]
    },
    {
     "name": "stdout",
     "output_type": "stream",
     "text": [
      "--------------------------------------------------------------------------------\n",
      "    SOURCE: A police chase led to a serious accident north of the city of Sheboygan.\n",
      "    TARGET: A police chase led to a serious accident north.\n",
      " PREDICTED: A\n"
     ]
    },
    {
     "name": "stderr",
     "output_type": "stream",
     "text": [
      "Processing epoch: 00:   0%|          | 51/22500 [06:31<50:13:44,  8.05s/it, loss=7.782]"
     ]
    },
    {
     "name": "stdout",
     "output_type": "stream",
     "text": [
      "--------------------------------------------------------------------------------\n",
      "    SOURCE: Two soldiers killed in Afghanistan last week will be repatriated today.\n",
      "    TARGET: Two soldiers will be repatriated.\n",
      " PREDICTED: A\n",
      "--------------------------------------------------------------------------------\n"
     ]
    },
    {
     "name": "stderr",
     "output_type": "stream",
     "text": [
      "Processing epoch: 00:   0%|          | 51/22500 [06:38<50:13:44,  8.05s/it, loss=7.271]stty: 'standard input': Inappropriate ioctl for device\n"
     ]
    },
    {
     "name": "stdout",
     "output_type": "stream",
     "text": [
      "--------------------------------------------------------------------------------\n",
      "    SOURCE: China is likely to become the world's largest sugar importer by 2020 as consumption grows along with incomes, said Commonwealth Bank of Australia in a report on Wednesday.\n",
      "    TARGET: China is likely to become the world's largest sugar importer by 2020.\n",
      " PREDICTED: A\n"
     ]
    },
    {
     "name": "stderr",
     "output_type": "stream",
     "text": [
      "Processing epoch: 00:   0%|          | 52/22500 [06:39<50:55:34,  8.17s/it, loss=7.271]"
     ]
    },
    {
     "name": "stdout",
     "output_type": "stream",
     "text": [
      "--------------------------------------------------------------------------------\n",
      "    SOURCE: Recession deepened across the eurozone in the first quarter of 2013, the latest growth figures released by the European Union showed with a 0.2 per cent contraction between January and March.\n",
      "    TARGET: Recession deepened across the eurozone.\n",
      " PREDICTED: A\n",
      "--------------------------------------------------------------------------------\n"
     ]
    },
    {
     "name": "stderr",
     "output_type": "stream",
     "text": [
      "Processing epoch: 00:   0%|          | 52/22500 [06:45<50:55:34,  8.17s/it, loss=7.386]stty: 'standard input': Inappropriate ioctl for device\n"
     ]
    },
    {
     "name": "stdout",
     "output_type": "stream",
     "text": [
      "--------------------------------------------------------------------------------\n",
      "    SOURCE: No one was injured in an Ingleside fire, but the cause of remains under investigation, authorities said.\n",
      "    TARGET: No one was injured in an Ingleside fire.\n",
      " PREDICTED: \n"
     ]
    },
    {
     "name": "stderr",
     "output_type": "stream",
     "text": [
      "Processing epoch: 00:   0%|          | 53/22500 [06:46<48:10:58,  7.73s/it, loss=7.386]"
     ]
    },
    {
     "name": "stdout",
     "output_type": "stream",
     "text": [
      "--------------------------------------------------------------------------------\n",
      "    SOURCE: American thrashers Toxic Holocaust have revealed the tracklisting for its upcoming album ``Conjure And Command.''\n",
      "    TARGET: Thrashers Toxic Holocaust have revealed the tracklisting for its album Conjure And Command.\n",
      " PREDICTED: \n",
      "--------------------------------------------------------------------------------\n"
     ]
    },
    {
     "name": "stderr",
     "output_type": "stream",
     "text": [
      "Processing epoch: 00:   0%|          | 53/22500 [06:52<48:10:58,  7.73s/it, loss=7.964]stty: 'standard input': Inappropriate ioctl for device\n",
      "Processing epoch: 00:   0%|          | 54/22500 [06:53<46:03:04,  7.39s/it, loss=7.964]"
     ]
    },
    {
     "name": "stdout",
     "output_type": "stream",
     "text": [
      "--------------------------------------------------------------------------------\n",
      "    SOURCE: Allen Iverson's second stint with the team he once led to the NBA Finals ended yesterday when the Sixers announced he would not return for the rest of the season.\n",
      "    TARGET: He would not return for the rest of the season.\n",
      " PREDICTED: \n",
      "--------------------------------------------------------------------------------\n",
      "    SOURCE: PCB chairman Muhammad Ejaz Butt has said next coach of cricket team can be a Pakistani.\n",
      "    TARGET: Next coach of cricket team can be a Pakistani.\n",
      " PREDICTED: \n",
      "--------------------------------------------------------------------------------\n"
     ]
    },
    {
     "name": "stderr",
     "output_type": "stream",
     "text": [
      "Processing epoch: 00:   0%|          | 54/22500 [06:58<46:03:04,  7.39s/it, loss=7.253]stty: 'standard input': Inappropriate ioctl for device\n"
     ]
    },
    {
     "name": "stdout",
     "output_type": "stream",
     "text": [
      "--------------------------------------------------------------------------------\n",
      "    SOURCE: Toronto culinary star Lynn Crawford will compete on the series ``Top Chef Masters'' this summer.\n",
      "    TARGET: Toronto culinary star Lynn Crawford will compete on the series Top Chef Masters.\n",
      " PREDICTED: \n"
     ]
    },
    {
     "name": "stderr",
     "output_type": "stream",
     "text": [
      "Processing epoch: 00:   0%|          | 55/22500 [07:00<46:12:35,  7.41s/it, loss=7.253]"
     ]
    },
    {
     "name": "stdout",
     "output_type": "stream",
     "text": [
      "--------------------------------------------------------------------------------\n",
      "    SOURCE: 70-year-old Al Pacino has signed on to play embattled record producer-turned-convicted murderer Phil Spector in a made-for-HBO movie, the New York Times reports.\n",
      "    TARGET: Al Pacino has signed on to play Phil Spector.\n",
      " PREDICTED: \n",
      "--------------------------------------------------------------------------------\n"
     ]
    },
    {
     "name": "stderr",
     "output_type": "stream",
     "text": [
      "Processing epoch: 00:   0%|          | 55/22500 [07:06<46:12:35,  7.41s/it, loss=8.248]stty: 'standard input': Inappropriate ioctl for device\n"
     ]
    },
    {
     "name": "stdout",
     "output_type": "stream",
     "text": [
      "--------------------------------------------------------------------------------\n",
      "    SOURCE: The Hollywood Reporter brings word Joseph Gordon-Levitt and Rainn Wilson will join Natalie Portman in the Spencer Susser directed indie dramedy Hesher.\n",
      "    TARGET: Joseph Gordon-Levitt and Rainn Wilson will join Natalie Portman directed Hesher.\n",
      " PREDICTED: \n"
     ]
    },
    {
     "name": "stderr",
     "output_type": "stream",
     "text": [
      "Processing epoch: 00:   0%|          | 56/22500 [07:07<45:02:24,  7.22s/it, loss=8.248]"
     ]
    },
    {
     "name": "stdout",
     "output_type": "stream",
     "text": [
      "--------------------------------------------------------------------------------\n",
      "    SOURCE: With 5 reels and 30 paylines Sparta slot is the hot new slot at WindowsCasino\n",
      "    TARGET: Sparta slot is the slot at WindowsCasino.\n",
      " PREDICTED: \n",
      "--------------------------------------------------------------------------------\n"
     ]
    },
    {
     "name": "stderr",
     "output_type": "stream",
     "text": [
      "Processing epoch: 00:   0%|          | 56/22500 [07:13<45:02:24,  7.22s/it, loss=7.981]stty: 'standard input': Inappropriate ioctl for device\n"
     ]
    },
    {
     "name": "stdout",
     "output_type": "stream",
     "text": [
      "--------------------------------------------------------------------------------\n",
      "    SOURCE: Kon Ichikawa, prominent film director, died of pneumonia at a Tokyo hospital Wednesday at the age of 92.\n",
      "    TARGET: Kon Ichikawa, film director, died at the age of 92.\n",
      " PREDICTED: \n"
     ]
    },
    {
     "name": "stderr",
     "output_type": "stream",
     "text": [
      "Processing epoch: 00:   0%|          | 57/22500 [07:14<45:19:44,  7.27s/it, loss=7.981]"
     ]
    },
    {
     "name": "stdout",
     "output_type": "stream",
     "text": [
      "--------------------------------------------------------------------------------\n",
      "    SOURCE: Former NFL offensive lineman Grant Feasel, who was a standout at Abilene Christian before a pro career that included six seasons in Seattle, has died.\n",
      "    TARGET: Former NFL offensive lineman Grant Feasel has died.\n",
      " PREDICTED: \n",
      "--------------------------------------------------------------------------------\n"
     ]
    },
    {
     "name": "stderr",
     "output_type": "stream",
     "text": [
      "Processing epoch: 00:   0%|          | 57/22500 [07:20<45:19:44,  7.27s/it, loss=8.003]stty: 'standard input': Inappropriate ioctl for device\n"
     ]
    },
    {
     "name": "stdout",
     "output_type": "stream",
     "text": [
      "--------------------------------------------------------------------------------\n",
      "    SOURCE: An as yet unnamed man has died in a Venezuelan hotel room when the cocaine filled condoms he was carrying in his stomach burst.\n",
      "    TARGET: An man has died in a Venezuelan hotel room.\n",
      " PREDICTED: \n"
     ]
    },
    {
     "name": "stderr",
     "output_type": "stream",
     "text": [
      "Processing epoch: 00:   0%|          | 58/22500 [07:21<44:17:11,  7.10s/it, loss=8.003]"
     ]
    },
    {
     "name": "stdout",
     "output_type": "stream",
     "text": [
      "--------------------------------------------------------------------------------\n",
      "    SOURCE: Monday, June 17, 2013, 4:39 pm A central Ohio day care worker has been accused of sprinkling drugs on snacks to get children to go to sleep.\n",
      "    TARGET: A Ohio day care worker has been accused of sprinkling drugs on snacks.\n",
      " PREDICTED: \n",
      "--------------------------------------------------------------------------------\n"
     ]
    },
    {
     "name": "stderr",
     "output_type": "stream",
     "text": [
      "Processing epoch: 00:   0%|          | 58/22500 [07:26<44:17:11,  7.10s/it, loss=7.295]stty: 'standard input': Inappropriate ioctl for device\n"
     ]
    },
    {
     "name": "stdout",
     "output_type": "stream",
     "text": [
      "--------------------------------------------------------------------------------\n",
      "    SOURCE: Reese Witherspoon has revealed that she feels ``sexier'' than she ever did and is more comfortable with herself than she was in the past.\n",
      "    TARGET: Reese Witherspoon feels sexier than she ever did.\n",
      " PREDICTED: \n"
     ]
    },
    {
     "name": "stderr",
     "output_type": "stream",
     "text": [
      "Processing epoch: 00:   0%|          | 59/22500 [07:28<43:49:22,  7.03s/it, loss=7.295]"
     ]
    },
    {
     "name": "stdout",
     "output_type": "stream",
     "text": [
      "--------------------------------------------------------------------------------\n",
      "    SOURCE: YRC Worldwide Inc. announced today that its stockholders have approved an amendment to its certificate of incorporation to immediately increase the amount of authorized shares of common stock and to reduce the par value of the common stock.\n",
      "    TARGET: YRC Worldwide Inc. announced its stockholders have approved an amendment to its certificate of incorporation.\n",
      " PREDICTED: \n",
      "--------------------------------------------------------------------------------\n"
     ]
    },
    {
     "name": "stderr",
     "output_type": "stream",
     "text": [
      "Processing epoch: 00:   0%|          | 59/22500 [07:33<43:49:22,  7.03s/it, loss=7.664]stty: 'standard input': Inappropriate ioctl for device\n"
     ]
    },
    {
     "name": "stdout",
     "output_type": "stream",
     "text": [
      "--------------------------------------------------------------------------------\n",
      "    SOURCE: Pakistan on Tuesday ordered a security operation in response to the weekend bombing targeting minority Shiites that killed 89 people in the southwestern city of Quetta.\n",
      "    TARGET: Pakistan ordered a security operation in response to the bombing targeting Shiites that killed 89 people.\n",
      " PREDICTED: \n"
     ]
    },
    {
     "name": "stderr",
     "output_type": "stream",
     "text": [
      "Processing epoch: 00:   0%|          | 60/22500 [07:35<44:04:51,  7.07s/it, loss=7.664]"
     ]
    },
    {
     "name": "stdout",
     "output_type": "stream",
     "text": [
      "--------------------------------------------------------------------------------\n",
      "    SOURCE: A fully loaded mail truck crashed down an embankment Monday morning in Auburn, closing a lane of northbound Highway 49.\n",
      "    TARGET: A mail truck crashed down in Auburn.\n",
      " PREDICTED: \n",
      "--------------------------------------------------------------------------------\n"
     ]
    },
    {
     "name": "stderr",
     "output_type": "stream",
     "text": [
      "Processing epoch: 00:   0%|          | 60/22500 [07:40<44:04:51,  7.07s/it, loss=7.768]stty: 'standard input': Inappropriate ioctl for device\n"
     ]
    },
    {
     "name": "stdout",
     "output_type": "stream",
     "text": [
      "--------------------------------------------------------------------------------\n",
      "    SOURCE: Robbers stole some four million roubles in an attack on cash carriers in western Moscow on Tuesday evening, a city law-enforcement officer told Itar-Tass.\n",
      "    TARGET: Robbers stole some four million roubles in an attack on cash carriers in Moscow.\n",
      " PREDICTED: \n"
     ]
    },
    {
     "name": "stderr",
     "output_type": "stream",
     "text": [
      "Processing epoch: 00:   0%|          | 61/22500 [07:42<43:13:56,  6.94s/it, loss=7.768]"
     ]
    },
    {
     "name": "stdout",
     "output_type": "stream",
     "text": [
      "--------------------------------------------------------------------------------\n",
      "    SOURCE: Nissan said it is consolidating its operations in North and South America, a year ahead of the launch of its new battery electric vehicle in the United States and Japan.\n",
      "    TARGET: Nissan is consolidating its operations in North and South America.\n",
      " PREDICTED: \n",
      "--------------------------------------------------------------------------------\n"
     ]
    },
    {
     "name": "stderr",
     "output_type": "stream",
     "text": [
      "Processing epoch: 00:   0%|          | 61/22500 [07:48<43:13:56,  6.94s/it, loss=7.872]stty: 'standard input': Inappropriate ioctl for device\n"
     ]
    },
    {
     "name": "stdout",
     "output_type": "stream",
     "text": [
      "--------------------------------------------------------------------------------\n",
      "    SOURCE: A large 1,300 foot long asteroid will pass between the Earth and Moon this evening, 8 November 2011.\n",
      "    TARGET: A large asteroid will pass between the Earth.\n",
      " PREDICTED: \n"
     ]
    },
    {
     "name": "stderr",
     "output_type": "stream",
     "text": [
      "Processing epoch: 00:   0%|          | 62/22500 [07:50<46:04:08,  7.39s/it, loss=7.872]"
     ]
    },
    {
     "name": "stdout",
     "output_type": "stream",
     "text": [
      "--------------------------------------------------------------------------------\n",
      "    SOURCE: A software firm's owner was duped by a man who impersonated as a trademark officer.\n",
      "    TARGET: A software firm's owner was duped.\n",
      " PREDICTED: \n",
      "--------------------------------------------------------------------------------\n"
     ]
    },
    {
     "name": "stderr",
     "output_type": "stream",
     "text": [
      "Processing epoch: 00:   0%|          | 62/22500 [07:55<46:04:08,  7.39s/it, loss=7.593]stty: 'standard input': Inappropriate ioctl for device\n"
     ]
    },
    {
     "name": "stdout",
     "output_type": "stream",
     "text": [
      "--------------------------------------------------------------------------------\n",
      "    SOURCE: Gov. Deval Patrick is having hip replacement surgery to help alleviate pain from arthritis and an injury he suffered three decades ago.\n",
      "    TARGET: Deval Patrick is having hip replacement surgery.\n",
      " PREDICTED: \n"
     ]
    },
    {
     "name": "stderr",
     "output_type": "stream",
     "text": [
      "Processing epoch: 00:   0%|          | 63/22500 [07:57<45:13:48,  7.26s/it, loss=7.593]"
     ]
    },
    {
     "name": "stdout",
     "output_type": "stream",
     "text": [
      "--------------------------------------------------------------------------------\n",
      "    SOURCE: ``I am eating myself to death,'' she told 2Day FM's Kyle and Jackie O this morning.\n",
      "    TARGET: I am eating myself to death.\n",
      " PREDICTED: \n",
      "--------------------------------------------------------------------------------\n"
     ]
    },
    {
     "name": "stderr",
     "output_type": "stream",
     "text": [
      "Processing epoch: 00:   0%|          | 63/22500 [08:03<45:13:48,  7.26s/it, loss=7.702]stty: 'standard input': Inappropriate ioctl for device\n"
     ]
    },
    {
     "name": "stdout",
     "output_type": "stream",
     "text": [
      "--------------------------------------------------------------------------------\n",
      "    SOURCE: At the Mandalay Bay Resort and Casino, Julio Cesar Chavez Jr. won a unanimous decision over Matt Vanda in a rematch fought at a catch-weight between junior middleweight and middleweight.\n",
      "    TARGET: Julio Cesar Chavez Jr. won a decision over Matt Vanda.\n",
      " PREDICTED: \n"
     ]
    },
    {
     "name": "stderr",
     "output_type": "stream",
     "text": [
      "Processing epoch: 00:   0%|          | 64/22500 [08:04<45:34:08,  7.31s/it, loss=7.702]"
     ]
    },
    {
     "name": "stdout",
     "output_type": "stream",
     "text": [
      "--------------------------------------------------------------------------------\n",
      "    SOURCE: AP , 10.04.11, 07:04 PM EDT Turner Motorsports has released Nationwide Series championship contender Reed Sorenson, and said it has advised employees the team might downsize at the end of the season.\n",
      "    TARGET: AP Turner Motorsports has released Reed Sorenson.\n",
      " PREDICTED: \n",
      "--------------------------------------------------------------------------------\n"
     ]
    },
    {
     "name": "stderr",
     "output_type": "stream",
     "text": [
      "Processing epoch: 00:   0%|          | 64/22500 [08:10<45:34:08,  7.31s/it, loss=7.564]stty: 'standard input': Inappropriate ioctl for device\n"
     ]
    },
    {
     "name": "stdout",
     "output_type": "stream",
     "text": [
      "--------------------------------------------------------------------------------\n",
      "    SOURCE: Students on spring break are heeding warnings to avoid violence-prone Mexican border cities.\n",
      "    TARGET: Students are heeding to avoid Mexican border cities.\n",
      " PREDICTED: \n"
     ]
    },
    {
     "name": "stderr",
     "output_type": "stream",
     "text": [
      "Processing epoch: 00:   0%|          | 65/22500 [08:12<45:48:01,  7.35s/it, loss=7.564]"
     ]
    },
    {
     "name": "stdout",
     "output_type": "stream",
     "text": [
      "--------------------------------------------------------------------------------\n",
      "    SOURCE: Saxo Bank, the online multi-asset trading and investment specialist, has today launched new charts on SaxoTrader and SaxoWebTrader with enhanced functionalities.\n",
      "    TARGET: Saxo Bank has today launched new charts on SaxoTrader.\n",
      " PREDICTED: \n",
      "--------------------------------------------------------------------------------\n"
     ]
    },
    {
     "name": "stderr",
     "output_type": "stream",
     "text": [
      "Processing epoch: 00:   0%|          | 65/22500 [08:18<45:48:01,  7.35s/it, loss=7.728]stty: 'standard input': Inappropriate ioctl for device\n"
     ]
    },
    {
     "name": "stdout",
     "output_type": "stream",
     "text": [
      "--------------------------------------------------------------------------------\n",
      "    SOURCE: New Hampshire State Police say a man was found dead from a self-inflicted gunshot Wednesday afternoon following an hours-long standoff in the town of Mason.\n",
      "    TARGET: A man was found dead following an standoff.\n",
      " PREDICTED: \n"
     ]
    },
    {
     "name": "stderr",
     "output_type": "stream",
     "text": [
      "Processing epoch: 00:   0%|          | 66/22500 [08:19<45:56:15,  7.37s/it, loss=7.728]"
     ]
    },
    {
     "name": "stdout",
     "output_type": "stream",
     "text": [
      "--------------------------------------------------------------------------------\n",
      "    SOURCE: US top seed Andy Roddick captured his first title of the season today, beating Czech fifth seed Radek Stepanek 7-5 7-5 in the hardcourt tournament in Memphis.\n",
      "    TARGET: Top seed Andy Roddick captured his first title of the season.\n",
      " PREDICTED: \n",
      "--------------------------------------------------------------------------------\n"
     ]
    },
    {
     "name": "stderr",
     "output_type": "stream",
     "text": [
      "Processing epoch: 00:   0%|          | 66/22500 [08:25<45:56:15,  7.37s/it, loss=7.219]stty: 'standard input': Inappropriate ioctl for device\n"
     ]
    },
    {
     "name": "stdout",
     "output_type": "stream",
     "text": [
      "--------------------------------------------------------------------------------\n",
      "    SOURCE: Salem, Sep 23 A 35-year-old mentally challenged woman was allegedly raped and murdered and her body dumped in a burial ground near here, police said today.\n",
      "    TARGET: A mentally challenged woman was raped and murdered.\n",
      " PREDICTED: \n"
     ]
    },
    {
     "name": "stderr",
     "output_type": "stream",
     "text": [
      "Processing epoch: 00:   0%|          | 67/22500 [08:27<46:50:30,  7.52s/it, loss=7.219]"
     ]
    },
    {
     "name": "stdout",
     "output_type": "stream",
     "text": [
      "--------------------------------------------------------------------------------\n",
      "    SOURCE: Kon Ichikawa, prominent film director, died of pneumonia at a Tokyo hospital Wednesday at the age of 92.\n",
      "    TARGET: Kon Ichikawa, film director, died at the age of 92.\n",
      " PREDICTED: \n",
      "--------------------------------------------------------------------------------\n"
     ]
    },
    {
     "name": "stderr",
     "output_type": "stream",
     "text": [
      "Processing epoch: 00:   0%|          | 67/22500 [08:34<46:50:30,  7.52s/it, loss=7.216]stty: 'standard input': Inappropriate ioctl for device\n"
     ]
    },
    {
     "name": "stdout",
     "output_type": "stream",
     "text": [
      "--------------------------------------------------------------------------------\n",
      "    SOURCE: Improved eurozone confidence data gave a lift to European shares and the euro on Thursday, after another 5% dive in Japan's Nikkei share index highlighted global jitters about the future of US stimulus measures.\n",
      "    TARGET: Confidence data gave a lift to European shares and the euro.\n",
      " PREDICTED: \n"
     ]
    },
    {
     "name": "stderr",
     "output_type": "stream",
     "text": [
      "Processing epoch: 00:   0%|          | 68/22500 [08:36<48:28:57,  7.78s/it, loss=7.216]"
     ]
    },
    {
     "name": "stdout",
     "output_type": "stream",
     "text": [
      "--------------------------------------------------------------------------------\n",
      "    SOURCE: Yesterday, Demi Lovato returned to the rehab center where she was treated last year...and it sounds like it was a wonderful experience!\n",
      "    TARGET: Demi Lovato returned to the rehab center.\n",
      " PREDICTED: \n",
      "--------------------------------------------------------------------------------\n"
     ]
    },
    {
     "name": "stderr",
     "output_type": "stream",
     "text": [
      "Processing epoch: 00:   0%|          | 68/22500 [08:42<48:28:57,  7.78s/it, loss=7.469]stty: 'standard input': Inappropriate ioctl for device\n"
     ]
    },
    {
     "name": "stdout",
     "output_type": "stream",
     "text": [
      "--------------------------------------------------------------------------------\n",
      "    SOURCE: ATP Buenos Aires betting enters the second round and on the docket are several eye-catching matchups, including Swiss No.2 Stanislas Wawrinka and home favourite Juan Monaco.\n",
      "    TARGET: ATP Buenos Aires betting enters.\n",
      " PREDICTED: \n"
     ]
    },
    {
     "name": "stderr",
     "output_type": "stream",
     "text": [
      "Processing epoch: 00:   0%|          | 69/22500 [08:44<48:52:43,  7.84s/it, loss=7.469]"
     ]
    },
    {
     "name": "stdout",
     "output_type": "stream",
     "text": [
      "--------------------------------------------------------------------------------\n",
      "    SOURCE: Reed's, Inc. , maker of the top-selling sodas in natural food stores nationwide, announced today that it has established a new retail relationship with Associated Wholesale Grocers.\n",
      "    TARGET: Reed's Inc. has established a new relationship with Associated Wholesale Grocers.\n",
      " PREDICTED: \n",
      "--------------------------------------------------------------------------------\n"
     ]
    },
    {
     "name": "stderr",
     "output_type": "stream",
     "text": [
      "Processing epoch: 00:   0%|          | 69/22500 [08:50<48:52:43,  7.84s/it, loss=7.624]stty: 'standard input': Inappropriate ioctl for device\n"
     ]
    },
    {
     "name": "stdout",
     "output_type": "stream",
     "text": [
      "--------------------------------------------------------------------------------\n",
      "    SOURCE: Cincinnati, July 28, Terrell Owens is all set to join receiver Chad Ochocinco in Cincinnati Bengals.\n",
      "    TARGET: Cincinnati Terrell Owens is set to join Chad Ochocinco in Cincinnati Bengals.\n",
      " PREDICTED: \n"
     ]
    },
    {
     "name": "stderr",
     "output_type": "stream",
     "text": [
      "Processing epoch: 00:   0%|          | 70/22500 [08:51<48:53:47,  7.85s/it, loss=7.624]"
     ]
    },
    {
     "name": "stdout",
     "output_type": "stream",
     "text": [
      "--------------------------------------------------------------------------------\n",
      "    SOURCE: Gwyneth Paltrow admitted in a recent interview that she can be mean.\n",
      "    TARGET: Gwyneth Paltrow admitted she can be mean.\n",
      " PREDICTED: \n",
      "--------------------------------------------------------------------------------\n"
     ]
    },
    {
     "name": "stderr",
     "output_type": "stream",
     "text": [
      "Processing epoch: 00:   0%|          | 70/22500 [08:57<48:53:47,  7.85s/it, loss=7.228]stty: 'standard input': Inappropriate ioctl for device\n"
     ]
    },
    {
     "name": "stdout",
     "output_type": "stream",
     "text": [
      "--------------------------------------------------------------------------------\n",
      "    SOURCE: ADELAIDE has defined a new role for veteran and crowd favourite Graham Johncock as he moves into the final phase of his career.\n",
      "    TARGET: ADELAIDE has defined a new role for favourite Graham Johncock.\n",
      " PREDICTED: \n"
     ]
    },
    {
     "name": "stderr",
     "output_type": "stream",
     "text": [
      "Processing epoch: 00:   0%|          | 71/22500 [08:59<48:33:35,  7.79s/it, loss=7.228]"
     ]
    },
    {
     "name": "stdout",
     "output_type": "stream",
     "text": [
      "--------------------------------------------------------------------------------\n",
      "    SOURCE: Microsoft Corp. said Thursday that it has bought PhoneFactor Inc., a small firm that uses phones to augment password security for websites.\n",
      "    TARGET: Microsoft Corp. has bought PhoneFactor Inc..\n",
      " PREDICTED: \n",
      "--------------------------------------------------------------------------------\n"
     ]
    },
    {
     "name": "stderr",
     "output_type": "stream",
     "text": [
      "Processing epoch: 00:   0%|          | 71/22500 [09:05<48:33:35,  7.79s/it, loss=7.712]stty: 'standard input': Inappropriate ioctl for device\n"
     ]
    },
    {
     "name": "stdout",
     "output_type": "stream",
     "text": [
      "--------------------------------------------------------------------------------\n",
      "    SOURCE: With a smorgasbord of 230 films from around the world, the Istanbul Film Festival will kick off its 30th edition Saturday with offerings in 22 categories, as well as competitions, panel discussions and other events.\n",
      "    TARGET: The Istanbul Film Festival will kick off Saturday.\n",
      " PREDICTED: \n"
     ]
    },
    {
     "name": "stderr",
     "output_type": "stream",
     "text": [
      "Processing epoch: 00:   0%|          | 72/22500 [09:06<47:29:49,  7.62s/it, loss=7.712]"
     ]
    },
    {
     "name": "stdout",
     "output_type": "stream",
     "text": [
      "--------------------------------------------------------------------------------\n",
      "    SOURCE: The average price of Bangladeshi teas rose 1.28 per cent to 139.85 taka per kg on higher demand at the weekly auction on Tuesday, brokers said.\n",
      "    TARGET: The price of Bangladeshi teas rose on higher demand.\n",
      " PREDICTED: \n",
      "--------------------------------------------------------------------------------\n"
     ]
    },
    {
     "name": "stderr",
     "output_type": "stream",
     "text": [
      "Processing epoch: 00:   0%|          | 72/22500 [09:12<47:29:49,  7.62s/it, loss=7.432]stty: 'standard input': Inappropriate ioctl for device\n"
     ]
    },
    {
     "name": "stdout",
     "output_type": "stream",
     "text": [
      "--------------------------------------------------------------------------------\n",
      "    SOURCE: Congresswoman Marilyn Musgrave, R-Colo., will visit Greeley on Friday to visit the new Juvenile Assessment Center at 2835 W. 10th St.\n",
      "    TARGET: Marilyn Musgrave will visit Greeley.\n",
      " PREDICTED: \n"
     ]
    },
    {
     "name": "stderr",
     "output_type": "stream",
     "text": [
      "Processing epoch: 00:   0%|          | 73/22500 [09:13<46:35:06,  7.48s/it, loss=7.432]"
     ]
    },
    {
     "name": "stdout",
     "output_type": "stream",
     "text": [
      "--------------------------------------------------------------------------------\n",
      "    SOURCE: A man's dead body was discovered outside of a west Phoenix residence late Sunday afternoon, and police are uncertain who the victim is or how he got there.\n",
      "    TARGET: A man's body was discovered outside of a Phoenix residence.\n",
      " PREDICTED: \n",
      "--------------------------------------------------------------------------------\n"
     ]
    },
    {
     "name": "stderr",
     "output_type": "stream",
     "text": [
      "Processing epoch: 00:   0%|          | 73/22500 [09:19<46:35:06,  7.48s/it, loss=7.902]stty: 'standard input': Inappropriate ioctl for device\n"
     ]
    },
    {
     "name": "stdout",
     "output_type": "stream",
     "text": [
      "--------------------------------------------------------------------------------\n",
      "    SOURCE: Music mogul Simon Cowell made an emotional exit from US talent show 'American Idol'.\n",
      "    TARGET: Simon Cowell made an emotional exit.\n",
      " PREDICTED: \n"
     ]
    },
    {
     "name": "stderr",
     "output_type": "stream",
     "text": [
      "Processing epoch: 00:   0%|          | 74/22500 [09:21<46:30:00,  7.46s/it, loss=7.902]"
     ]
    },
    {
     "name": "stdout",
     "output_type": "stream",
     "text": [
      "--------------------------------------------------------------------------------\n",
      "    SOURCE: Seagate has announced that it has become the first manufacturer to ship two billion hard disk drives.\n",
      "    TARGET: Seagate has announced it has become the manufacturer to ship two billion hard disk drives.\n",
      " PREDICTED: \n",
      "--------------------------------------------------------------------------------\n"
     ]
    },
    {
     "name": "stderr",
     "output_type": "stream",
     "text": [
      "Processing epoch: 00:   0%|          | 74/22500 [09:26<46:30:00,  7.46s/it, loss=7.400]stty: 'standard input': Inappropriate ioctl for device\n"
     ]
    },
    {
     "name": "stdout",
     "output_type": "stream",
     "text": [
      "--------------------------------------------------------------------------------\n",
      "    SOURCE: Mark Hensby withdrew from the PODS Championship after completing his first round on Friday morning.\n",
      "    TARGET: Mark Hensby withdrew from the PODS Championship.\n",
      " PREDICTED: \n"
     ]
    },
    {
     "name": "stderr",
     "output_type": "stream",
     "text": [
      "Processing epoch: 00:   0%|          | 75/22500 [09:28<46:43:04,  7.50s/it, loss=7.400]"
     ]
    },
    {
     "name": "stdout",
     "output_type": "stream",
     "text": [
      "--------------------------------------------------------------------------------\n",
      "    SOURCE: Tyra Banks has split from her boyfriend and has gone on a ``spiritual trip'' to Bali to get over the break-up.\n",
      "    TARGET: Tyra Banks has split from her boyfriend.\n",
      " PREDICTED: \n",
      "--------------------------------------------------------------------------------\n"
     ]
    },
    {
     "name": "stderr",
     "output_type": "stream",
     "text": [
      "Processing epoch: 00:   0%|          | 75/22500 [09:34<46:43:04,  7.50s/it, loss=7.097]stty: 'standard input': Inappropriate ioctl for device\n"
     ]
    },
    {
     "name": "stdout",
     "output_type": "stream",
     "text": [
      "--------------------------------------------------------------------------------\n",
      "    SOURCE: NHL enforcer Bob Probert, who died of heart failure last year, had degenerative brain disease, Boston University researchers reported in findings released Thursday.\n",
      "    TARGET: NHL enforcer Bob Probert had degenerative brain disease.\n",
      " PREDICTED: \n"
     ]
    },
    {
     "name": "stderr",
     "output_type": "stream",
     "text": [
      "Processing epoch: 00:   0%|          | 76/22500 [09:36<47:04:30,  7.56s/it, loss=7.097]"
     ]
    },
    {
     "name": "stdout",
     "output_type": "stream",
     "text": [
      "--------------------------------------------------------------------------------\n",
      "    SOURCE: Registration continues for the upcoming ``I Walk Because ICARE,'' three-mile walk to benefit Dunklin County cancer patients.\n",
      "    TARGET: Registration continues for the I Walk Because ICARE, walk.\n",
      " PREDICTED: \n",
      "--------------------------------------------------------------------------------\n"
     ]
    },
    {
     "name": "stderr",
     "output_type": "stream",
     "text": [
      "Processing epoch: 00:   0%|          | 76/22500 [09:42<47:04:30,  7.56s/it, loss=7.707]stty: 'standard input': Inappropriate ioctl for device\n"
     ]
    },
    {
     "name": "stdout",
     "output_type": "stream",
     "text": [
      "--------------------------------------------------------------------------------\n",
      "    SOURCE: Police in Grand Chute are investigating a pair of early morning ``smash and grab'' robberies at local businesses.\n",
      "    TARGET: Police in Grand Chute are investigating a pair smash and grab robberies.\n",
      " PREDICTED: \n"
     ]
    },
    {
     "name": "stderr",
     "output_type": "stream",
     "text": [
      "Processing epoch: 00:   0%|          | 77/22500 [09:44<47:55:29,  7.69s/it, loss=7.707]"
     ]
    },
    {
     "name": "stdout",
     "output_type": "stream",
     "text": [
      "--------------------------------------------------------------------------------\n",
      "    SOURCE: Eddie Cibrian is suing Life & Style Weekly for defamation over a recent story claiming he was cheating on girlfriend LeAnn Rimes.\n",
      "    TARGET: Eddie Cibrian is suing Life & Style Weekly over a story claiming he was cheating on LeAnn Rimes.\n",
      " PREDICTED: \n",
      "--------------------------------------------------------------------------------\n"
     ]
    },
    {
     "name": "stderr",
     "output_type": "stream",
     "text": [
      "Processing epoch: 00:   0%|          | 77/22500 [09:50<47:55:29,  7.69s/it, loss=7.836]stty: 'standard input': Inappropriate ioctl for device\n"
     ]
    },
    {
     "name": "stdout",
     "output_type": "stream",
     "text": [
      "--------------------------------------------------------------------------------\n",
      "    SOURCE: German Bundesliga side Schalke on Monday confirmed that they have signed Ghana midfielder Anthony Annan from Norwegian giants Rosenborg.\n",
      "    TARGET: Schalke have signed Ghana midfielder Anthony Annan.\n",
      " PREDICTED: \n"
     ]
    },
    {
     "name": "stderr",
     "output_type": "stream",
     "text": [
      "Processing epoch: 00:   0%|          | 78/22500 [09:52<48:26:21,  7.78s/it, loss=7.836]"
     ]
    },
    {
     "name": "stdout",
     "output_type": "stream",
     "text": [
      "--------------------------------------------------------------------------------\n",
      "    SOURCE: MOSCOW Michelle Obama brings her superstar glamor to Moscow this weekend as she accompanies her husband on his summit with the Russian president.\n",
      "    TARGET: MOSCOW Michelle Obama brings her glamor this weekend as she accompanies.\n",
      " PREDICTED: \n",
      "--------------------------------------------------------------------------------\n"
     ]
    },
    {
     "name": "stderr",
     "output_type": "stream",
     "text": [
      "Processing epoch: 00:   0%|          | 78/22500 [09:58<48:26:21,  7.78s/it, loss=7.343]stty: 'standard input': Inappropriate ioctl for device\n"
     ]
    },
    {
     "name": "stdout",
     "output_type": "stream",
     "text": [
      "--------------------------------------------------------------------------------\n",
      "    SOURCE: State police from Emporium investigated two more camp burglaries.\n",
      "    TARGET: Police investigated two burglaries.\n",
      " PREDICTED: \n"
     ]
    },
    {
     "name": "stderr",
     "output_type": "stream",
     "text": [
      "Processing epoch: 00:   0%|          | 79/22500 [10:01<50:12:02,  8.06s/it, loss=7.343]"
     ]
    },
    {
     "name": "stdout",
     "output_type": "stream",
     "text": [
      "--------------------------------------------------------------------------------\n",
      "    SOURCE: BT Pension Scheme's alternatives firm Hermes announced on Monday it has hired Matteo Perruccio to head its fund of hedge funds business.\n",
      "    TARGET: Hermes has hired to head.\n",
      " PREDICTED: \n",
      "--------------------------------------------------------------------------------\n"
     ]
    },
    {
     "name": "stderr",
     "output_type": "stream",
     "text": [
      "Processing epoch: 00:   0%|          | 79/22500 [10:07<50:12:02,  8.06s/it, loss=6.834]stty: 'standard input': Inappropriate ioctl for device\n"
     ]
    },
    {
     "name": "stdout",
     "output_type": "stream",
     "text": [
      "--------------------------------------------------------------------------------\n",
      "    SOURCE: Russian and Georgian forces exchanged prisoners on a highway in central Georgia on Tuesday in a gesture of goodwill despite continued tension over Russia's promised withdrawal.\n",
      "    TARGET: Russian forces exchanged prisoners in Georgia.\n",
      " PREDICTED: \n"
     ]
    },
    {
     "name": "stderr",
     "output_type": "stream",
     "text": [
      "Processing epoch: 00:   0%|          | 80/22500 [10:09<50:51:28,  8.17s/it, loss=6.834]"
     ]
    },
    {
     "name": "stdout",
     "output_type": "stream",
     "text": [
      "--------------------------------------------------------------------------------\n",
      "    SOURCE: Charles Martinet who is popularly known as Mario has turned 25 this month.\n",
      "    TARGET: Charles Martinet who is known as Mario has turned 25.\n",
      " PREDICTED: \n",
      "--------------------------------------------------------------------------------\n"
     ]
    },
    {
     "name": "stderr",
     "output_type": "stream",
     "text": [
      "Processing epoch: 00:   0%|          | 80/22500 [10:16<50:51:28,  8.17s/it, loss=7.624]stty: 'standard input': Inappropriate ioctl for device\n"
     ]
    },
    {
     "name": "stdout",
     "output_type": "stream",
     "text": [
      "--------------------------------------------------------------------------------\n",
      "    SOURCE: Police say a Fort Campbell soldier rescued a woman by diving into the Cumberland River to pull her from a submerged car.\n",
      "    TARGET: Police say a Fort Campbell soldier rescued to pull a woman from a submerged car.\n",
      " PREDICTED: \n"
     ]
    },
    {
     "name": "stderr",
     "output_type": "stream",
     "text": [
      "Processing epoch: 00:   0%|          | 81/22500 [10:18<51:51:57,  8.33s/it, loss=7.624]"
     ]
    },
    {
     "name": "stdout",
     "output_type": "stream",
     "text": [
      "--------------------------------------------------------------------------------\n",
      "    SOURCE: Finally, the Trinamul chief Ms Mamata Banerjee has nominated a new district president for Malda district.\n",
      "    TARGET: The Trinamul chief has nominated a district president.\n",
      " PREDICTED: \n",
      "--------------------------------------------------------------------------------\n"
     ]
    },
    {
     "name": "stderr",
     "output_type": "stream",
     "text": [
      "Processing epoch: 00:   0%|          | 81/22500 [10:25<51:51:57,  8.33s/it, loss=7.580]stty: 'standard input': Inappropriate ioctl for device\n"
     ]
    },
    {
     "name": "stdout",
     "output_type": "stream",
     "text": [
      "--------------------------------------------------------------------------------\n",
      "    SOURCE: Iran has demanded the release of seven of its nationals who were abducted last month in restive Syria, media reported yesterday.\n",
      "    TARGET: Iran has demanded the release of seven of its nationals.\n",
      " PREDICTED: A A a\n"
     ]
    },
    {
     "name": "stderr",
     "output_type": "stream",
     "text": [
      "Processing epoch: 00:   0%|          | 82/22500 [10:27<54:04:33,  8.68s/it, loss=7.580]"
     ]
    },
    {
     "name": "stdout",
     "output_type": "stream",
     "text": [
      "--------------------------------------------------------------------------------\n",
      "    SOURCE: The 26/11 special court on Tuesday issued non-bailable warrants against 22 absconding Pakistanis wanted in connection with the Mumbai attacks case.\n",
      "    TARGET: The 26/11 court issued non-bailable warrants against 22 absconding Pakistanis wanted.\n",
      " PREDICTED: A A a\n",
      "--------------------------------------------------------------------------------\n"
     ]
    },
    {
     "name": "stderr",
     "output_type": "stream",
     "text": [
      "Processing epoch: 00:   0%|          | 82/22500 [10:34<54:04:33,  8.68s/it, loss=8.058]stty: 'standard input': Inappropriate ioctl for device\n"
     ]
    },
    {
     "name": "stdout",
     "output_type": "stream",
     "text": [
      "--------------------------------------------------------------------------------\n",
      "    SOURCE: The advance trauma centre at PGI, which was due for completion by 2004, is yet to see the light of the day.\n",
      "    TARGET: The advance trauma centre is yet to see the light.\n",
      " PREDICTED: A A A A has has has a has\n"
     ]
    },
    {
     "name": "stderr",
     "output_type": "stream",
     "text": [
      "Processing epoch: 00:   0%|          | 83/22500 [10:37<54:49:26,  8.80s/it, loss=8.058]"
     ]
    },
    {
     "name": "stdout",
     "output_type": "stream",
     "text": [
      "--------------------------------------------------------------------------------\n",
      "    SOURCE: The Orlando Magic take their first win in game 3 in their series against the Detroit Pistons at home.\n",
      "    TARGET: The Orlando Magic take their first win in their series.\n",
      " PREDICTED: A A A A has has has a has\n",
      "--------------------------------------------------------------------------------\n"
     ]
    },
    {
     "name": "stderr",
     "output_type": "stream",
     "text": [
      "Processing epoch: 00:   0%|          | 83/22500 [10:43<54:49:26,  8.80s/it, loss=8.195]stty: 'standard input': Inappropriate ioctl for device\n"
     ]
    },
    {
     "name": "stdout",
     "output_type": "stream",
     "text": [
      "--------------------------------------------------------------------------------\n",
      "    SOURCE: ViewRanger has linked up with accommodation booking specialist LateRooms.com to offer accommodation booking to outdoor enthusiasts.\n",
      "    TARGET: ViewRanger has linked up with LateRooms.com.\n",
      " PREDICTED: A A\n"
     ]
    },
    {
     "name": "stderr",
     "output_type": "stream",
     "text": [
      "Processing epoch: 00:   0%|          | 84/22500 [10:45<54:36:59,  8.77s/it, loss=8.195]"
     ]
    },
    {
     "name": "stdout",
     "output_type": "stream",
     "text": [
      "--------------------------------------------------------------------------------\n",
      "    SOURCE: BRITNEY Spears has performed at an awards ceremony in Germany, where she was named best international pop star.\n",
      "    TARGET: BRITNEY Spears was named best international pop star.\n",
      " PREDICTED: A A\n",
      "--------------------------------------------------------------------------------\n"
     ]
    },
    {
     "name": "stderr",
     "output_type": "stream",
     "text": [
      "Processing epoch: 00:   0%|          | 84/22500 [10:51<54:36:59,  8.77s/it, loss=7.316]stty: 'standard input': Inappropriate ioctl for device\n"
     ]
    },
    {
     "name": "stdout",
     "output_type": "stream",
     "text": [
      "--------------------------------------------------------------------------------\n",
      "    SOURCE: Debt management firms are helping thousands of people eliminate credit card debt today.\n",
      "    TARGET: Firms are helping thousands of people eliminate credit card debt.\n",
      " PREDICTED: \n"
     ]
    },
    {
     "name": "stderr",
     "output_type": "stream",
     "text": [
      "Processing epoch: 00:   0%|          | 85/22500 [10:54<53:53:04,  8.65s/it, loss=7.316]"
     ]
    },
    {
     "name": "stdout",
     "output_type": "stream",
     "text": [
      "--------------------------------------------------------------------------------\n",
      "    SOURCE: ALBANY, NY The New York lottery hopes to start selling Powerball lottery tickets to boost revenue for the cash-strapped state.\n",
      "    TARGET: The New York lottery hopes to start selling Powerball tickets.\n",
      " PREDICTED: \n",
      "--------------------------------------------------------------------------------\n"
     ]
    },
    {
     "name": "stderr",
     "output_type": "stream",
     "text": [
      "Processing epoch: 00:   0%|          | 85/22500 [11:02<53:53:04,  8.65s/it, loss=7.017]stty: 'standard input': Inappropriate ioctl for device\n"
     ]
    },
    {
     "name": "stdout",
     "output_type": "stream",
     "text": [
      "--------------------------------------------------------------------------------\n",
      "    SOURCE: Authorities say a 51-year-old Castlewood man was killed Wednesday when his car was struck broadside by a pickup truck in heavy fog with near zero visibility.\n",
      "    TARGET: A Castlewood man was killed when his car was struck by a pickup truck in heavy fog.\n",
      " PREDICTED: \n"
     ]
    },
    {
     "name": "stderr",
     "output_type": "stream",
     "text": [
      "Processing epoch: 00:   0%|          | 86/22500 [11:05<59:19:31,  9.53s/it, loss=7.017]"
     ]
    },
    {
     "name": "stdout",
     "output_type": "stream",
     "text": [
      "--------------------------------------------------------------------------------\n",
      "    SOURCE: Police say a woman shot a suspected burglar outside her Northwest Side home Wednesday morning.\n",
      "    TARGET: A woman shot a suspected burglar.\n",
      " PREDICTED: \n",
      "--------------------------------------------------------------------------------\n"
     ]
    },
    {
     "name": "stderr",
     "output_type": "stream",
     "text": [
      "Processing epoch: 00:   0%|          | 86/22500 [11:13<59:19:31,  9.53s/it, loss=7.056]stty: 'standard input': Inappropriate ioctl for device\n"
     ]
    },
    {
     "name": "stdout",
     "output_type": "stream",
     "text": [
      "--------------------------------------------------------------------------------\n",
      "    SOURCE: THE State Government has warned that dementia sufferers will increasingly be shut out of aged care as private-run homes ``cherry-pick'' low-cost residents.\n",
      "    TARGET: Dementia sufferers will be shut.\n",
      " PREDICTED: \n"
     ]
    },
    {
     "name": "stderr",
     "output_type": "stream",
     "text": [
      "Processing epoch: 00:   0%|          | 87/22500 [11:15<60:04:10,  9.65s/it, loss=7.056]"
     ]
    },
    {
     "name": "stdout",
     "output_type": "stream",
     "text": [
      "--------------------------------------------------------------------------------\n",
      "    SOURCE: Deutsche Bank chief Josef Ackermann officially stepped down on Thursday, ending a decade-long reign as head of Germany's biggest bank during which he repeatedly courted controversy.\n",
      "    TARGET: Deutsche Bank chief Josef Ackermann stepped down.\n",
      " PREDICTED: \n",
      "--------------------------------------------------------------------------------\n"
     ]
    },
    {
     "name": "stderr",
     "output_type": "stream",
     "text": [
      "Processing epoch: 00:   0%|          | 87/22500 [11:22<60:04:10,  9.65s/it, loss=8.042]stty: 'standard input': Inappropriate ioctl for device\n"
     ]
    },
    {
     "name": "stdout",
     "output_type": "stream",
     "text": [
      "--------------------------------------------------------------------------------\n",
      "    SOURCE: Malaysia on Wednesday lifted a tsunami alert it had issued earlier for the country's western coastline after a massive earthquake and aftershock in the Indian Ocean, state media reported.\n",
      "    TARGET: Malaysia lifted a tsunami alert.\n",
      " PREDICTED: \n"
     ]
    },
    {
     "name": "stderr",
     "output_type": "stream",
     "text": [
      "Processing epoch: 00:   0%|          | 88/22500 [11:24<57:45:22,  9.28s/it, loss=8.042]"
     ]
    },
    {
     "name": "stdout",
     "output_type": "stream",
     "text": [
      "--------------------------------------------------------------------------------\n",
      "    SOURCE: Police investigating the death of a six-month-old baby in Ngaruawahia say she died from traumatic brain injury.\n",
      "    TARGET: She died from traumatic brain injury.\n",
      " PREDICTED: \n",
      "--------------------------------------------------------------------------------\n"
     ]
    },
    {
     "name": "stderr",
     "output_type": "stream",
     "text": [
      "Processing epoch: 00:   0%|          | 88/22500 [11:30<57:45:22,  9.28s/it, loss=7.148]stty: 'standard input': Inappropriate ioctl for device\n"
     ]
    },
    {
     "name": "stdout",
     "output_type": "stream",
     "text": [
      "--------------------------------------------------------------------------------\n",
      "    SOURCE: HOLLYWOOD star Al Pacino is to play Shylock in a production of The Merchant of Venice in New York's Central Park next summer.\n",
      "    TARGET: Al Pacino is to play Shylock.\n",
      " PREDICTED: \n"
     ]
    },
    {
     "name": "stderr",
     "output_type": "stream",
     "text": [
      "Processing epoch: 00:   0%|          | 89/22500 [11:32<55:47:26,  8.96s/it, loss=7.148]"
     ]
    },
    {
     "name": "stdout",
     "output_type": "stream",
     "text": [
      "--------------------------------------------------------------------------------\n",
      "    SOURCE: Michael Dawson has said that Andre Villas-Boas has set high standards since his arrival at White Hart Lane.\n",
      "    TARGET: Michael Dawson has said Andre Villas-Boas has set high standards.\n",
      " PREDICTED: \n",
      "--------------------------------------------------------------------------------\n"
     ]
    },
    {
     "name": "stderr",
     "output_type": "stream",
     "text": [
      "Processing epoch: 00:   0%|          | 89/22500 [11:37<55:47:26,  8.96s/it, loss=7.144]stty: 'standard input': Inappropriate ioctl for device\n"
     ]
    },
    {
     "name": "stdout",
     "output_type": "stream",
     "text": [
      "--------------------------------------------------------------------------------\n",
      "    SOURCE: 15:39 Australia's 47 all out is yesterday's news already for the South African team and they will be focusing instead on the simple game plan that brought their bowlers success in the first place when they meet in the second test starting at the Wanderers on Thursday.\n",
      "    TARGET: 15:39 Australia 47 out is yesterday's news.\n",
      " PREDICTED: \n"
     ]
    },
    {
     "name": "stderr",
     "output_type": "stream",
     "text": [
      "Processing epoch: 00:   0%|          | 90/22500 [11:39<52:40:12,  8.46s/it, loss=7.144]"
     ]
    },
    {
     "name": "stdout",
     "output_type": "stream",
     "text": [
      "--------------------------------------------------------------------------------\n",
      "    SOURCE: Three Riverside gang members were sentenced today to life in prison without the possibility of parole for the shooting deaths of a brother and sister gunned down over an act of supposed disrespect.\n",
      "    TARGET: Three Riverside gang members were sentenced to life in prison without the possibility of parole.\n",
      " PREDICTED: \n",
      "--------------------------------------------------------------------------------\n"
     ]
    },
    {
     "name": "stderr",
     "output_type": "stream",
     "text": [
      "Processing epoch: 00:   0%|          | 90/22500 [11:44<52:40:12,  8.46s/it, loss=7.442]stty: 'standard input': Inappropriate ioctl for device\n"
     ]
    },
    {
     "name": "stdout",
     "output_type": "stream",
     "text": [
      "--------------------------------------------------------------------------------\n",
      "    SOURCE: A 28-year-old Cassville man was charged early this morning with drunken driving on state Route 840, Whitestown police say.\n",
      "    TARGET: A Cassville man was charged with drunken driving.\n",
      " PREDICTED: \n"
     ]
    },
    {
     "name": "stderr",
     "output_type": "stream",
     "text": [
      "Processing epoch: 00:   0%|          | 91/22500 [11:46<50:00:58,  8.04s/it, loss=7.442]"
     ]
    },
    {
     "name": "stdout",
     "output_type": "stream",
     "text": [
      "--------------------------------------------------------------------------------\n",
      "    SOURCE: The Gastonia police have opened a new office in downtown Gastonia, but the office is only for police operations and won't hold regular office hours.\n",
      "    TARGET: The police have opened a new office in Gastonia.\n",
      " PREDICTED: \n",
      "--------------------------------------------------------------------------------\n"
     ]
    },
    {
     "name": "stderr",
     "output_type": "stream",
     "text": [
      "Processing epoch: 00:   0%|          | 91/22500 [11:52<50:00:58,  8.04s/it, loss=7.251]stty: 'standard input': Inappropriate ioctl for device\n"
     ]
    },
    {
     "name": "stdout",
     "output_type": "stream",
     "text": [
      "--------------------------------------------------------------------------------\n",
      "    SOURCE: A Neenah woman is accused of embezzling at least $470,000 from a nonprofit center that supplies donated blood to hospitals.\n",
      "    TARGET: A Neenah woman is accused of embezzling at least $ 470,000 from a nonprofit center.\n",
      " PREDICTED: A\n"
     ]
    },
    {
     "name": "stderr",
     "output_type": "stream",
     "text": [
      "Processing epoch: 00:   0%|          | 92/22500 [11:53<48:34:28,  7.80s/it, loss=7.251]"
     ]
    },
    {
     "name": "stdout",
     "output_type": "stream",
     "text": [
      "--------------------------------------------------------------------------------\n",
      "    SOURCE: FBI say a pair of thieves dressed as nuns robbed a Chicago bank on Sunday, May 29, 2011.\n",
      "    TARGET: A pair of thieves dressed as nuns robbed a Chicago bank.\n",
      " PREDICTED: A\n",
      "--------------------------------------------------------------------------------\n"
     ]
    },
    {
     "name": "stderr",
     "output_type": "stream",
     "text": [
      "Processing epoch: 00:   0%|          | 92/22500 [11:59<48:34:28,  7.80s/it, loss=7.606]stty: 'standard input': Inappropriate ioctl for device\n"
     ]
    },
    {
     "name": "stdout",
     "output_type": "stream",
     "text": [
      "--------------------------------------------------------------------------------\n",
      "    SOURCE: Al Gore and wife Tipper plan to separate, according to an email obtained by Politico and verified by a spokesman from Al Gore's office.\n",
      "    TARGET: Al Gore and wife Tipper plan to separate.\n",
      " PREDICTED: A A A\n"
     ]
    },
    {
     "name": "stderr",
     "output_type": "stream",
     "text": [
      "Processing epoch: 00:   0%|          | 93/22500 [12:01<48:09:45,  7.74s/it, loss=7.606]"
     ]
    },
    {
     "name": "stdout",
     "output_type": "stream",
     "text": [
      "--------------------------------------------------------------------------------\n",
      "    SOURCE: A 59-year-old court officer at Nashville's federal courthouse accidentally shot himself in the wrist while in the building's basement restroom.\n",
      "    TARGET: A court officer accidentally shot himself in the building's restroom.\n",
      " PREDICTED: A A A\n",
      "--------------------------------------------------------------------------------\n"
     ]
    },
    {
     "name": "stderr",
     "output_type": "stream",
     "text": [
      "Processing epoch: 00:   0%|          | 93/22500 [12:07<48:09:45,  7.74s/it, loss=7.411]stty: 'standard input': Inappropriate ioctl for device\n"
     ]
    },
    {
     "name": "stdout",
     "output_type": "stream",
     "text": [
      "--------------------------------------------------------------------------------\n",
      "    SOURCE: John Plumtree has conceded that the pressure is mounting on his Sharks side as they look to turn around the battling start to their Super Rugby campaign in round three over the weekend.\n",
      "    TARGET: The pressure is mounting on his Sharks side.\n",
      " PREDICTED: A A A A\n"
     ]
    },
    {
     "name": "stderr",
     "output_type": "stream",
     "text": [
      "Processing epoch: 00:   0%|          | 94/22500 [12:09<48:06:23,  7.73s/it, loss=7.411]"
     ]
    },
    {
     "name": "stdout",
     "output_type": "stream",
     "text": [
      "--------------------------------------------------------------------------------\n",
      "    SOURCE: New Zealand is still the world's most peaceful nation according to the study conducted by the Institute for Peace and Economics, a British think tank.\n",
      "    TARGET: New Zealand is the world's most peaceful nation.\n",
      " PREDICTED: A A A A\n",
      "--------------------------------------------------------------------------------\n"
     ]
    },
    {
     "name": "stderr",
     "output_type": "stream",
     "text": [
      "Processing epoch: 00:   0%|          | 94/22500 [12:15<48:06:23,  7.73s/it, loss=7.414]stty: 'standard input': Inappropriate ioctl for device\n"
     ]
    },
    {
     "name": "stdout",
     "output_type": "stream",
     "text": [
      "--------------------------------------------------------------------------------\n",
      "    SOURCE: An insurer representing the owners of the container ship that crashed into the Bay Bridge last year and caused a 58,000-gallon oil spill will pay San Francisco $2 million for cleanup costs the city incurred in the wake of the disaster, city officials said Sunday.\n",
      "    TARGET: An insurer will pay $ 2 million for cleanup costs.\n",
      " PREDICTED: A A A A A\n"
     ]
    },
    {
     "name": "stderr",
     "output_type": "stream",
     "text": [
      "Processing epoch: 00:   0%|          | 95/22500 [12:17<49:08:25,  7.90s/it, loss=7.414]"
     ]
    },
    {
     "name": "stdout",
     "output_type": "stream",
     "text": [
      "--------------------------------------------------------------------------------\n",
      "    SOURCE: It is the second time in three months that Chinese power plants have run short of coal, an unintended effect of government-mandated price controls a throwback to communist central planning to shield the public from rising global energy costs.\n",
      "    TARGET: It is the time Chinese power plants have run short of coal.\n",
      " PREDICTED: A A A A A\n",
      "--------------------------------------------------------------------------------\n"
     ]
    },
    {
     "name": "stderr",
     "output_type": "stream",
     "text": [
      "Processing epoch: 00:   0%|          | 95/22500 [12:22<49:08:25,  7.90s/it, loss=7.593]stty: 'standard input': Inappropriate ioctl for device\n"
     ]
    },
    {
     "name": "stdout",
     "output_type": "stream",
     "text": [
      "--------------------------------------------------------------------------------\n",
      "    SOURCE: Iranian fighter jets fired on an unarmed US drone in the Gulf last week and missed, the Pentagon said November 8, 2012, warning that the United States stood ready to protect its forces in the region.\n",
      "    TARGET: Iranian jets fired on an US drone in the Gulf.\n",
      " PREDICTED: A A A A\n"
     ]
    },
    {
     "name": "stderr",
     "output_type": "stream",
     "text": [
      "Processing epoch: 00:   0%|          | 96/22500 [12:24<47:48:24,  7.68s/it, loss=7.593]"
     ]
    },
    {
     "name": "stdout",
     "output_type": "stream",
     "text": [
      "--------------------------------------------------------------------------------\n",
      "    SOURCE: General David Petraeus, the head of US Central Command, warned Sunday that Iran is becoming a ``thugocracy'' in attempts to suppress popular anger over last year's contested presidential vote results, AFP reported.\n",
      "    TARGET: David Petraeus warned Iran is becoming a thugocracy.\n",
      " PREDICTED: A A A A\n",
      "--------------------------------------------------------------------------------\n"
     ]
    },
    {
     "name": "stderr",
     "output_type": "stream",
     "text": [
      "Processing epoch: 00:   0%|          | 96/22500 [12:30<47:48:24,  7.68s/it, loss=7.374]stty: 'standard input': Inappropriate ioctl for device\n"
     ]
    },
    {
     "name": "stdout",
     "output_type": "stream",
     "text": [
      "--------------------------------------------------------------------------------\n",
      "    SOURCE: A new study, involving an Indian-origin boffin, has explained how cannabis dampens the body's immune system.\n",
      "    TARGET: How cannabis dampens the body's immune system.\n",
      " PREDICTED: A A A\n"
     ]
    },
    {
     "name": "stderr",
     "output_type": "stream",
     "text": [
      "Processing epoch: 00:   0%|          | 97/22500 [12:33<49:25:03,  7.94s/it, loss=7.374]"
     ]
    },
    {
     "name": "stdout",
     "output_type": "stream",
     "text": [
      "--------------------------------------------------------------------------------\n",
      "    SOURCE: `Deputies in Branch County say that a pedestrian was struck by a car Tuesday evening.\n",
      "    TARGET: A pedestrian was struck by a car.\n",
      " PREDICTED: A A A\n",
      "--------------------------------------------------------------------------------\n"
     ]
    },
    {
     "name": "stderr",
     "output_type": "stream",
     "text": [
      "Processing epoch: 00:   0%|          | 97/22500 [12:39<49:25:03,  7.94s/it, loss=7.283]stty: 'standard input': Inappropriate ioctl for device\n"
     ]
    },
    {
     "name": "stdout",
     "output_type": "stream",
     "text": [
      "--------------------------------------------------------------------------------\n",
      "    SOURCE: Rocker COURTNEY LOVE is countersuing credit card firm American Express after company bosses took legal action against her for allegedly failing to settle a bill worth more than $350,000.\n",
      "    TARGET: COURTNEY LOVE is countersuing American Express.\n",
      " PREDICTED: A A\n"
     ]
    },
    {
     "name": "stderr",
     "output_type": "stream",
     "text": [
      "Processing epoch: 00:   0%|          | 98/22500 [12:42<51:41:40,  8.31s/it, loss=7.283]"
     ]
    },
    {
     "name": "stdout",
     "output_type": "stream",
     "text": [
      "--------------------------------------------------------------------------------\n",
      "    SOURCE: TNA star James Storm announced he suffered a groin injury while refereeing the tag match between Bad Influence and Austin Aries & Bobby Roode.\n",
      "    TARGET: James Storm suffered a groin injury.\n",
      " PREDICTED: A A\n",
      "--------------------------------------------------------------------------------\n"
     ]
    },
    {
     "name": "stderr",
     "output_type": "stream",
     "text": [
      "Processing epoch: 00:   0%|          | 98/22500 [12:49<51:41:40,  8.31s/it, loss=7.230]stty: 'standard input': Inappropriate ioctl for device\n"
     ]
    },
    {
     "name": "stdout",
     "output_type": "stream",
     "text": [
      "--------------------------------------------------------------------------------\n",
      "    SOURCE: Matt Hasselbeck will get the start for the Tennessee Titans in the preseason opener Saturday night against his former team, the Seattle Seahawks.\n",
      "    TARGET: Matt Hasselbeck will get the start.\n",
      " PREDICTED: A A\n"
     ]
    },
    {
     "name": "stderr",
     "output_type": "stream",
     "text": [
      "Processing epoch: 00:   0%|          | 99/22500 [12:51<52:32:57,  8.45s/it, loss=7.230]"
     ]
    },
    {
     "name": "stdout",
     "output_type": "stream",
     "text": [
      "--------------------------------------------------------------------------------\n",
      "    SOURCE: A Langston University official who was placed on administrative leave has been cleared of all wrongdoing, school officials said, and the official's attorney said his client may be the victim of ``the worst police work'' the attorney has seen.\n",
      "    TARGET: A Langston University official has been cleared of all wrongdoing.\n",
      " PREDICTED: A A\n",
      "--------------------------------------------------------------------------------\n"
     ]
    },
    {
     "name": "stderr",
     "output_type": "stream",
     "text": [
      "Processing epoch: 00:   0%|          | 99/22500 [12:56<52:32:57,  8.45s/it, loss=6.674]stty: 'standard input': Inappropriate ioctl for device\n"
     ]
    },
    {
     "name": "stdout",
     "output_type": "stream",
     "text": [
      "--------------------------------------------------------------------------------\n",
      "    SOURCE: France Telecom seeks to expand its mobile payment services across Africa, as part of a wider plan to double revenue in Africa and the Middle East over the next five years.\n",
      "    TARGET: France Telecom seeks to expand its mobile payment services across Africa.\n",
      " PREDICTED: A A\n"
     ]
    },
    {
     "name": "stderr",
     "output_type": "stream",
     "text": [
      "Processing epoch: 00:   0%|          | 100/22500 [12:58<51:10:48,  8.23s/it, loss=6.674]"
     ]
    },
    {
     "name": "stdout",
     "output_type": "stream",
     "text": [
      "--------------------------------------------------------------------------------\n",
      "    SOURCE: 'Every single step that Najib takes is being closely watched by the people.\n",
      "    TARGET: Every step Najib takes is being watched.\n",
      " PREDICTED: A A\n",
      "--------------------------------------------------------------------------------\n"
     ]
    },
    {
     "name": "stderr",
     "output_type": "stream",
     "text": [
      "Processing epoch: 00:   0%|          | 100/22500 [13:04<51:10:48,  8.23s/it, loss=8.277]stty: 'standard input': Inappropriate ioctl for device\n"
     ]
    },
    {
     "name": "stdout",
     "output_type": "stream",
     "text": [
      "--------------------------------------------------------------------------------\n",
      "    SOURCE: Former captain Shahid Afridi said on Saturday that he hoped to make a fresh start playing for Hampshire following his clashes with the Pakistan Cricket Board which fined him $53,000 for disciplinary breaches.\n",
      "    TARGET: Shahid Afridi hoped to make a fresh start playing.\n",
      " PREDICTED: A A\n"
     ]
    },
    {
     "name": "stderr",
     "output_type": "stream",
     "text": [
      "Processing epoch: 00:   0%|          | 101/22500 [13:06<49:42:30,  7.99s/it, loss=8.277]"
     ]
    },
    {
     "name": "stdout",
     "output_type": "stream",
     "text": [
      "--------------------------------------------------------------------------------\n",
      "    SOURCE: A new liquor store in Antelope Valley could be placed on hold until county commissioners have a chance to review an application from another business.\n",
      "    TARGET: A new liquor store could be placed on hold.\n",
      " PREDICTED: A A\n",
      "--------------------------------------------------------------------------------\n"
     ]
    },
    {
     "name": "stderr",
     "output_type": "stream",
     "text": [
      "Processing epoch: 00:   0%|          | 101/22500 [13:12<49:42:30,  7.99s/it, loss=6.657]stty: 'standard input': Inappropriate ioctl for device\n"
     ]
    },
    {
     "name": "stdout",
     "output_type": "stream",
     "text": [
      "--------------------------------------------------------------------------------\n",
      "    SOURCE: An auto supplier is looking to expand in Walker bringing more than 200 new jobs to West Michigan.\n",
      "    TARGET: An auto supplier is looking to expand in Walker.\n",
      " PREDICTED: A A\n"
     ]
    },
    {
     "name": "stderr",
     "output_type": "stream",
     "text": [
      "Processing epoch: 00:   0%|          | 102/22500 [13:15<52:25:31,  8.43s/it, loss=6.657]"
     ]
    },
    {
     "name": "stdout",
     "output_type": "stream",
     "text": [
      "--------------------------------------------------------------------------------\n",
      "    SOURCE: Biorefining plant in Preston has earned top honors from the Minnesota Safety Council for having a low injury incidence and a good track record in safety.\n",
      "    TARGET: Biorefining plant has earned honors.\n",
      " PREDICTED: A A\n",
      "--------------------------------------------------------------------------------\n"
     ]
    },
    {
     "name": "stderr",
     "output_type": "stream",
     "text": [
      "Processing epoch: 00:   0%|          | 102/22500 [13:22<52:25:31,  8.43s/it, loss=6.778]stty: 'standard input': Inappropriate ioctl for device\n"
     ]
    },
    {
     "name": "stdout",
     "output_type": "stream",
     "text": [
      "--------------------------------------------------------------------------------\n",
      "    SOURCE: A volunteer Passaic County Sheriff's deputy and courthouse guard has been charged with sexually assaulting a 13-year-old boy more than a decade ago, authorities said.\n",
      "    TARGET: A volunteer Passaic County Sheriff's deputy guard has been charged with sexually assaulting a boy.\n",
      " PREDICTED: A\n"
     ]
    },
    {
     "name": "stderr",
     "output_type": "stream",
     "text": [
      "Processing epoch: 00:   0%|          | 103/22500 [13:24<53:08:18,  8.54s/it, loss=6.778]"
     ]
    },
    {
     "name": "stdout",
     "output_type": "stream",
     "text": [
      "--------------------------------------------------------------------------------\n",
      "    SOURCE: The mayor and other officials in the small Texas town of Patton Village have been indicted in a public corruption case.\n",
      "    TARGET: The mayor and officials in the small Texas town have been indicted in a corruption case.\n",
      " PREDICTED: A\n",
      "--------------------------------------------------------------------------------\n"
     ]
    },
    {
     "name": "stderr",
     "output_type": "stream",
     "text": [
      "Processing epoch: 00:   0%|          | 103/22500 [13:30<53:08:18,  8.54s/it, loss=7.417]stty: 'standard input': Inappropriate ioctl for device\n"
     ]
    },
    {
     "name": "stdout",
     "output_type": "stream",
     "text": [
      "--------------------------------------------------------------------------------\n",
      "    SOURCE: Prime Minister Yousaf Raza Gilani has said nationalisation of educational institutions was a mistake and wrongs of the policy would be undone, a private TV channel reported on Saturday.\n",
      "    TARGET: Nationalisation of institutions was and wrongs would be undone.\n",
      " PREDICTED: \n"
     ]
    },
    {
     "name": "stderr",
     "output_type": "stream",
     "text": [
      "Processing epoch: 00:   0%|          | 104/22500 [13:32<52:38:55,  8.46s/it, loss=7.417]"
     ]
    },
    {
     "name": "stdout",
     "output_type": "stream",
     "text": [
      "--------------------------------------------------------------------------------\n",
      "    SOURCE: Eleven million contraband cigarettes have been destroyed in Musina, the Tobacco Institute of Southern Africa said on Friday.\n",
      "    TARGET: Eleven million cigarettes have been destroyed.\n",
      " PREDICTED: \n",
      "--------------------------------------------------------------------------------\n"
     ]
    },
    {
     "name": "stderr",
     "output_type": "stream",
     "text": [
      "Processing epoch: 00:   0%|          | 104/22500 [13:38<52:38:55,  8.46s/it, loss=7.071]stty: 'standard input': Inappropriate ioctl for device\n"
     ]
    },
    {
     "name": "stdout",
     "output_type": "stream",
     "text": [
      "--------------------------------------------------------------------------------\n",
      "    SOURCE: Alec Baldwin the head chieftain of the Baldwin clan was rushed to the hospital early this morning.\n",
      "    TARGET: Alec Baldwin was rushed to the hospital.\n",
      " PREDICTED: \n"
     ]
    },
    {
     "name": "stderr",
     "output_type": "stream",
     "text": [
      "Processing epoch: 00:   0%|          | 105/22500 [13:40<52:07:53,  8.38s/it, loss=7.071]"
     ]
    },
    {
     "name": "stdout",
     "output_type": "stream",
     "text": [
      "--------------------------------------------------------------------------------\n",
      "    SOURCE: Popular talk-show host, Dee Hsu, also known as Little S, released her first comic book yesterday, titled ``Like Mother, Like Daughter,'' describing her interaction with her two young children.\n",
      "    TARGET: Host, Dee Hsu released her comic book.\n",
      " PREDICTED: \n",
      "--------------------------------------------------------------------------------\n"
     ]
    },
    {
     "name": "stderr",
     "output_type": "stream",
     "text": [
      "Processing epoch: 00:   0%|          | 105/22500 [13:47<52:07:53,  8.38s/it, loss=7.964]stty: 'standard input': Inappropriate ioctl for device\n"
     ]
    },
    {
     "name": "stdout",
     "output_type": "stream",
     "text": [
      "--------------------------------------------------------------------------------\n",
      "    SOURCE: Yes, I still call them 'albums'...even if they're actually CDs recorded by a group whose members weren't yet alive when the first commercial CDs were pressed.\n",
      "    TARGET: I still call albums.\n",
      " PREDICTED: \n"
     ]
    },
    {
     "name": "stderr",
     "output_type": "stream",
     "text": [
      "Processing epoch: 00:   0%|          | 106/22500 [13:49<53:15:28,  8.56s/it, loss=7.964]"
     ]
    },
    {
     "name": "stdout",
     "output_type": "stream",
     "text": [
      "--------------------------------------------------------------------------------\n",
      "    SOURCE: ``Quakers'' is the sermon topic to be presented by Patty and Barry Simon this Sunday at The First Unitarian Universalist Society of Middleborough, 25 South Main St. The service begins at 9 am and is held downstairs in the function room.\n",
      "    TARGET: Quakers is the sermon topic, begins.\n",
      " PREDICTED: \n",
      "--------------------------------------------------------------------------------\n"
     ]
    },
    {
     "name": "stderr",
     "output_type": "stream",
     "text": [
      "Processing epoch: 00:   0%|          | 106/22500 [13:56<53:15:28,  8.56s/it, loss=7.295]stty: 'standard input': Inappropriate ioctl for device\n"
     ]
    },
    {
     "name": "stdout",
     "output_type": "stream",
     "text": [
      "--------------------------------------------------------------------------------\n",
      "    SOURCE: PSA Peugeot-Citroen on Thursday said it plans to increase its 2008 small SUV production in France as the automaker received a higher-than-expected demand for the new vehicle, Automotive News of Europe reports.\n",
      "    TARGET: PSA Peugeot-Citroen plans to increase its 2008 small SUV production in France.\n",
      " PREDICTED: A A\n"
     ]
    },
    {
     "name": "stderr",
     "output_type": "stream",
     "text": [
      "Processing epoch: 00:   0%|          | 107/22500 [13:58<52:58:22,  8.52s/it, loss=7.295]"
     ]
    },
    {
     "name": "stdout",
     "output_type": "stream",
     "text": [
      "--------------------------------------------------------------------------------\n",
      "    SOURCE: She was a lady and she had one tough life before it reached its all too premature end.\n",
      "    TARGET: She was a lady.\n",
      " PREDICTED: A A\n",
      "--------------------------------------------------------------------------------\n"
     ]
    },
    {
     "name": "stderr",
     "output_type": "stream",
     "text": [
      "Processing epoch: 00:   0%|          | 107/22500 [14:04<52:58:22,  8.52s/it, loss=7.624]stty: 'standard input': Inappropriate ioctl for device\n"
     ]
    },
    {
     "name": "stdout",
     "output_type": "stream",
     "text": [
      "--------------------------------------------------------------------------------\n",
      "    SOURCE: one of the closest galaxies to the Milky Way -- of stealing stars from its neighbour, the Small Magellanic Cloud.\n",
      "    TARGET: One of the galaxies to the Milky Way -- of stealing stars from its neighbour.\n",
      " PREDICTED: A A\n"
     ]
    },
    {
     "name": "stderr",
     "output_type": "stream",
     "text": [
      "Processing epoch: 00:   0%|          | 108/22500 [14:06<52:05:25,  8.37s/it, loss=7.624]"
     ]
    },
    {
     "name": "stdout",
     "output_type": "stream",
     "text": [
      "--------------------------------------------------------------------------------\n",
      "    SOURCE: Seven senators have resigned from the Student Government Association between Jan. 18 and Jan. 25, Public Relations Chair Nicholas Monteforte said.\n",
      "    TARGET: Seven senators have resigned.\n",
      " PREDICTED: A A\n",
      "--------------------------------------------------------------------------------\n"
     ]
    },
    {
     "name": "stderr",
     "output_type": "stream",
     "text": [
      "Processing epoch: 00:   0%|          | 108/22500 [14:12<52:05:25,  8.37s/it, loss=7.339]stty: 'standard input': Inappropriate ioctl for device\n"
     ]
    },
    {
     "name": "stdout",
     "output_type": "stream",
     "text": [
      "--------------------------------------------------------------------------------\n",
      "    SOURCE: In order to provide access to Magic Basketball to as many fans as possible, the Orlando Magic announced it will cap season ticket sales for the upcoming season at 13,000.\n",
      "    TARGET: The Orlando Magic will cap season ticket sales at 13,000.\n",
      " PREDICTED: A A\n"
     ]
    },
    {
     "name": "stderr",
     "output_type": "stream",
     "text": [
      "Processing epoch: 00:   0%|          | 109/22500 [14:15<52:38:02,  8.46s/it, loss=7.339]"
     ]
    },
    {
     "name": "stdout",
     "output_type": "stream",
     "text": [
      "--------------------------------------------------------------------------------\n",
      "    SOURCE: Kim Jong Il, the isolated North Korean dictator who used fear to maintain power and threats to menace his neighbors and the US, has died of a heart attack, North Korean state television reported Monday.\n",
      "    TARGET: Kim Jong Il, the North Korean dictator, has died.\n",
      " PREDICTED: A A\n",
      "--------------------------------------------------------------------------------\n"
     ]
    },
    {
     "name": "stderr",
     "output_type": "stream",
     "text": [
      "Processing epoch: 00:   0%|          | 109/22500 [14:21<52:38:02,  8.46s/it, loss=7.920]stty: 'standard input': Inappropriate ioctl for device\n"
     ]
    },
    {
     "name": "stdout",
     "output_type": "stream",
     "text": [
      "--------------------------------------------------------------------------------\n",
      "    SOURCE: Taiwan has suspended the hiring of Filipino workers after the fatal shooting of a Taiwanese fisherman by the Philippine Coast Guard last week.\n",
      "    TARGET: Taiwan has suspended the hiring of Filipino workers.\n",
      " PREDICTED: \n"
     ]
    },
    {
     "name": "stderr",
     "output_type": "stream",
     "text": [
      "Processing epoch: 00:   0%|          | 110/22500 [14:23<52:52:45,  8.50s/it, loss=7.920]"
     ]
    },
    {
     "name": "stdout",
     "output_type": "stream",
     "text": [
      "--------------------------------------------------------------------------------\n",
      "    SOURCE: Restaurant Brands is predicting an 87% increase in half-year earnings, thanks to a strong turnaround for Pizza Hut and KFC.\n",
      "    TARGET: Restaurant Brands is predicting an increase in earnings.\n",
      " PREDICTED: \n",
      "--------------------------------------------------------------------------------\n"
     ]
    },
    {
     "name": "stderr",
     "output_type": "stream",
     "text": [
      "Processing epoch: 00:   0%|          | 110/22500 [14:30<52:52:45,  8.50s/it, loss=6.954]stty: 'standard input': Inappropriate ioctl for device\n"
     ]
    },
    {
     "name": "stdout",
     "output_type": "stream",
     "text": [
      "--------------------------------------------------------------------------------\n",
      "    SOURCE: Kotaku are picking up on an announcement that 7 million Wiis have now been sold in Japan.\n",
      "    TARGET: 7 million Wiis have been sold in Japan.\n",
      " PREDICTED: \n"
     ]
    },
    {
     "name": "stderr",
     "output_type": "stream",
     "text": [
      "Processing epoch: 00:   0%|          | 111/22500 [14:32<53:00:11,  8.52s/it, loss=6.954]"
     ]
    },
    {
     "name": "stdout",
     "output_type": "stream",
     "text": [
      "--------------------------------------------------------------------------------\n",
      "    SOURCE: Cincinnati Bengals wide receiver Chad Johnson has a partially torn labrum in his left shoulder, but will attempt to play through the injury.\n",
      "    TARGET: Chad Johnson has a partially torn labrum.\n",
      " PREDICTED: \n",
      "--------------------------------------------------------------------------------\n"
     ]
    },
    {
     "name": "stderr",
     "output_type": "stream",
     "text": [
      "Processing epoch: 00:   0%|          | 111/22500 [14:38<53:00:11,  8.52s/it, loss=7.364]stty: 'standard input': Inappropriate ioctl for device\n"
     ]
    },
    {
     "name": "stdout",
     "output_type": "stream",
     "text": [
      "--------------------------------------------------------------------------------\n",
      "    SOURCE: Admiral William Fallon has resigned as Commander of US Central Command.\n",
      "    TARGET: Admiral William Fallon has resigned.\n",
      " PREDICTED: \n"
     ]
    },
    {
     "name": "stderr",
     "output_type": "stream",
     "text": [
      "Processing epoch: 00:   0%|          | 112/22500 [14:41<53:39:06,  8.63s/it, loss=7.364]"
     ]
    },
    {
     "name": "stdout",
     "output_type": "stream",
     "text": [
      "--------------------------------------------------------------------------------\n",
      "    SOURCE: Former US president Jimmy Carter said on Tuesday he was ready to meet with Hezbollah officials if the Lebanese militant group agreed to see him.\n",
      "    TARGET: Jimmy Carter was ready to meet with Hezbollah officials.\n",
      " PREDICTED: \n",
      "--------------------------------------------------------------------------------\n"
     ]
    },
    {
     "name": "stderr",
     "output_type": "stream",
     "text": [
      "Processing epoch: 00:   0%|          | 112/22500 [14:47<53:39:06,  8.63s/it, loss=8.190]stty: 'standard input': Inappropriate ioctl for device\n"
     ]
    },
    {
     "name": "stdout",
     "output_type": "stream",
     "text": [
      "--------------------------------------------------------------------------------\n",
      "    SOURCE: MOODY'S cut the long-term ratings of five Danish banks, saying yesterday that the government had become less willing to bail out depositors and creditors in the event of a bankruptcy.\n",
      "    TARGET: MOODY 'S cut the ratings of five Danish banks.\n",
      " PREDICTED: The The\n"
     ]
    },
    {
     "name": "stderr",
     "output_type": "stream",
     "text": [
      "Processing epoch: 00:   1%|          | 113/22500 [14:49<53:50:43,  8.66s/it, loss=8.190]"
     ]
    },
    {
     "name": "stdout",
     "output_type": "stream",
     "text": [
      "--------------------------------------------------------------------------------\n",
      "    SOURCE: Katie Price is planning to have more cosmetic surgery because she feels like a ``man in drag''.\n",
      "    TARGET: Katie Price is planning to have more cosmetic surgery.\n",
      " PREDICTED: The The\n",
      "--------------------------------------------------------------------------------\n"
     ]
    },
    {
     "name": "stderr",
     "output_type": "stream",
     "text": [
      "Processing epoch: 00:   1%|          | 113/22500 [14:56<53:50:43,  8.66s/it, loss=7.078]stty: 'standard input': Inappropriate ioctl for device\n"
     ]
    },
    {
     "name": "stdout",
     "output_type": "stream",
     "text": [
      "--------------------------------------------------------------------------------\n",
      "    SOURCE: Gold futures may breach the psychological Rs 17,000 mark this week on the back of a weaker dollar, enhancing the yellow metal's appeal as an alternative investment, analysts said.\n",
      "    TARGET: Gold futures may breach the Rs 17,000 mark this week.\n",
      " PREDICTED: The The The\n"
     ]
    },
    {
     "name": "stderr",
     "output_type": "stream",
     "text": [
      "Processing epoch: 00:   1%|          | 114/22500 [14:58<54:11:49,  8.72s/it, loss=7.078]"
     ]
    },
    {
     "name": "stdout",
     "output_type": "stream",
     "text": [
      "--------------------------------------------------------------------------------\n",
      "    SOURCE: Colorado is leading the way in creating a new state-based health exchange that's a key part of the Patient Protection and Affordable Care Act, otherwise known as the federal health care reform act signed into law by President Obama last year.\n",
      "    TARGET: Colorado is leading in creating a exchange.\n",
      " PREDICTED: The The The\n",
      "--------------------------------------------------------------------------------\n"
     ]
    },
    {
     "name": "stderr",
     "output_type": "stream",
     "text": [
      "Processing epoch: 00:   1%|          | 114/22500 [15:05<54:11:49,  8.72s/it, loss=7.770]stty: 'standard input': Inappropriate ioctl for device\n"
     ]
    },
    {
     "name": "stdout",
     "output_type": "stream",
     "text": [
      "--------------------------------------------------------------------------------\n",
      "    SOURCE: Anum Khan of Frontier College for Women clinched the cycling title of the Board of Intermediate and Secretary Education Peshawar Inter-college Games, which got under way here at the Board premises on Wednesday.\n",
      "    TARGET: Anum Khan clinched the cycling title.\n",
      " PREDICTED: The The The\n"
     ]
    },
    {
     "name": "stderr",
     "output_type": "stream",
     "text": [
      "Processing epoch: 00:   1%|          | 115/22500 [15:07<54:15:08,  8.72s/it, loss=7.770]"
     ]
    },
    {
     "name": "stdout",
     "output_type": "stream",
     "text": [
      "--------------------------------------------------------------------------------\n",
      "    SOURCE: Huntington Bank and the state of Ohio are joining to provide $1 billion in loans to Ohio businesses struggling amid the credit crunch.\n",
      "    TARGET: Huntington Bank are joining to provide $ 1 billion in loans to Ohio businesses.\n",
      " PREDICTED: The The The\n",
      "--------------------------------------------------------------------------------\n"
     ]
    },
    {
     "name": "stderr",
     "output_type": "stream",
     "text": [
      "Processing epoch: 00:   1%|          | 115/22500 [15:14<54:15:08,  8.72s/it, loss=7.505]stty: 'standard input': Inappropriate ioctl for device\n"
     ]
    },
    {
     "name": "stdout",
     "output_type": "stream",
     "text": [
      "--------------------------------------------------------------------------------\n",
      "    SOURCE: Governor Andrew Cuomo announced Monday that he will reduce his salary by five percent.\n",
      "    TARGET: Andrew Cuomo announced he will reduce his salary by five percent.\n",
      " PREDICTED: The The\n"
     ]
    },
    {
     "name": "stderr",
     "output_type": "stream",
     "text": [
      "Processing epoch: 00:   1%|          | 116/22500 [15:16<54:02:44,  8.69s/it, loss=7.505]"
     ]
    },
    {
     "name": "stdout",
     "output_type": "stream",
     "text": [
      "--------------------------------------------------------------------------------\n",
      "    SOURCE: Natural gas rates are going up.\n",
      "    TARGET: Gas rates are going.\n",
      " PREDICTED: The The\n",
      "--------------------------------------------------------------------------------\n"
     ]
    },
    {
     "name": "stderr",
     "output_type": "stream",
     "text": [
      "Processing epoch: 00:   1%|          | 116/22500 [15:23<54:02:44,  8.69s/it, loss=7.169]stty: 'standard input': Inappropriate ioctl for device\n"
     ]
    },
    {
     "name": "stdout",
     "output_type": "stream",
     "text": [
      "--------------------------------------------------------------------------------\n",
      "    SOURCE: Several Palestinian civilians have been wounded in an Israeli military attack on the Gaza Strip.\n",
      "    TARGET: Palestinian civilians have been wounded in an Israeli attack on the Gaza Strip.\n",
      " PREDICTED: The\n"
     ]
    },
    {
     "name": "stderr",
     "output_type": "stream",
     "text": [
      "Processing epoch: 00:   1%|          | 117/22500 [15:25<54:55:02,  8.83s/it, loss=7.169]"
     ]
    },
    {
     "name": "stdout",
     "output_type": "stream",
     "text": [
      "--------------------------------------------------------------------------------\n",
      "    SOURCE: Sports Writer MIAMI Hours after Florida Marlins manager Jack McKeon said he'll retire at the end of the season, Ozzie Guillen said he was leaving the Chicago White Sox.\n",
      "    TARGET: Jack McKeon said he 'll retire at the end of the season.\n",
      " PREDICTED: The\n",
      "--------------------------------------------------------------------------------\n"
     ]
    },
    {
     "name": "stderr",
     "output_type": "stream",
     "text": [
      "Processing epoch: 00:   1%|          | 117/22500 [15:31<54:55:02,  8.83s/it, loss=7.061]stty: 'standard input': Inappropriate ioctl for device\n"
     ]
    },
    {
     "name": "stdout",
     "output_type": "stream",
     "text": [
      "--------------------------------------------------------------------------------\n",
      "    SOURCE: A drum line instructor for Byron Center High School was suspended for alleged improper contact with a student through a computer.\n",
      "    TARGET: A drum line instructor was suspended.\n",
      " PREDICTED: The\n"
     ]
    },
    {
     "name": "stderr",
     "output_type": "stream",
     "text": [
      "Processing epoch: 00:   1%|          | 118/22500 [15:34<55:52:44,  8.99s/it, loss=7.061]"
     ]
    },
    {
     "name": "stdout",
     "output_type": "stream",
     "text": [
      "--------------------------------------------------------------------------------\n",
      "    SOURCE: --- Scottrade, a leading branch-supported online investment firm, is opening a new branch office in Augusta, Ga., on Monday, Sept. 28.\n",
      "    TARGET: Scottrade is opening a office in Augusta, Ga..\n",
      " PREDICTED: The\n",
      "--------------------------------------------------------------------------------\n"
     ]
    },
    {
     "name": "stderr",
     "output_type": "stream",
     "text": [
      "Processing epoch: 00:   1%|          | 118/22500 [15:41<55:52:44,  8.99s/it, loss=8.006]stty: 'standard input': Inappropriate ioctl for device\n"
     ]
    },
    {
     "name": "stdout",
     "output_type": "stream",
     "text": [
      "--------------------------------------------------------------------------------\n",
      "    SOURCE: David Cameron set out the Government's strategy for economic growth today with a promise to ''transform our economy'' and make the coming decade the most entrepreneurial and dynamic in Britain's history.\n",
      "    TARGET: David Cameron set out with a promise transform our economy.\n",
      " PREDICTED: The The\n"
     ]
    },
    {
     "name": "stderr",
     "output_type": "stream",
     "text": [
      "Processing epoch: 00:   1%|          | 119/22500 [15:43<55:03:50,  8.86s/it, loss=8.006]"
     ]
    },
    {
     "name": "stdout",
     "output_type": "stream",
     "text": [
      "--------------------------------------------------------------------------------\n",
      "    SOURCE: Benfica chief Rui Costa is delighted to see former club Fiorentina back in the Champions League this season.\n",
      "    TARGET: Rui Costa is delighted to see Fiorentina back in the Champions League.\n",
      " PREDICTED: The The\n",
      "--------------------------------------------------------------------------------\n"
     ]
    },
    {
     "name": "stderr",
     "output_type": "stream",
     "text": [
      "Processing epoch: 00:   1%|          | 119/22500 [15:49<55:03:50,  8.86s/it, loss=7.648]stty: 'standard input': Inappropriate ioctl for device\n"
     ]
    },
    {
     "name": "stdout",
     "output_type": "stream",
     "text": [
      "--------------------------------------------------------------------------------\n",
      "    SOURCE: Rain hampered the fourth round matches of the Under 23 Inter-Provincial cricket tournament which was played in Colombo and the suburb.\n",
      "    TARGET: Rain hampered the fourth round matches.\n",
      " PREDICTED: The The The\n"
     ]
    },
    {
     "name": "stderr",
     "output_type": "stream",
     "text": [
      "Processing epoch: 00:   1%|          | 120/22500 [15:52<55:15:34,  8.89s/it, loss=7.648]"
     ]
    },
    {
     "name": "stdout",
     "output_type": "stream",
     "text": [
      "--------------------------------------------------------------------------------\n",
      "    SOURCE: Farrakhan spent much of his oration decrying what he cast as Satan's influence over racist forces in politics and society before asking a pointed rhetorical question: ``Do you think they're wicked enough to be plotting our brother's assassination as we speak?''\n",
      "    TARGET: Farrakhan cast before asking a question : Do you think they 're wicked enough to be plotting our brother's assassination.\n",
      " PREDICTED: The The The\n",
      "--------------------------------------------------------------------------------\n"
     ]
    },
    {
     "name": "stderr",
     "output_type": "stream",
     "text": [
      "Processing epoch: 00:   1%|          | 120/22500 [15:58<55:15:34,  8.89s/it, loss=7.594]stty: 'standard input': Inappropriate ioctl for device\n"
     ]
    },
    {
     "name": "stdout",
     "output_type": "stream",
     "text": [
      "--------------------------------------------------------------------------------\n",
      "    SOURCE: Six Salida youth wrestlers placed first in the San Luis Valley Tournament of Champions Saturday in Del Norte.\n",
      "    TARGET: Six youth wrestlers placed first in Del Norte.\n",
      " PREDICTED: The The The\n"
     ]
    },
    {
     "name": "stderr",
     "output_type": "stream",
     "text": [
      "Processing epoch: 00:   1%|          | 121/22500 [16:02<57:18:07,  9.22s/it, loss=7.594]"
     ]
    },
    {
     "name": "stdout",
     "output_type": "stream",
     "text": [
      "--------------------------------------------------------------------------------\n",
      "    SOURCE: A 32-year-old Odessa man and Odessa Fire/Rescue firefighter was died Saturday morning after a fatal Interstate 20 rollover.\n",
      "    TARGET: A Odessa man and / firefighter was died morning after a rollover.\n",
      " PREDICTED: The The The is The\n",
      "--------------------------------------------------------------------------------\n"
     ]
    },
    {
     "name": "stderr",
     "output_type": "stream",
     "text": [
      "Processing epoch: 00:   1%|          | 121/22500 [16:08<57:18:07,  9.22s/it, loss=7.102]stty: 'standard input': Inappropriate ioctl for device\n"
     ]
    },
    {
     "name": "stdout",
     "output_type": "stream",
     "text": [
      "--------------------------------------------------------------------------------\n",
      "    SOURCE: Washington, April 22 The US hopes India will ask Iran to suspend its uranium enrichment activities and comply with the UN Security Council's other demands regarding its nuclear programme.\n",
      "    TARGET: April 22 The US hopes India will ask Iran to suspend its uranium enrichment activities.\n",
      " PREDICTED: The The The\n"
     ]
    },
    {
     "name": "stderr",
     "output_type": "stream",
     "text": [
      "Processing epoch: 00:   1%|          | 122/22500 [16:11<58:27:44,  9.40s/it, loss=7.102]"
     ]
    },
    {
     "name": "stdout",
     "output_type": "stream",
     "text": [
      "--------------------------------------------------------------------------------\n",
      "    SOURCE: Sudanese police have detained an unprecedented 63 journalists for several hours and instructed them to go to court for protesting against draconian censorship, reporters and a lawyer said.\n",
      "    TARGET: Sudanese police have detained an 63 journalists.\n",
      " PREDICTED: The The The\n",
      "--------------------------------------------------------------------------------\n"
     ]
    },
    {
     "name": "stderr",
     "output_type": "stream",
     "text": [
      "Processing epoch: 00:   1%|          | 122/22500 [16:18<58:27:44,  9.40s/it, loss=7.573]stty: 'standard input': Inappropriate ioctl for device\n"
     ]
    },
    {
     "name": "stdout",
     "output_type": "stream",
     "text": [
      "--------------------------------------------------------------------------------\n",
      "    SOURCE: The Justice Department today announced that it will monitor the primary elections on June 1, 2010, in Cibola and Sandoval Counties, NM, to ensure compliance with the minority language requirements of the Voting Rights Act of 1965 and other federal voting rights statutes.\n",
      "    TARGET: The Justice Department will monitor the elections, in Cibola and Sandoval Counties, NM.\n",
      " PREDICTED: The The The\n"
     ]
    },
    {
     "name": "stderr",
     "output_type": "stream",
     "text": [
      "Processing epoch: 00:   1%|          | 123/22500 [16:20<57:27:19,  9.24s/it, loss=7.573]"
     ]
    },
    {
     "name": "stdout",
     "output_type": "stream",
     "text": [
      "--------------------------------------------------------------------------------\n",
      "    SOURCE: Newt Gingrich made yet another comeback Republican presidential race last night, ending a six-week losing streak with a decisive win in his home state.\n",
      "    TARGET: Newt Gingrich made yet another comeback last night.\n",
      " PREDICTED: The The The\n",
      "--------------------------------------------------------------------------------\n"
     ]
    },
    {
     "name": "stderr",
     "output_type": "stream",
     "text": [
      "Processing epoch: 00:   1%|          | 123/22500 [16:27<57:27:19,  9.24s/it, loss=7.390]stty: 'standard input': Inappropriate ioctl for device\n"
     ]
    },
    {
     "name": "stdout",
     "output_type": "stream",
     "text": [
      "--------------------------------------------------------------------------------\n",
      "    SOURCE: European stocks fell for the first time in five days as evidence the global economy is slipping into a recession overshadowed declining money-market rates.\n",
      "    TARGET: European stocks fell the economy is slipping.\n",
      " PREDICTED: The The The\n"
     ]
    },
    {
     "name": "stderr",
     "output_type": "stream",
     "text": [
      "Processing epoch: 00:   1%|          | 124/22500 [16:29<56:13:41,  9.05s/it, loss=7.390]"
     ]
    },
    {
     "name": "stdout",
     "output_type": "stream",
     "text": [
      "--------------------------------------------------------------------------------\n",
      "    SOURCE: SINGAPORE has come out tops in Asia this year for corporate governance, despite stiff competition from its counterparts, Hong Kong and Japan, which came in second and third respectively.\n",
      "    TARGET: SINGAPORE has come out tops in Asia for corporate governance.\n",
      " PREDICTED: The The The\n",
      "--------------------------------------------------------------------------------\n"
     ]
    },
    {
     "name": "stderr",
     "output_type": "stream",
     "text": [
      "Processing epoch: 00:   1%|          | 124/22500 [16:35<56:13:41,  9.05s/it, loss=7.584]stty: 'standard input': Inappropriate ioctl for device\n"
     ]
    },
    {
     "name": "stdout",
     "output_type": "stream",
     "text": [
      "--------------------------------------------------------------------------------\n",
      "    SOURCE: Mario Chalmers and Darrell Arthur both scored 16 points and No. 5 Kansas beat Texas A&M 72-55 on Saturday to clinch at least a share of its fourth straight Big 12 regular-season title.\n",
      "    TARGET: Kansas beat to clinch a share of its Big 12 title.\n",
      " PREDICTED: The The The The\n"
     ]
    },
    {
     "name": "stderr",
     "output_type": "stream",
     "text": [
      "Processing epoch: 00:   1%|          | 125/22500 [16:37<55:02:10,  8.85s/it, loss=7.584]"
     ]
    },
    {
     "name": "stdout",
     "output_type": "stream",
     "text": [
      "--------------------------------------------------------------------------------\n",
      "    SOURCE: Republican presidential nominee Mitt Romney, whom Democrats have charged is too loose with his facts, predicted that President Obama would lie in the October debates.\n",
      "    TARGET: Mitt Romney, is, predicted Obama would lie in the debates.\n",
      " PREDICTED: The The The The\n",
      "--------------------------------------------------------------------------------\n"
     ]
    },
    {
     "name": "stderr",
     "output_type": "stream",
     "text": [
      "Processing epoch: 00:   1%|          | 125/22500 [16:44<55:02:10,  8.85s/it, loss=7.857]stty: 'standard input': Inappropriate ioctl for device\n"
     ]
    },
    {
     "name": "stdout",
     "output_type": "stream",
     "text": [
      "--------------------------------------------------------------------------------\n",
      "    SOURCE: THE RAILWAY line through Trowbridge could remain closed until tomorrow lunchtime, Wiltshire Fire and Rescue Service has warned.\n",
      "    TARGET: THE RAILWAY line could remain closed until tomorrow lunchtime.\n",
      " PREDICTED: The The The The has\n"
     ]
    },
    {
     "name": "stderr",
     "output_type": "stream",
     "text": [
      "Processing epoch: 00:   1%|          | 126/22500 [16:47<55:48:20,  8.98s/it, loss=7.857]"
     ]
    },
    {
     "name": "stdout",
     "output_type": "stream",
     "text": [
      "--------------------------------------------------------------------------------\n",
      "    SOURCE: Joran van der Sloot pleaded guilty today in the murder of 21-year-old Stephany Flores, the Peruvian woman he encountered in a casino in 2010.\n",
      "    TARGET: Joran van der Sloot pleaded guilty in the murder.\n",
      " PREDICTED: The The The The has\n",
      "--------------------------------------------------------------------------------\n"
     ]
    },
    {
     "name": "stderr",
     "output_type": "stream",
     "text": [
      "Processing epoch: 00:   1%|          | 126/22500 [16:53<55:48:20,  8.98s/it, loss=7.579]stty: 'standard input': Inappropriate ioctl for device\n"
     ]
    },
    {
     "name": "stdout",
     "output_type": "stream",
     "text": [
      "--------------------------------------------------------------------------------\n",
      "    SOURCE: International tobacco giant Philip Morris will take legal action to try and force the Gillard government to back down on its plain-packaging legislation.\n",
      "    TARGET: Tobacco giant Philip Morris will take legal action.\n",
      " PREDICTED: The The The The The\n"
     ]
    },
    {
     "name": "stderr",
     "output_type": "stream",
     "text": [
      "Processing epoch: 00:   1%|          | 127/22500 [16:56<55:49:59,  8.98s/it, loss=7.579]"
     ]
    },
    {
     "name": "stdout",
     "output_type": "stream",
     "text": [
      "--------------------------------------------------------------------------------\n",
      "    SOURCE: President Pratibha Devisingh Patil on Wednesday inaugurated 'Prakriti', the three-day national festival of tribal dances.\n",
      "    TARGET: Pratibha Devisingh Patil inaugurated Prakriti, the national festival of tribal dances.\n",
      " PREDICTED: The The The The The\n",
      "--------------------------------------------------------------------------------\n"
     ]
    },
    {
     "name": "stderr",
     "output_type": "stream",
     "text": [
      "Processing epoch: 00:   1%|          | 127/22500 [17:02<55:49:59,  8.98s/it, loss=7.724]stty: 'standard input': Inappropriate ioctl for device\n"
     ]
    },
    {
     "name": "stdout",
     "output_type": "stream",
     "text": [
      "--------------------------------------------------------------------------------\n",
      "    SOURCE: Washington County property owners are reminded that state law requires they control or eradicate noxious weeds on land they own or maintain.\n",
      "    TARGET: Property owners are reminded law requires they control noxious weeds.\n",
      " PREDICTED: The The The The is The\n"
     ]
    },
    {
     "name": "stderr",
     "output_type": "stream",
     "text": [
      "Processing epoch: 00:   1%|          | 128/22500 [17:04<55:45:01,  8.97s/it, loss=7.724]"
     ]
    },
    {
     "name": "stdout",
     "output_type": "stream",
     "text": [
      "--------------------------------------------------------------------------------\n",
      "    SOURCE: ``I think we adjusted to the conditions better. Nathan bowled fantastic, we knew his skills on slow pitches.\n",
      "    TARGET: We adjusted to the conditions better.\n",
      " PREDICTED: The The The The is The\n",
      "--------------------------------------------------------------------------------\n"
     ]
    },
    {
     "name": "stderr",
     "output_type": "stream",
     "text": [
      "Processing epoch: 00:   1%|          | 128/22500 [17:11<55:45:01,  8.97s/it, loss=7.356]stty: 'standard input': Inappropriate ioctl for device\n"
     ]
    },
    {
     "name": "stdout",
     "output_type": "stream",
     "text": [
      "--------------------------------------------------------------------------------\n",
      "    SOURCE: Swiss banking giant Credit Suisse will be cutting 500 more jobs in its investment bank division, bringing the total shed at the unit to 2,000 since the financial crisis began.\n",
      "    TARGET: Credit Suisse will be cutting 500 more jobs.\n",
      " PREDICTED: A A A has A\n"
     ]
    },
    {
     "name": "stderr",
     "output_type": "stream",
     "text": [
      "Processing epoch: 00:   1%|          | 129/22500 [17:14<56:40:54,  9.12s/it, loss=7.356]"
     ]
    },
    {
     "name": "stdout",
     "output_type": "stream",
     "text": [
      "--------------------------------------------------------------------------------\n",
      "    SOURCE: Mumbai, March 9 Goa Governor SC Jamir Sunday morning took additional charge as Maharashtra governor at the Raj Bhavan here after he was administered the oath of office by Bombay High Court Chief Justice Swatanter Kumar.\n",
      "    TARGET: Mumbai, Governor morning took additional charge as Maharashtra governor.\n",
      " PREDICTED: A A A has A\n",
      "--------------------------------------------------------------------------------\n"
     ]
    },
    {
     "name": "stderr",
     "output_type": "stream",
     "text": [
      "Processing epoch: 00:   1%|          | 129/22500 [17:20<56:40:54,  9.12s/it, loss=7.397]stty: 'standard input': Inappropriate ioctl for device\n"
     ]
    },
    {
     "name": "stdout",
     "output_type": "stream",
     "text": [
      "--------------------------------------------------------------------------------\n",
      "    SOURCE: FORMER premier Bob Carr has had to enrol as a political lobbyist on the register of the Prime Minister and Cabinet under new rules governing access to Federal MPs.\n",
      "    TARGET: Bob Carr has had to enrol as a lobbyist.\n",
      " PREDICTED: A A A\n"
     ]
    },
    {
     "name": "stderr",
     "output_type": "stream",
     "text": [
      "Processing epoch: 00:   1%|          | 130/22500 [17:23<55:51:17,  8.99s/it, loss=7.397]"
     ]
    },
    {
     "name": "stdout",
     "output_type": "stream",
     "text": [
      "--------------------------------------------------------------------------------\n",
      "    SOURCE: AmTrust Financial, a privately held regional bank holding company based in Cleveland, has just filed for bankruptcy.\n",
      "    TARGET: AmTrust Financial has filed for bankruptcy.\n",
      " PREDICTED: A A A\n",
      "--------------------------------------------------------------------------------\n"
     ]
    },
    {
     "name": "stderr",
     "output_type": "stream",
     "text": [
      "Processing epoch: 00:   1%|          | 130/22500 [17:29<55:51:17,  8.99s/it, loss=6.983]stty: 'standard input': Inappropriate ioctl for device\n"
     ]
    },
    {
     "name": "stdout",
     "output_type": "stream",
     "text": [
      "--------------------------------------------------------------------------------\n",
      "    SOURCE: Brazil legend Edson Arantes Do Nascimento ``Pele'' has undergone hip replacement surgery in Sao Paulo after complaining of pain in the area for some time.\n",
      "    TARGET: Pele has undergone hip replacement surgery.\n",
      " PREDICTED: A A\n"
     ]
    },
    {
     "name": "stderr",
     "output_type": "stream",
     "text": [
      "Processing epoch: 00:   1%|          | 131/22500 [17:31<54:56:50,  8.84s/it, loss=6.983]"
     ]
    },
    {
     "name": "stdout",
     "output_type": "stream",
     "text": [
      "--------------------------------------------------------------------------------\n",
      "    SOURCE: Four of the recently created districts in Ashanti region will benefit from 100 mechanized bore holes this year for enhanced access to portable water under the Extended Programme of the fourth phase of the rural water supply project.\n",
      "    TARGET: Four of the districts in Ashanti region will benefit from 100 mechanized bore holes.\n",
      " PREDICTED: A A\n",
      "--------------------------------------------------------------------------------\n"
     ]
    },
    {
     "name": "stderr",
     "output_type": "stream",
     "text": [
      "Processing epoch: 00:   1%|          | 131/22500 [17:37<54:56:50,  8.84s/it, loss=8.067]stty: 'standard input': Inappropriate ioctl for device\n"
     ]
    },
    {
     "name": "stdout",
     "output_type": "stream",
     "text": [
      "--------------------------------------------------------------------------------\n",
      "    SOURCE: Conway police and state troopers are investigating an incident where a pedestrian was struck by a vehicle in Conway city limits, according to authorities.\n",
      "    TARGET: A pedestrian was struck by a vehicle in Conway limits.\n",
      " PREDICTED: A A\n"
     ]
    },
    {
     "name": "stderr",
     "output_type": "stream",
     "text": [
      "Processing epoch: 00:   1%|          | 132/22500 [17:40<54:50:27,  8.83s/it, loss=8.067]"
     ]
    },
    {
     "name": "stdout",
     "output_type": "stream",
     "text": [
      "--------------------------------------------------------------------------------\n",
      "    SOURCE: SAILORS have been put on alert for timber from the sunken cargo ship Ice Prince which is drifting towards the Solent.\n",
      "    TARGET: SAILORS have been put on alert for timber from the sunken ship.\n",
      " PREDICTED: A A\n",
      "--------------------------------------------------------------------------------\n"
     ]
    },
    {
     "name": "stderr",
     "output_type": "stream",
     "text": [
      "Processing epoch: 00:   1%|          | 132/22500 [17:46<54:50:27,  8.83s/it, loss=7.880]stty: 'standard input': Inappropriate ioctl for device\n"
     ]
    },
    {
     "name": "stdout",
     "output_type": "stream",
     "text": [
      "--------------------------------------------------------------------------------\n",
      "    SOURCE: Ellie Greenwich, who wrote such classic pop songs as Chapel of Love, River Deep, Mountain High and Be My Baby with Phil Spector, has died aged 68, her niece says.\n",
      "    TARGET: Ellie Greenwich, who wrote, has died.\n",
      " PREDICTED: A A A\n"
     ]
    },
    {
     "name": "stderr",
     "output_type": "stream",
     "text": [
      "Processing epoch: 00:   1%|          | 133/22500 [17:49<54:35:44,  8.79s/it, loss=7.880]"
     ]
    },
    {
     "name": "stdout",
     "output_type": "stream",
     "text": [
      "--------------------------------------------------------------------------------\n",
      "    SOURCE: SANA'A, May 29 - The US Senator John McCain and his accompanying delegation left Sana'a on Wednesday after an official visit to Yemen, during which he met with President Abdo Rabbo Mansour Hadi.\n",
      "    TARGET: SANA'A - The US Senator John McCain left.\n",
      " PREDICTED: A A A\n",
      "--------------------------------------------------------------------------------\n"
     ]
    },
    {
     "name": "stderr",
     "output_type": "stream",
     "text": [
      "Processing epoch: 00:   1%|          | 133/22500 [17:55<54:35:44,  8.79s/it, loss=6.880]stty: 'standard input': Inappropriate ioctl for device\n"
     ]
    },
    {
     "name": "stdout",
     "output_type": "stream",
     "text": [
      "--------------------------------------------------------------------------------\n",
      "    SOURCE: Berlin, Feb 14 : ``My Name is Khan'' producer and director Karan Johar, whose film is being lauded by audiences and critics, says he was fed up with the typical Bollywood stuff.\n",
      "    TARGET: And Karan Johar was fed up with the Bollywood stuff.\n",
      " PREDICTED: A A A\n"
     ]
    },
    {
     "name": "stderr",
     "output_type": "stream",
     "text": [
      "Processing epoch: 00:   1%|          | 134/22500 [17:57<54:29:23,  8.77s/it, loss=6.880]"
     ]
    },
    {
     "name": "stdout",
     "output_type": "stream",
     "text": [
      "--------------------------------------------------------------------------------\n",
      "    SOURCE: External Affairs Minister SM Krishna on Sunday said India does not plan to limit its future development engagement in Afghanistan to a particular time frame, or only to the presently planned projects.\n",
      "    TARGET: India does not plan to limit its future development engagement in Afghanistan.\n",
      " PREDICTED: A A A\n",
      "--------------------------------------------------------------------------------\n"
     ]
    },
    {
     "name": "stderr",
     "output_type": "stream",
     "text": [
      "Processing epoch: 00:   1%|          | 134/22500 [18:04<54:29:23,  8.77s/it, loss=7.330]stty: 'standard input': Inappropriate ioctl for device\n"
     ]
    },
    {
     "name": "stdout",
     "output_type": "stream",
     "text": [
      "--------------------------------------------------------------------------------\n",
      "    SOURCE: Awami National Party leader Shahi Syed hit back at the MQM, after allegations were leveled against his party.\n",
      "    TARGET: Shahi Syed hit back at the MQM.\n",
      " PREDICTED: A A A\n"
     ]
    },
    {
     "name": "stderr",
     "output_type": "stream",
     "text": [
      "Processing epoch: 00:   1%|          | 135/22500 [18:06<54:51:12,  8.83s/it, loss=7.330]"
     ]
    },
    {
     "name": "stdout",
     "output_type": "stream",
     "text": [
      "--------------------------------------------------------------------------------\n",
      "    SOURCE: Portuguese striker Cristiano Ronaldo says that he feels like a newborn baby at Real Madrid, adding that in comparison to his stint with Manchester United, the level of freedom is much more.\n",
      "    TARGET: Cristiano Ronaldo feels like a newborn baby at Real Madrid.\n",
      " PREDICTED: A A A\n",
      "--------------------------------------------------------------------------------\n"
     ]
    },
    {
     "name": "stderr",
     "output_type": "stream",
     "text": [
      "Processing epoch: 00:   1%|          | 135/22500 [18:13<54:51:12,  8.83s/it, loss=7.271]stty: 'standard input': Inappropriate ioctl for device\n"
     ]
    },
    {
     "name": "stdout",
     "output_type": "stream",
     "text": [
      "--------------------------------------------------------------------------------\n",
      "    SOURCE: Senior Congress leader and Gujarat Governor-designate, Devendra Nath Dwivedi, passed away at the age of 74 in New Delhi yesterday.\n",
      "    TARGET: Leader and Gujarat Governor-designate, Devendra Nath Dwivedi, passed away.\n",
      " PREDICTED: A A\n"
     ]
    },
    {
     "name": "stderr",
     "output_type": "stream",
     "text": [
      "Processing epoch: 00:   1%|          | 136/22500 [18:15<54:51:49,  8.83s/it, loss=7.271]"
     ]
    },
    {
     "name": "stdout",
     "output_type": "stream",
     "text": [
      "--------------------------------------------------------------------------------\n",
      "    SOURCE: Nicki Minaj has revealed a new song this evening titled, Roman Reloaded, featuring Lil Wayne.\n",
      "    TARGET: Nicki Minaj has revealed a new song, Roman Reloaded.\n",
      " PREDICTED: A A\n",
      "--------------------------------------------------------------------------------\n"
     ]
    },
    {
     "name": "stderr",
     "output_type": "stream",
     "text": [
      "Processing epoch: 00:   1%|          | 136/22500 [18:23<54:51:49,  8.83s/it, loss=7.712]stty: 'standard input': Inappropriate ioctl for device\n"
     ]
    },
    {
     "name": "stdout",
     "output_type": "stream",
     "text": [
      "--------------------------------------------------------------------------------\n",
      "    SOURCE: Two Italian soldiers were killed and two others were seriously injured on Monday when a bomb hit a NATO military convoy in northwestern Afghanistan, Italy's foreign ministry told AFP.\n",
      "    TARGET: Two Italian soldiers were killed a bomb hit in Afghanistan.\n",
      " PREDICTED: A A\n"
     ]
    },
    {
     "name": "stderr",
     "output_type": "stream",
     "text": [
      "Processing epoch: 00:   1%|          | 137/22500 [18:25<56:37:16,  9.11s/it, loss=7.712]"
     ]
    },
    {
     "name": "stdout",
     "output_type": "stream",
     "text": [
      "--------------------------------------------------------------------------------\n",
      "    SOURCE: Both gold and silver prices spurted on brisk buying by stockists and jewellery makers for the ongoing marriage season amid firm global cues.\n",
      "    TARGET: Gold and prices spurted on brisk buying.\n",
      " PREDICTED: A A\n",
      "--------------------------------------------------------------------------------\n"
     ]
    },
    {
     "name": "stderr",
     "output_type": "stream",
     "text": [
      "Processing epoch: 00:   1%|          | 137/22500 [18:31<56:37:16,  9.11s/it, loss=7.547]stty: 'standard input': Inappropriate ioctl for device\n"
     ]
    },
    {
     "name": "stdout",
     "output_type": "stream",
     "text": [
      "--------------------------------------------------------------------------------\n",
      "    SOURCE: ``Purple Rain'' hitmaker Prince has been ordered to pay a video editor $57,600 for unpaid services rendered last year.\n",
      "    TARGET: Prince has been ordered to pay a video editor $ 57,600 for services rendered.\n",
      " PREDICTED: A A\n"
     ]
    },
    {
     "name": "stderr",
     "output_type": "stream",
     "text": [
      "Processing epoch: 00:   1%|          | 138/22500 [18:33<54:38:18,  8.80s/it, loss=7.547]"
     ]
    },
    {
     "name": "stdout",
     "output_type": "stream",
     "text": [
      "--------------------------------------------------------------------------------\n",
      "    SOURCE: A drug deal went bad in the Galleria parking lot Tuesday night, and now three men are behind bars.\n",
      "    TARGET: A drug deal went bad in the Galleria parking lot.\n",
      " PREDICTED: A A\n",
      "--------------------------------------------------------------------------------\n"
     ]
    },
    {
     "name": "stderr",
     "output_type": "stream",
     "text": [
      "Processing epoch: 00:   1%|          | 138/22500 [18:39<54:38:18,  8.80s/it, loss=7.379]stty: 'standard input': Inappropriate ioctl for device\n"
     ]
    },
    {
     "name": "stdout",
     "output_type": "stream",
     "text": [
      "--------------------------------------------------------------------------------\n",
      "    SOURCE: THE Only Way Is Essex star Amy Childs says her near run in with Katie Price wasn't what it seemed.\n",
      "    TARGET: THE Only Way Is Essex star Amy Childs says.\n",
      " PREDICTED: A A\n"
     ]
    },
    {
     "name": "stderr",
     "output_type": "stream",
     "text": [
      "Processing epoch: 00:   1%|          | 139/22500 [18:42<54:25:00,  8.76s/it, loss=7.379]"
     ]
    },
    {
     "name": "stdout",
     "output_type": "stream",
     "text": [
      "--------------------------------------------------------------------------------\n",
      "    SOURCE: Panasonic has launched its online shopping portal known as ePlus today.\n",
      "    TARGET: Panasonic has launched its online shopping portal.\n",
      " PREDICTED: A A\n",
      "--------------------------------------------------------------------------------\n"
     ]
    },
    {
     "name": "stderr",
     "output_type": "stream",
     "text": [
      "Processing epoch: 00:   1%|          | 139/22500 [18:51<54:25:00,  8.76s/it, loss=6.692]stty: 'standard input': Inappropriate ioctl for device\n"
     ]
    },
    {
     "name": "stdout",
     "output_type": "stream",
     "text": [
      "--------------------------------------------------------------------------------\n",
      "    SOURCE: Charges were filed on Monday against the father of a 18-month-old boy who died inside a parked car last week.\n",
      "    TARGET: Charges were filed against the father of a boy who died inside a car.\n",
      " PREDICTED: A\n"
     ]
    },
    {
     "name": "stderr",
     "output_type": "stream",
     "text": [
      "Processing epoch: 00:   1%|          | 140/22500 [18:53<59:31:34,  9.58s/it, loss=6.692]"
     ]
    },
    {
     "name": "stdout",
     "output_type": "stream",
     "text": [
      "--------------------------------------------------------------------------------\n",
      "    SOURCE: New Delhi, Feb 20 Delhi Chief Minister Sheila Dikshit today said the media should show both sides of the picture as only harping on ``sensationalism and negativity'' will make a ``cynical'' nation.\n",
      "    TARGET: The media should show both sides of the picture.\n",
      " PREDICTED: A\n",
      "--------------------------------------------------------------------------------\n"
     ]
    },
    {
     "name": "stderr",
     "output_type": "stream",
     "text": [
      "Processing epoch: 00:   1%|          | 140/22500 [18:59<59:31:34,  9.58s/it, loss=7.357]stty: 'standard input': Inappropriate ioctl for device\n"
     ]
    },
    {
     "name": "stdout",
     "output_type": "stream",
     "text": [
      "--------------------------------------------------------------------------------\n",
      "    SOURCE: Commerce Secretary Gary Locke announced Tuesday that the Census Bureau, which compiles the US population survey every 10 years, is returning $1.6 billion of its almost $7 billion operational budget.\n",
      "    TARGET: The Census Bureau, which compiles, is returning $ 1.6 billion of its operational budget.\n",
      " PREDICTED: A\n"
     ]
    },
    {
     "name": "stderr",
     "output_type": "stream",
     "text": [
      "Processing epoch: 00:   1%|          | 141/22500 [19:01<56:36:36,  9.11s/it, loss=7.357]"
     ]
    },
    {
     "name": "stdout",
     "output_type": "stream",
     "text": [
      "--------------------------------------------------------------------------------\n",
      "    SOURCE: Congratulations poured in for master blaster Sachin Tendulkar who became the first batsman in Test cricket's history to score 50 centuries.\n",
      "    TARGET: Congratulations poured in for Sachin Tendulkar.\n",
      " PREDICTED: A\n",
      "--------------------------------------------------------------------------------\n"
     ]
    },
    {
     "name": "stderr",
     "output_type": "stream",
     "text": [
      "Processing epoch: 00:   1%|          | 141/22500 [19:08<56:36:36,  9.11s/it, loss=7.409]stty: 'standard input': Inappropriate ioctl for device\n"
     ]
    },
    {
     "name": "stdout",
     "output_type": "stream",
     "text": [
      "--------------------------------------------------------------------------------\n",
      "    SOURCE: The New England Patriots, already deeper than any team in the NFL at the tight end position with Rob Gronkowski and Aaron Hernandez, had added yet another tight end.\n",
      "    TARGET: The New England Patriots had added yet another tight end.\n",
      " PREDICTED: A\n"
     ]
    },
    {
     "name": "stderr",
     "output_type": "stream",
     "text": [
      "Processing epoch: 00:   1%|          | 142/22500 [19:10<56:24:13,  9.08s/it, loss=7.409]"
     ]
    },
    {
     "name": "stdout",
     "output_type": "stream",
     "text": [
      "--------------------------------------------------------------------------------\n",
      "    SOURCE: OKLAHOMA CITY A mile-wide tornado churned through the Oklahoma City suburbs, destroying homes for the second day in a row Monday, as part of a severe weather outbreak that was expected to spread in other parts of the Plains and Midwest.\n",
      "    TARGET: A tornado churned through the Oklahoma City suburbs.\n",
      " PREDICTED: A\n",
      "--------------------------------------------------------------------------------\n"
     ]
    },
    {
     "name": "stderr",
     "output_type": "stream",
     "text": [
      "Processing epoch: 00:   1%|          | 142/22500 [19:17<56:24:13,  9.08s/it, loss=7.527]stty: 'standard input': Inappropriate ioctl for device\n"
     ]
    },
    {
     "name": "stdout",
     "output_type": "stream",
     "text": [
      "--------------------------------------------------------------------------------\n",
      "    SOURCE: Teva Pharmaceutical Industries Ltd. and Barr Pharmaceuticals, Inc. announced recently that they have signed a definitive agreement under which Teva will acquire Barr, the fourth largest generic drug company worldwide.\n",
      "    TARGET: Teva will acquire Barr.\n",
      " PREDICTED: A\n"
     ]
    },
    {
     "name": "stderr",
     "output_type": "stream",
     "text": [
      "Processing epoch: 00:   1%|          | 143/22500 [19:19<55:43:57,  8.97s/it, loss=7.527]"
     ]
    },
    {
     "name": "stdout",
     "output_type": "stream",
     "text": [
      "--------------------------------------------------------------------------------\n",
      "    SOURCE: Yahoo said Thursday it launched an online property listing site, allowing real estate brokers to post homes for sale for free on the Web.\n",
      "    TARGET: Yahoo said it launched an online property listing site.\n",
      " PREDICTED: A\n",
      "--------------------------------------------------------------------------------\n"
     ]
    },
    {
     "name": "stderr",
     "output_type": "stream",
     "text": [
      "Processing epoch: 00:   1%|          | 143/22500 [19:24<55:43:57,  8.97s/it, loss=7.086]stty: 'standard input': Inappropriate ioctl for device\n"
     ]
    },
    {
     "name": "stdout",
     "output_type": "stream",
     "text": [
      "--------------------------------------------------------------------------------\n",
      "    SOURCE: What happens when jazz meets Kunqu Opera?\n",
      "    TARGET: When jazz meets Kunqu Opera.\n",
      " PREDICTED: \n"
     ]
    },
    {
     "name": "stderr",
     "output_type": "stream",
     "text": [
      "Processing epoch: 00:   1%|          | 144/22500 [19:26<52:32:26,  8.46s/it, loss=7.086]"
     ]
    },
    {
     "name": "stdout",
     "output_type": "stream",
     "text": [
      "--------------------------------------------------------------------------------\n",
      "    SOURCE: DSP Senior Engineer / Embedded Engineer required for an immediate start for a role based in Yorkshire.\n",
      "    TARGET: DSP Engineer / Embedded Engineer.\n",
      " PREDICTED: \n",
      "--------------------------------------------------------------------------------\n"
     ]
    },
    {
     "name": "stderr",
     "output_type": "stream",
     "text": [
      "Processing epoch: 00:   1%|          | 144/22500 [19:33<52:32:26,  8.46s/it, loss=7.411]stty: 'standard input': Inappropriate ioctl for device\n"
     ]
    },
    {
     "name": "stdout",
     "output_type": "stream",
     "text": [
      "--------------------------------------------------------------------------------\n",
      "    SOURCE: Puzzle Quest 2 will be coming to that PC as well as mobile phones, iPhones and iPads in North America this summer.\n",
      "    TARGET: Puzzle Quest 2 will be coming to that PC, this summer.\n",
      " PREDICTED: \n"
     ]
    },
    {
     "name": "stderr",
     "output_type": "stream",
     "text": [
      "Processing epoch: 00:   1%|          | 145/22500 [19:35<52:58:06,  8.53s/it, loss=7.411]"
     ]
    },
    {
     "name": "stdout",
     "output_type": "stream",
     "text": [
      "--------------------------------------------------------------------------------\n",
      "    SOURCE: PlayStation 4 pre-orders surged following Sony's E3 press conference, SCEE UK & Ireland MD Fergal Gara has told VideoGamer.com.\n",
      "    TARGET: PlayStation 4 pre-orders surged following Sony's E3 conference.\n",
      " PREDICTED: \n",
      "--------------------------------------------------------------------------------\n"
     ]
    },
    {
     "name": "stderr",
     "output_type": "stream",
     "text": [
      "Processing epoch: 00:   1%|          | 145/22500 [19:42<52:58:06,  8.53s/it, loss=7.327]stty: 'standard input': Inappropriate ioctl for device\n"
     ]
    },
    {
     "name": "stdout",
     "output_type": "stream",
     "text": [
      "--------------------------------------------------------------------------------\n",
      "    SOURCE: A new French study found that people with tattoos and/or piercings tend to drink more alcohol than their non-inked counterparts.\n",
      "    TARGET: People with tattoos / tend to drink more alcohol.\n",
      " PREDICTED: \n"
     ]
    },
    {
     "name": "stderr",
     "output_type": "stream",
     "text": [
      "Processing epoch: 00:   1%|          | 146/22500 [19:44<53:58:47,  8.69s/it, loss=7.327]"
     ]
    },
    {
     "name": "stdout",
     "output_type": "stream",
     "text": [
      "--------------------------------------------------------------------------------\n",
      "    SOURCE: A Florence man is going to jail for child exploitation, announced Attorney General Jim Hood today.\n",
      "    TARGET: A Florence man is going to jail for child exploitation.\n",
      " PREDICTED: \n",
      "--------------------------------------------------------------------------------\n"
     ]
    },
    {
     "name": "stderr",
     "output_type": "stream",
     "text": [
      "Processing epoch: 00:   1%|          | 146/22500 [19:51<53:58:47,  8.69s/it, loss=7.197]stty: 'standard input': Inappropriate ioctl for device\n"
     ]
    },
    {
     "name": "stdout",
     "output_type": "stream",
     "text": [
      "--------------------------------------------------------------------------------\n",
      "    SOURCE: Dissident Labour Chris Carter is not going anywhere and has no plans to quit his seat in Parliament.\n",
      "    TARGET: Chris Carter is not going anywhere.\n",
      " PREDICTED: \n"
     ]
    },
    {
     "name": "stderr",
     "output_type": "stream",
     "text": [
      "Processing epoch: 00:   1%|          | 147/22500 [19:53<54:02:57,  8.70s/it, loss=7.197]"
     ]
    },
    {
     "name": "stdout",
     "output_type": "stream",
     "text": [
      "--------------------------------------------------------------------------------\n",
      "    SOURCE: It's interesting that Bob Gibbs is criticizing an effort that he helped produce.\n",
      "    TARGET: Bob Gibbs is criticizing an effort he helped produce.\n",
      " PREDICTED: \n",
      "--------------------------------------------------------------------------------\n"
     ]
    },
    {
     "name": "stderr",
     "output_type": "stream",
     "text": [
      "Processing epoch: 00:   1%|          | 147/22500 [19:59<54:02:57,  8.70s/it, loss=7.477]stty: 'standard input': Inappropriate ioctl for device\n"
     ]
    },
    {
     "name": "stdout",
     "output_type": "stream",
     "text": [
      "--------------------------------------------------------------------------------\n",
      "    SOURCE: Puerto Rican singer Ricky Martin defended gay rights in Managua, slammed child slavery and pornography, and promised that his only concert in Nicaragua will be a 'great fiesta'.\n",
      "    TARGET: Ricky Martin defended gay rights.\n",
      " PREDICTED: The\n"
     ]
    },
    {
     "name": "stderr",
     "output_type": "stream",
     "text": [
      "Processing epoch: 00:   1%|          | 148/22500 [20:01<54:01:10,  8.70s/it, loss=7.477]"
     ]
    },
    {
     "name": "stdout",
     "output_type": "stream",
     "text": [
      "--------------------------------------------------------------------------------\n",
      "    SOURCE: World Cup fever will give ITV revenues a boost, but the outlook for the channel after the final whistle looks bleak.\n",
      "    TARGET: World Cup fever will give ITV revenues a boost.\n",
      " PREDICTED: The\n",
      "--------------------------------------------------------------------------------\n"
     ]
    },
    {
     "name": "stderr",
     "output_type": "stream",
     "text": [
      "Processing epoch: 00:   1%|          | 148/22500 [20:08<54:01:10,  8.70s/it, loss=7.525]stty: 'standard input': Inappropriate ioctl for device\n"
     ]
    },
    {
     "name": "stdout",
     "output_type": "stream",
     "text": [
      "--------------------------------------------------------------------------------\n",
      "    SOURCE: Further proving 2011 is thus far a hot year for digital ad firm fundraising, mobile advertising company Millennial Media has raised $27.5 million, bringing its capital to date to $65 million.\n",
      "    TARGET: Millennial Media has raised $ 27.5 million.\n",
      " PREDICTED: The\n"
     ]
    },
    {
     "name": "stderr",
     "output_type": "stream",
     "text": [
      "Processing epoch: 00:   1%|          | 149/22500 [20:10<54:40:31,  8.81s/it, loss=7.525]"
     ]
    },
    {
     "name": "stdout",
     "output_type": "stream",
     "text": [
      "--------------------------------------------------------------------------------\n",
      "    SOURCE: Galliford Try plc, the housebuilding and construction group, announces that its Building business has been appointed to refurbish the Alphabeta office building in Central London in a contract worth £36 million.\n",
      "    TARGET: Galliford Try plc.\n",
      " PREDICTED: The\n",
      "--------------------------------------------------------------------------------\n"
     ]
    },
    {
     "name": "stderr",
     "output_type": "stream",
     "text": [
      "Processing epoch: 00:   1%|          | 149/22500 [20:18<54:40:31,  8.81s/it, loss=7.580]stty: 'standard input': Inappropriate ioctl for device\n"
     ]
    },
    {
     "name": "stdout",
     "output_type": "stream",
     "text": [
      "--------------------------------------------------------------------------------\n",
      "    SOURCE: HILLARY Clinton will visit Indonesia on her first overseas trip as US Secretary of State because she wants to ``reach out'' to the Muslim world.\n",
      "    TARGET: HILLARY Clinton will visit Indonesia.\n",
      " PREDICTED: The\n"
     ]
    },
    {
     "name": "stderr",
     "output_type": "stream",
     "text": [
      "Processing epoch: 00:   1%|          | 150/22500 [20:22<59:34:02,  9.59s/it, loss=7.580]"
     ]
    },
    {
     "name": "stdout",
     "output_type": "stream",
     "text": [
      "--------------------------------------------------------------------------------\n",
      "    SOURCE: SOUTH BRUNSWICK A 41-year old Somerset County man was struck and killed early Thursday on Route 1 in South Brunswick.\n",
      "    TARGET: SOUTH BRUNSWICK A Somerset County man was struck and killed on Route 1.\n",
      " PREDICTED: The\n",
      "--------------------------------------------------------------------------------\n"
     ]
    },
    {
     "name": "stderr",
     "output_type": "stream",
     "text": [
      "Processing epoch: 00:   1%|          | 150/22500 [20:28<50:51:27,  8.19s/it, loss=7.580]\n"
     ]
    },
    {
     "ename": "KeyboardInterrupt",
     "evalue": "",
     "output_type": "error",
     "traceback": [
      "\u001b[0;31m---------------------------------------------------------------------------\u001b[0m",
      "\u001b[0;31mKeyboardInterrupt\u001b[0m                         Traceback (most recent call last)",
      "Cell \u001b[0;32mIn[10], line 7\u001b[0m\n\u001b[1;32m      3\u001b[0m \u001b[38;5;66;03m# loss_fn = nn.CrossEntropyLoss().to(device)\u001b[39;00m\n\u001b[1;32m      5\u001b[0m optimizer \u001b[38;5;241m=\u001b[39m torch\u001b[38;5;241m.\u001b[39moptim\u001b[38;5;241m.\u001b[39mAdam(transformer\u001b[38;5;241m.\u001b[39mparameters(), lr\u001b[38;5;241m=\u001b[39m\u001b[38;5;241m1e-3\u001b[39m)\n\u001b[0;32m----> 7\u001b[0m \u001b[43mtrain_model\u001b[49m\u001b[43m(\u001b[49m\u001b[43mtransformer\u001b[49m\u001b[43m,\u001b[49m\u001b[43m \u001b[49m\u001b[38;5;241;43m1\u001b[39;49m\u001b[43m,\u001b[49m\u001b[43m \u001b[49m\u001b[43mdevice\u001b[49m\u001b[38;5;241;43m=\u001b[39;49m\u001b[43mdevice\u001b[49m\u001b[43m,\u001b[49m\u001b[43m \u001b[49m\u001b[43mtrain_loader\u001b[49m\u001b[38;5;241;43m=\u001b[39;49m\u001b[43mtrain_dataloader\u001b[49m\u001b[43m,\u001b[49m\u001b[43m \u001b[49m\u001b[43mval_loader\u001b[49m\u001b[38;5;241;43m=\u001b[39;49m\u001b[43mval_dataloader\u001b[49m\u001b[43m,\u001b[49m\u001b[43m \u001b[49m\u001b[43mloss_fn\u001b[49m\u001b[38;5;241;43m=\u001b[39;49m\u001b[43mloss_fn\u001b[49m\u001b[43m,\u001b[49m\u001b[43m \u001b[49m\u001b[43moptimizer\u001b[49m\u001b[38;5;241;43m=\u001b[39;49m\u001b[43moptimizer\u001b[49m\u001b[43m,\u001b[49m\u001b[43m \u001b[49m\u001b[43mtokenizer_tgt\u001b[49m\u001b[43m \u001b[49m\u001b[38;5;241;43m=\u001b[39;49m\u001b[43m \u001b[49m\u001b[43mtokenizer_tgt\u001b[49m\u001b[43m,\u001b[49m\u001b[43m \u001b[49m\u001b[43mtgt_seq_len\u001b[49m\u001b[38;5;241;43m=\u001b[39;49m\u001b[43mMAX_TGT_LEN\u001b[49m\u001b[43m,\u001b[49m\u001b[43m \u001b[49m\u001b[43moutput_path\u001b[49m\u001b[38;5;241;43m=\u001b[39;49m\u001b[38;5;124;43m'\u001b[39;49m\u001b[38;5;124;43mtutaj.pth\u001b[39;49m\u001b[38;5;124;43m'\u001b[39;49m\u001b[43m)\u001b[49m\n",
      "File \u001b[0;32m~/STUDIA/AMLM/PROJEKT/origin_repo/AI-TSummarizer/train.py:113\u001b[0m, in \u001b[0;36mtrain_model\u001b[0;34m(model, num_epochs, device, train_loader, val_loader, loss_fn, optimizer, tokenizer_tgt, tgt_seq_len, output_path)\u001b[0m\n\u001b[1;32m    109\u001b[0m \u001b[38;5;66;03m# Compute the loss using a simple cross entropy\u001b[39;00m\n\u001b[1;32m    110\u001b[0m loss \u001b[38;5;241m=\u001b[39m loss_fn(proj_output\u001b[38;5;241m.\u001b[39mview(\u001b[38;5;241m-\u001b[39m\u001b[38;5;241m1\u001b[39m, tokenizer_tgt\u001b[38;5;241m.\u001b[39mget_vocab_size()), label\u001b[38;5;241m.\u001b[39mview(\u001b[38;5;241m-\u001b[39m\u001b[38;5;241m1\u001b[39m))\n\u001b[0;32m--> 113\u001b[0m \u001b[43mloss\u001b[49m\u001b[38;5;241;43m.\u001b[39;49m\u001b[43mbackward\u001b[49m\u001b[43m(\u001b[49m\u001b[43m)\u001b[49m \u001b[38;5;66;03m# jak to przez to nie działa no to jaja\u001b[39;00m\n\u001b[1;32m    114\u001b[0m batch_iterator\u001b[38;5;241m.\u001b[39mset_postfix({\u001b[38;5;124m\"\u001b[39m\u001b[38;5;124mloss\u001b[39m\u001b[38;5;124m\"\u001b[39m: \u001b[38;5;124mf\u001b[39m\u001b[38;5;124m\"\u001b[39m\u001b[38;5;132;01m{\u001b[39;00mloss\u001b[38;5;241m.\u001b[39mitem()\u001b[38;5;132;01m:\u001b[39;00m\u001b[38;5;124m6.3f\u001b[39m\u001b[38;5;132;01m}\u001b[39;00m\u001b[38;5;124m\"\u001b[39m})\n\u001b[1;32m    115\u001b[0m optimizer\u001b[38;5;241m.\u001b[39mstep()\n",
      "File \u001b[0;32m~/miniconda3/envs/torch/lib/python3.10/site-packages/torch/_tensor.py:525\u001b[0m, in \u001b[0;36mTensor.backward\u001b[0;34m(self, gradient, retain_graph, create_graph, inputs)\u001b[0m\n\u001b[1;32m    515\u001b[0m \u001b[38;5;28;01mif\u001b[39;00m has_torch_function_unary(\u001b[38;5;28mself\u001b[39m):\n\u001b[1;32m    516\u001b[0m     \u001b[38;5;28;01mreturn\u001b[39;00m handle_torch_function(\n\u001b[1;32m    517\u001b[0m         Tensor\u001b[38;5;241m.\u001b[39mbackward,\n\u001b[1;32m    518\u001b[0m         (\u001b[38;5;28mself\u001b[39m,),\n\u001b[0;32m   (...)\u001b[0m\n\u001b[1;32m    523\u001b[0m         inputs\u001b[38;5;241m=\u001b[39minputs,\n\u001b[1;32m    524\u001b[0m     )\n\u001b[0;32m--> 525\u001b[0m \u001b[43mtorch\u001b[49m\u001b[38;5;241;43m.\u001b[39;49m\u001b[43mautograd\u001b[49m\u001b[38;5;241;43m.\u001b[39;49m\u001b[43mbackward\u001b[49m\u001b[43m(\u001b[49m\n\u001b[1;32m    526\u001b[0m \u001b[43m    \u001b[49m\u001b[38;5;28;43mself\u001b[39;49m\u001b[43m,\u001b[49m\u001b[43m \u001b[49m\u001b[43mgradient\u001b[49m\u001b[43m,\u001b[49m\u001b[43m \u001b[49m\u001b[43mretain_graph\u001b[49m\u001b[43m,\u001b[49m\u001b[43m \u001b[49m\u001b[43mcreate_graph\u001b[49m\u001b[43m,\u001b[49m\u001b[43m \u001b[49m\u001b[43minputs\u001b[49m\u001b[38;5;241;43m=\u001b[39;49m\u001b[43minputs\u001b[49m\n\u001b[1;32m    527\u001b[0m \u001b[43m\u001b[49m\u001b[43m)\u001b[49m\n",
      "File \u001b[0;32m~/miniconda3/envs/torch/lib/python3.10/site-packages/torch/autograd/__init__.py:267\u001b[0m, in \u001b[0;36mbackward\u001b[0;34m(tensors, grad_tensors, retain_graph, create_graph, grad_variables, inputs)\u001b[0m\n\u001b[1;32m    262\u001b[0m     retain_graph \u001b[38;5;241m=\u001b[39m create_graph\n\u001b[1;32m    264\u001b[0m \u001b[38;5;66;03m# The reason we repeat the same comment below is that\u001b[39;00m\n\u001b[1;32m    265\u001b[0m \u001b[38;5;66;03m# some Python versions print out the first line of a multi-line function\u001b[39;00m\n\u001b[1;32m    266\u001b[0m \u001b[38;5;66;03m# calls in the traceback and some print out the last line\u001b[39;00m\n\u001b[0;32m--> 267\u001b[0m \u001b[43m_engine_run_backward\u001b[49m\u001b[43m(\u001b[49m\n\u001b[1;32m    268\u001b[0m \u001b[43m    \u001b[49m\u001b[43mtensors\u001b[49m\u001b[43m,\u001b[49m\n\u001b[1;32m    269\u001b[0m \u001b[43m    \u001b[49m\u001b[43mgrad_tensors_\u001b[49m\u001b[43m,\u001b[49m\n\u001b[1;32m    270\u001b[0m \u001b[43m    \u001b[49m\u001b[43mretain_graph\u001b[49m\u001b[43m,\u001b[49m\n\u001b[1;32m    271\u001b[0m \u001b[43m    \u001b[49m\u001b[43mcreate_graph\u001b[49m\u001b[43m,\u001b[49m\n\u001b[1;32m    272\u001b[0m \u001b[43m    \u001b[49m\u001b[43minputs\u001b[49m\u001b[43m,\u001b[49m\n\u001b[1;32m    273\u001b[0m \u001b[43m    \u001b[49m\u001b[43mallow_unreachable\u001b[49m\u001b[38;5;241;43m=\u001b[39;49m\u001b[38;5;28;43;01mTrue\u001b[39;49;00m\u001b[43m,\u001b[49m\n\u001b[1;32m    274\u001b[0m \u001b[43m    \u001b[49m\u001b[43maccumulate_grad\u001b[49m\u001b[38;5;241;43m=\u001b[39;49m\u001b[38;5;28;43;01mTrue\u001b[39;49;00m\u001b[43m,\u001b[49m\n\u001b[1;32m    275\u001b[0m \u001b[43m\u001b[49m\u001b[43m)\u001b[49m\n",
      "File \u001b[0;32m~/miniconda3/envs/torch/lib/python3.10/site-packages/torch/autograd/graph.py:744\u001b[0m, in \u001b[0;36m_engine_run_backward\u001b[0;34m(t_outputs, *args, **kwargs)\u001b[0m\n\u001b[1;32m    742\u001b[0m     unregister_hooks \u001b[38;5;241m=\u001b[39m _register_logging_hooks_on_whole_graph(t_outputs)\n\u001b[1;32m    743\u001b[0m \u001b[38;5;28;01mtry\u001b[39;00m:\n\u001b[0;32m--> 744\u001b[0m     \u001b[38;5;28;01mreturn\u001b[39;00m \u001b[43mVariable\u001b[49m\u001b[38;5;241;43m.\u001b[39;49m\u001b[43m_execution_engine\u001b[49m\u001b[38;5;241;43m.\u001b[39;49m\u001b[43mrun_backward\u001b[49m\u001b[43m(\u001b[49m\u001b[43m  \u001b[49m\u001b[38;5;66;43;03m# Calls into the C++ engine to run the backward pass\u001b[39;49;00m\n\u001b[1;32m    745\u001b[0m \u001b[43m        \u001b[49m\u001b[43mt_outputs\u001b[49m\u001b[43m,\u001b[49m\u001b[43m \u001b[49m\u001b[38;5;241;43m*\u001b[39;49m\u001b[43margs\u001b[49m\u001b[43m,\u001b[49m\u001b[43m \u001b[49m\u001b[38;5;241;43m*\u001b[39;49m\u001b[38;5;241;43m*\u001b[39;49m\u001b[43mkwargs\u001b[49m\n\u001b[1;32m    746\u001b[0m \u001b[43m    \u001b[49m\u001b[43m)\u001b[49m  \u001b[38;5;66;03m# Calls into the C++ engine to run the backward pass\u001b[39;00m\n\u001b[1;32m    747\u001b[0m \u001b[38;5;28;01mfinally\u001b[39;00m:\n\u001b[1;32m    748\u001b[0m     \u001b[38;5;28;01mif\u001b[39;00m attach_logging_hooks:\n",
      "\u001b[0;31mKeyboardInterrupt\u001b[0m: "
     ]
    }
   ],
   "source": [
    "device = 'cpu'\n",
    "loss_fn = nn.CrossEntropyLoss(ignore_index=tokenizer_src.token_to_id('[PAD]')).to(device)\n",
    "# loss_fn = nn.CrossEntropyLoss().to(device)\n",
    "\n",
    "optimizer = torch.optim.Adam(transformer.parameters(), lr=1e-3)\n",
    "\n",
    "train_model(transformer, 1, device=device, train_loader=train_dataloader, val_loader=val_dataloader, loss_fn=loss_fn, optimizer=optimizer, tokenizer_tgt = tokenizer_tgt, tgt_seq_len=MAX_TGT_LEN, output_path='tutaj.pth')\n",
    "\n"
   ]
  },
  {
   "cell_type": "code",
   "execution_count": null,
   "metadata": {},
   "outputs": [],
   "source": []
  },
  {
   "cell_type": "code",
   "execution_count": null,
   "metadata": {},
   "outputs": [],
   "source": []
  }
 ],
 "metadata": {
  "kernelspec": {
   "display_name": "torch",
   "language": "python",
   "name": "python3"
  },
  "language_info": {
   "codemirror_mode": {
    "name": "ipython",
    "version": 3
   },
   "file_extension": ".py",
   "mimetype": "text/x-python",
   "name": "python",
   "nbconvert_exporter": "python",
   "pygments_lexer": "ipython3",
   "version": "3.10.14"
  }
 },
 "nbformat": 4,
 "nbformat_minor": 2
}
